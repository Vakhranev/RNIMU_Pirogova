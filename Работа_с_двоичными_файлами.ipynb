{
  "nbformat": 4,
  "nbformat_minor": 0,
  "metadata": {
    "colab": {
      "provenance": [],
      "authorship_tag": "ABX9TyPItkv59SXmzTNQPUcYnmo7",
      "include_colab_link": true
    },
    "kernelspec": {
      "name": "python3",
      "display_name": "Python 3"
    },
    "language_info": {
      "name": "python"
    }
  },
  "cells": [
    {
      "cell_type": "markdown",
      "metadata": {
        "id": "view-in-github",
        "colab_type": "text"
      },
      "source": [
        "<a href=\"https://colab.research.google.com/github/Vakhranev/RNIMU_Pirogova/blob/main/%D0%A0%D0%B0%D0%B1%D0%BE%D1%82%D0%B0_%D1%81_%D0%B4%D0%B2%D0%BE%D0%B8%D1%87%D0%BD%D1%8B%D0%BC%D0%B8_%D1%84%D0%B0%D0%B9%D0%BB%D0%B0%D0%BC%D0%B8.ipynb\" target=\"_parent\"><img src=\"https://colab.research.google.com/assets/colab-badge.svg\" alt=\"Open In Colab\"/></a>"
      ]
    },
    {
      "cell_type": "code",
      "source": [
        "f = open('myfile1.bin', 'wb')\n",
        "d = b'\\x80\\x03]q\\x00(K\\x01\\x88G@\\x07\\n=p\\xa3\\xd7\\ne.'\n",
        "f.write(d)\n",
        "f.close()"
      ],
      "metadata": {
        "id": "ddg8Z01U6ztA"
      },
      "execution_count": 4,
      "outputs": []
    },
    {
      "cell_type": "code",
      "execution_count": 5,
      "metadata": {
        "colab": {
          "base_uri": "https://localhost:8080/"
        },
        "id": "9dg2ldti2kBa",
        "outputId": "fb9a601e-85fd-494a-c13c-a305ffcc5212"
      },
      "outputs": [
        {
          "output_type": "stream",
          "name": "stdout",
          "text": [
            "d =  b'\\x80\\x03]q\\x00(K\\x01\\x88G@\\x07\\n=p\\xa3\\xd7\\ne.'\n",
            "d[5] =  40\n",
            "d[0] =  128\n",
            "0b1011101\n"
          ]
        }
      ],
      "source": [
        "# Python. Работа с бинарными файлами\n",
        "\n",
        "# Открыть бинарный файл для чтения\n",
        "f = open('myfile1.bin', 'rb')\n",
        "\n",
        "# Получить одну строку из бинарного файла\n",
        "d = f.read()\n",
        "\n",
        "# Вывести эту строку.\n",
        "# Будет получен вывод в виде строки символов\n",
        "print(\"d = \", d) # d = b'\\x80\\x03]q\\x00(K\\x01\\x88G@\\x07\\n=p\\xa3\\xd7\\ne.'\n",
        "\n",
        "# Если вывести как отдельный символ,\n",
        "# то будет выведен код символа - как целое число\n",
        "print(\"d[5] = \", d[5]) # d[5] =   40\n",
        "print(\"d[0] = \", d[0]) # d[0] =   128\n",
        "\n",
        "# Использовать функцию bin для отдельного символа\n",
        "print(bin(d[2])) # 0b1011101\n",
        "f.close()"
      ]
    },
    {
      "cell_type": "code",
      "source": [
        "# Бинарные файлы. Запись/чтение списка вещественных чисел\n",
        "# 1. Заданный список вещественных чисел\n",
        "L = [1.5, 2.8, 3.3]\n",
        "\n",
        "# 2. Запись файла\n",
        "# 2.1. Открыть файл для записи\n",
        "f = open('myfile3.bin', 'wb')\n",
        "\n",
        "# 2.2. Обход списка и запись данных в файл\n",
        "for item in L:\n",
        "    # добавить символ '\\n', чтобы можно было распознать числа\n",
        "    s = str(item) + '\\n'\n",
        "\n",
        "    # Метод encode() - конвертирует строку в последовательность байт\n",
        "    bt = s.encode()\n",
        "    f.write(bt) # метод write() - запись в файл\n",
        "\n",
        "# 2.3. Закрыть файл\n",
        "f.close();\n",
        "\n",
        "# 3. Считать список из бинарного файла 'myfile3.bin'\n",
        "# 3.1. Создать пустой список\n",
        "L2 = []\n",
        "\n",
        "# 3.2. Открыть файл для чтения\n",
        "f = open('myfile3.bin', 'rb')\n",
        "\n",
        "# 3.3. Обход строк файла, конвертирование и добавление в список L2\n",
        "for ln in f:\n",
        "    x = float(ln) # взять число\n",
        "    L2 = L2 + [x] # Добавить число к списку\n",
        "\n",
        "# 3.4. Вывести список\n",
        "print(\"L2 = \", L2) # L2 = [1.5, 2.8, 3.3]\n",
        "\n",
        "# 3.5. Закрыть файл\n",
        "f.close();"
      ],
      "metadata": {
        "colab": {
          "base_uri": "https://localhost:8080/"
        },
        "id": "Yf_3zGDq6rJq",
        "outputId": "096b89a9-66fa-4751-edcb-d65bb1e76528"
      },
      "execution_count": 3,
      "outputs": [
        {
          "output_type": "stream",
          "name": "stdout",
          "text": [
            "L2 =  [1.5, 2.8, 3.3]\n"
          ]
        }
      ]
    },
    {
      "cell_type": "code",
      "source": [
        "# Бинарные файлы. Запись/чтение кортежа, содержащего строки символов\n",
        "\n",
        "# 1. Заданный кортеж со строками\n",
        "T = ( 'abc', 'def', 'ghi', 'jk lmn')\n",
        "\n",
        "# 2. Запись кортежа T в файл 'myfile5.bin'\n",
        "# 2.1. Открыть файл для записи\n",
        "f = open('myfile5.bin', 'wb')\n",
        "\n",
        "# 2.2. Цикл обхода кортежа\n",
        "for item in T:\n",
        "    bt = (item + '\\n').encode() # конвертировать (str + '\\n') => bytes\n",
        "    f.write(bt) # записать bt в файл\n",
        "\n",
        "# 2.3. Закрыть файл\n",
        "f.close();\n",
        "\n",
        "# 3. Считать кортеж из бинарного файла 'myfile5.bin'\n",
        "# 3.1. Открыть файл для чтения\n",
        "f = open('myfile5.bin', 'rb')\n",
        "\n",
        "# 3.2. Новый кортеж\n",
        "T2 = ()\n",
        "\n",
        "# 3.3. Прочитать данные из файла\n",
        "for line in f:\n",
        "    s = line.decode() # конвертировать bytes=>str\n",
        "    s = s[:-1] # Убрать последний символ\n",
        "    T2 = T2 + (s,) # Добавить строку s к кортежу\n",
        "\n",
        "# 3.4. Вывести кортеж\n",
        "print(\"T2 = \", T2)\n",
        "\n",
        "# 3.5. Закрыть файл\n",
        "f.close();"
      ],
      "metadata": {
        "colab": {
          "base_uri": "https://localhost:8080/"
        },
        "id": "zfPpoyw_7g_H",
        "outputId": "f23012c5-b029-4cfc-d8c7-74e7e96d212d"
      },
      "execution_count": 6,
      "outputs": [
        {
          "output_type": "stream",
          "name": "stdout",
          "text": [
            "T2 =  ('abc', 'def', 'ghi', 'jk lmn')\n"
          ]
        }
      ]
    },
    {
      "cell_type": "code",
      "source": [
        "# Бинарные файлы. Запись/чтение множества,\n",
        "# которое содержит вещественные числа\n",
        "\n",
        "# 1. Заданное множество\n",
        "M = { 0.2, 0.3, 0.8, 1.2, 1.77 }\n",
        "\n",
        "# 2. Запись множества M в файл 'myfile6.bin'\n",
        "# 2.1. Открыть файл для записи\n",
        "f = open('myfile6.bin', 'wb')\n",
        "\n",
        "# 2.2. Цикл обхода множества\n",
        "for item in M:\n",
        "    s = str(item) + '\\n' # конвертировать float=>str + '\\n'\n",
        "    bt = s.encode()     # конвертировать str=>bytes\n",
        "    f.write(bt)         # записать bt в файл\n",
        "\n",
        "# 2.3. Закрыть файл\n",
        "f.close();\n",
        "\n",
        "# 3. Считать множество из бинарного файла 'myfile6.bin'\n",
        "# 3.1. Открыть файл для чтения\n",
        "f = open('myfile6.bin', 'rb')\n",
        "\n",
        "# 3.2. Новое множество\n",
        "M2 = set()\n",
        "\n",
        "# 3.3. Прочитать данные из файла\n",
        "for line in f:\n",
        "    x = float(line) # конвертировать bytes=>x\n",
        "    M2 = M2.union({x}) # Добавить x к множеству\n",
        "\n",
        "# 3.4. Вывести множество\n",
        "print(\"M2 = \", M2)\n",
        "\n",
        "# 3.5. Закрыть файл\n",
        "f.close()"
      ],
      "metadata": {
        "colab": {
          "base_uri": "https://localhost:8080/"
        },
        "id": "Sux1YmRa7vL4",
        "outputId": "14fe8d3a-f04a-4f72-8c3b-29d7acb018ed"
      },
      "execution_count": 7,
      "outputs": [
        {
          "output_type": "stream",
          "name": "stdout",
          "text": [
            "M2 =  {0.2, 0.8, 0.3, 1.77, 1.2}\n"
          ]
        }
      ]
    },
    {
      "cell_type": "code",
      "source": [
        "# Бинарные файлы. Запись/чтение матрицы, которая содержит строки\n",
        "\n",
        "# 1. Заданная матрица строк размером 3*4\n",
        "MATRIX = [ [ 'aa', 'ab', 'ac', 'ad'],\n",
        "           [ 'ba', 'bb', 'bc', 'bd'],\n",
        "           [ 'ca', 'cb', 'cc', 'cd'] ]\n",
        "\n",
        "# 2. Запись матрицы MATRIX в файл 'myfile7.bin'\n",
        "# 2.1. Открыть файл для записи\n",
        "f = open('myfile7.bin', 'wb')\n",
        "\n",
        "# 2.2. Сначала записать размер матрицы\n",
        "m = 3\n",
        "n = 4\n",
        "\n",
        "# конвертировать m, n в строчный тип str\n",
        "sm = str(m) + '\\n'\n",
        "sn = str(n) + '\\n'\n",
        "\n",
        "# конвертировать строку str в bytes\n",
        "bm = sm.encode()\n",
        "bn = sn.encode()\n",
        "\n",
        "# записать размеры матрицы в файл\n",
        "f.write(bm)\n",
        "f.write(bn)\n",
        "\n",
        "# 2.3. Цикл обхода матрицы\n",
        "for row in MATRIX:\n",
        "    # здесь нужно просто записать строки с символом '\\n'\n",
        "    for item in row:\n",
        "        item = item + '\\n'\n",
        "        bt = item.encode() # str=>bytes\n",
        "        f.write(bt)       # записать bt в файл\n",
        "\n",
        "# 2.3. Закрыть файл\n",
        "f.close();\n",
        "\n",
        "# 3. Считать матрицу из бинарного файла 'myfile7.bin'\n",
        "# 3.1. Открыть файл для чтения\n",
        "f = open('myfile7.bin', 'rb')\n",
        "\n",
        "# 3.2. Новая матрица\n",
        "MATRIX2 = []\n",
        "\n",
        "# 3.3. Прочитать данные из файла\n",
        "# 3.3.1. Сначала прочитать размер\n",
        "s = f.readline()\n",
        "m2 = int(s)\n",
        "s = f.readline()\n",
        "n2 = int(s)\n",
        "\n",
        "# 3.3.2. Цикл чтения строк и создание матрицы размером m2*n2\n",
        "i = 0\n",
        "while i < m2:   # m2 строк в матрице\n",
        "    row = [] # одна строка списка\n",
        "    j = 0\n",
        "    while j < n2:\n",
        "        bs = f.readline() # прочитать один элемент типа bytes\n",
        "        s = bs.decode() # конвертировать bytes=>str\n",
        "        s = s[:-1] # убрать '\\n'\n",
        "        row += [s]   # добавить к списку\n",
        "        j = j+1\n",
        "\n",
        "    MATRIX2 += [row] # добавить одну строку списка к матрице\n",
        "    i = i+1\n",
        "\n",
        "# 3.4. Вывести новую матрицу\n",
        "i = 0\n",
        "while i < m2:\n",
        "    print(\"MATRIX2[\", i, \"] = \", MATRIX2[i])\n",
        "    i = i+1\n",
        "\n",
        "# 3.5. Закрыть файл\n",
        "f.close()"
      ],
      "metadata": {
        "colab": {
          "base_uri": "https://localhost:8080/"
        },
        "id": "SGgqvBki7ymk",
        "outputId": "c95a39db-d193-4a61-e850-9d872998da8a"
      },
      "execution_count": 8,
      "outputs": [
        {
          "output_type": "stream",
          "name": "stdout",
          "text": [
            "MATRIX2[ 0 ] =  ['aa', 'ab', 'ac', 'ad']\n",
            "MATRIX2[ 1 ] =  ['ba', 'bb', 'bc', 'bd']\n",
            "MATRIX2[ 2 ] =  ['ca', 'cb', 'cc', 'cd']\n"
          ]
        }
      ]
    },
    {
      "cell_type": "code",
      "source": [
        "# Бинарные файлы. Запись/чтение словаря\n",
        "# 1. Заданный словарь. Пары типа str:int\n",
        "D = { 'One':1, 'Two':2, 'Three':3, 'Four':4 }\n",
        "\n",
        "# 2. Запись словаря D в файл 'myfile8.bin'\n",
        "# 2.1. Открыть файл для записи\n",
        "f = open('myfile8.bin', 'wb')\n",
        "\n",
        "for key in D: # обход словаря\n",
        "    # взять значение value\n",
        "    value = D[key]\n",
        "\n",
        "    # Записать последовательно key, затем value\n",
        "    svalue = str(value) + '\\n' # сначала конвертировать value в строку\n",
        "    skey = key + '\\n' # к строке key добавить '\\n'\n",
        "\n",
        "    # Конвертировать key:svalue из строки в bytes\n",
        "    b_key = skey.encode()\n",
        "    b_svalue = svalue.encode()\n",
        "\n",
        "    # записать b_key, b_svalue в файл\n",
        "    f.write(b_key)\n",
        "    f.write(b_svalue)\n",
        "\n",
        "# 2.3. Закрыть файл\n",
        "f.close();\n",
        "\n",
        "# 3. Считать словарь из бинарного файла 'myfile8.bin'\n",
        "# 3.1. Открыть файл для чтения\n",
        "f = open('myfile8.bin', 'rb')\n",
        "\n",
        "# 3.2. Новый словарь, который будет прочитан из файла\n",
        "D2 = dict()\n",
        "\n",
        "# 3.3. Прочитать весь файл сразу\n",
        "b_strings = f.readlines() # b_strings - список строк типа bytes\n",
        "\n",
        "# 3.4. Обойти список b_strings.\n",
        "#     Сначала читается ключ, затем значение и т.д.\n",
        "fkey = True # если True, то читается ключ, иначе читается значение\n",
        "for item in b_strings:\n",
        "    if fkey: # проверка, если читается ключ\n",
        "        skey = item.decode() # конвертировать bytes=>str\n",
        "        key = skey[:-1] # убрать '\\n'\n",
        "        fkey = False\n",
        "    else:\n",
        "        svalue = item.decode() # конвертировать bytes=>str\n",
        "        value = int(svalue) # конвертировать str=>int\n",
        "        D2[key] = value # добавить к словарю\n",
        "        fkey = True # указать, что на следующей итерации будет ключ\n",
        "\n",
        "# 3.5. Вывести словарь\n",
        "print(\"D2 = \", D2)\n",
        "\n",
        "# 3.6. Закрыть файл\n",
        "f.close()"
      ],
      "metadata": {
        "colab": {
          "base_uri": "https://localhost:8080/"
        },
        "id": "e9-Mdo7m772o",
        "outputId": "72eca183-eef6-4ca0-b4ce-5dada2888fab"
      },
      "execution_count": 9,
      "outputs": [
        {
          "output_type": "stream",
          "name": "stdout",
          "text": [
            "D2 =  {'One': 1, 'Two': 2, 'Three': 3, 'Four': 4}\n"
          ]
        }
      ]
    },
    {
      "cell_type": "code",
      "source": [
        "# Бинарные файлы. Копирование файлов\n",
        "\n",
        "# 1. Открыть файлы\n",
        "f1 = open('myfile8.bin', 'rb') # файл - источник, открывается для чтения\n",
        "f2 = open('copyfile8.bin', 'wb') # файл - копия\n",
        "\n",
        "# 2. Считать файл f1 в список строк bstrings\n",
        "bstrings = f1.readlines()\n",
        "\n",
        "# 3. Записать список строк bstrings в файл f2\n",
        "f2.writelines(bstrings)\n",
        "\n",
        "# 4. Закрыть файлы\n",
        "f1.close()\n",
        "f2.close()"
      ],
      "metadata": {
        "id": "XAEz9bcj8vNe"
      },
      "execution_count": 10,
      "outputs": []
    },
    {
      "cell_type": "code",
      "source": [
        "f = open('myfile2.bin', 'wb')\n",
        "f.close()"
      ],
      "metadata": {
        "id": "kwJMqepv89xg"
      },
      "execution_count": 13,
      "outputs": []
    },
    {
      "cell_type": "code",
      "source": [
        "# Объединение файлов myfile1.bin+myfile2.bin => myfile3.bin\n",
        "# 1. Открыть файлы для чтения\n",
        "f1 = open('myfile1.bin', 'rb')\n",
        "f2 = open('myfile2.bin', 'rb')\n",
        "\n",
        "# 2. Считать файлы в списки L1, L2\n",
        "L1 = f1.readlines()\n",
        "L2 = f2.readlines()\n",
        "\n",
        "# 3. Объединить списки\n",
        "L3 = L1 + L2\n",
        "\n",
        "# 4. Закрыть файлы myfile1.bin, myfile2.bin\n",
        "f1.close()\n",
        "f2.close()\n",
        "\n",
        "# 5. Открыть файл myfile3.bin для записи\n",
        "f3 = open('myfile3.bin', 'wb')\n",
        "\n",
        "# 6. Записать строки в файл\n",
        "f3.writelines(L3)\n",
        "\n",
        "# 7. Закрыть результирующий файл\n",
        "f3.close()"
      ],
      "metadata": {
        "id": "keoVK8ah83vc"
      },
      "execution_count": 14,
      "outputs": []
    }
  ]
}