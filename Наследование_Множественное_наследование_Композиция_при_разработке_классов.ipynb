{
  "nbformat": 4,
  "nbformat_minor": 0,
  "metadata": {
    "colab": {
      "provenance": [],
      "authorship_tag": "ABX9TyOWmRT39MixwGk6uiGMEhF3",
      "include_colab_link": true
    },
    "kernelspec": {
      "name": "python3",
      "display_name": "Python 3"
    },
    "language_info": {
      "name": "python"
    }
  },
  "cells": [
    {
      "cell_type": "markdown",
      "metadata": {
        "id": "view-in-github",
        "colab_type": "text"
      },
      "source": [
        "<a href=\"https://colab.research.google.com/github/Vakhranev/RNIMU_Pirogova/blob/main/%D0%9D%D0%B0%D1%81%D0%BB%D0%B5%D0%B4%D0%BE%D0%B2%D0%B0%D0%BD%D0%B8%D0%B5_%D0%9C%D0%BD%D0%BE%D0%B6%D0%B5%D1%81%D1%82%D0%B2%D0%B5%D0%BD%D0%BD%D0%BE%D0%B5_%D0%BD%D0%B0%D1%81%D0%BB%D0%B5%D0%B4%D0%BE%D0%B2%D0%B0%D0%BD%D0%B8%D0%B5_%D0%9A%D0%BE%D0%BC%D0%BF%D0%BE%D0%B7%D0%B8%D1%86%D0%B8%D1%8F_%D0%BF%D1%80%D0%B8_%D1%80%D0%B0%D0%B7%D1%80%D0%B0%D0%B1%D0%BE%D1%82%D0%BA%D0%B5_%D0%BA%D0%BB%D0%B0%D1%81%D1%81%D0%BE%D0%B2.ipynb\" target=\"_parent\"><img src=\"https://colab.research.google.com/assets/colab-badge.svg\" alt=\"Open In Colab\"/></a>"
      ]
    },
    {
      "cell_type": "markdown",
      "source": [
        "Имя класса сразу следует за ключевым словом class, после которого ставиться двоеточие:"
      ],
      "metadata": {
        "id": "2PZ9Mr0AF43D"
      }
    },
    {
      "cell_type": "code",
      "source": [
        "class ClassName:\n",
        "   \"\"\"Необязательная строка документации класса\"\"\"  \n",
        "   class_suite"
      ],
      "metadata": {
        "id": "OHb7vMW3U0jb"
      },
      "execution_count": null,
      "outputs": []
    },
    {
      "cell_type": "markdown",
      "source": [
        "Пример создания класса на Python:"
      ],
      "metadata": {
        "id": "SrBg18MzGiWm"
      }
    },
    {
      "cell_type": "code",
      "source": [
        "class Employee:  \n",
        "    \"\"\"Базовый класс для всех сотрудников\"\"\"  \n",
        "    emp_count = 0  \n",
        "  \n",
        "    def __init__(self, name, salary):  \n",
        "        self.name = name  \n",
        "        self.salary = salary  \n",
        "        Employee.emp_count += 1  \n",
        "  \n",
        "    def display_count(self):  \n",
        "        print('Всего сотрудников: %d' % Employee.empCount)  \n",
        "  \n",
        "    def display_employee(self):  \n",
        "        print('Имя: {}. Зарплата: {}'.format(self.name, self.salary))"
      ],
      "metadata": {
        "id": "8O96RCRnGjFj"
      },
      "execution_count": 2,
      "outputs": []
    },
    {
      "cell_type": "code",
      "source": [
        "# Это создаст первый объект класса Employee  \n",
        "emp1 = Employee(\"Андрей\", 2000)  \n",
        "# Это создаст второй объект класса Employee  \n",
        "emp2 = Employee(\"Мария\", 5000) "
      ],
      "metadata": {
        "id": "cBxqzM7pHgVU"
      },
      "execution_count": 3,
      "outputs": []
    },
    {
      "cell_type": "markdown",
      "source": [
        "Доступ к классу можно получить используя имя переменой класса:"
      ],
      "metadata": {
        "id": "EAhzVkXnHneF"
      }
    },
    {
      "cell_type": "code",
      "source": [
        "emp1.display_employee()  \n",
        "emp2.display_employee()  \n",
        "print(\"Всего сотрудников: %d\" % Employee.emp_count)"
      ],
      "metadata": {
        "colab": {
          "base_uri": "https://localhost:8080/"
        },
        "id": "K5V89brAHog5",
        "outputId": "92361397-fe02-4244-b645-9a9dd5ccfbca"
      },
      "execution_count": 4,
      "outputs": [
        {
          "output_type": "stream",
          "name": "stdout",
          "text": [
            "Имя: Андрей. Зарплата: 2000\n",
            "Имя: Мария. Зарплата: 5000\n",
            "Всего сотрудников: 2\n"
          ]
        }
      ]
    },
    {
      "cell_type": "code",
      "source": [
        "class Employee:  \n",
        "    \"\"\"Базовый класс для всех сотрудников\"\"\"  \n",
        "    emp_count = 0  \n",
        "  \n",
        "    def __init__(self, name, salary):  \n",
        "        self.name = name  \n",
        "        self.salary = salary  \n",
        "        Employee.emp_count += 1  \n",
        "  \n",
        "    def display_count(self):  \n",
        "        print('Всего сотрудников: %d' % Employee.emp_count)\n",
        "        \n",
        "    def display_employee(self):  \n",
        "        print('Имя: {}. Зарплата: {}'.format(self.name, self.salary))  \n",
        "  \n",
        "  \n",
        "# Это создаст первый объект класса Employee  \n",
        "emp1 = Employee(\"Андрей\", 2000)  \n",
        "# Это создаст второй объект класса Employee  \n",
        "emp2 = Employee(\"Мария\", 5000)  \n",
        "emp1.display_employee()  \n",
        "emp2.display_employee()  \n",
        "print(\"Всего сотрудников: %d\" % Employee.emp_count)"
      ],
      "metadata": {
        "colab": {
          "base_uri": "https://localhost:8080/"
        },
        "id": "CDafgXXCHr4h",
        "outputId": "304a7222-cb4d-4475-dff1-f0b806680e6b"
      },
      "execution_count": 5,
      "outputs": [
        {
          "output_type": "stream",
          "name": "stdout",
          "text": [
            "Имя: Андрей. Зарплата: 2000\n",
            "Имя: Мария. Зарплата: 5000\n",
            "Всего сотрудников: 2\n"
          ]
        }
      ]
    },
    {
      "cell_type": "code",
      "source": [
        "emp1.age = 7  # Добавит атрибут 'age'\n",
        "emp1.age = 8  # Изменит атрибут 'age'\n",
        "del emp1.age  # Удалит атрибут 'age'"
      ],
      "metadata": {
        "id": "8yk_QbSQH0G1"
      },
      "execution_count": 6,
      "outputs": []
    },
    {
      "cell_type": "code",
      "source": [
        "emp1.age = 7"
      ],
      "metadata": {
        "id": "ljbK9Da5IShh"
      },
      "execution_count": 7,
      "outputs": []
    },
    {
      "cell_type": "code",
      "source": [
        "hasattr(emp1, 'age')  # возвращает true если атрибут 'age' существует\n",
        "getattr(emp1, 'age')  # возвращает значение атрибута 'age' \n",
        "setattr(emp1, 'age', 8)  #устанавливает атрибут 'age' на 8\n",
        "delattr(emp1, 'age')  # удаляет атрибут 'age'"
      ],
      "metadata": {
        "id": "hlgqVzHhILfn"
      },
      "execution_count": 8,
      "outputs": []
    },
    {
      "cell_type": "markdown",
      "source": [
        "Для вышеуказанного класса давайте попробуем получить доступ ко всем перечисленным в презентации атрибутам:"
      ],
      "metadata": {
        "id": "OZlDBXuVJFnG"
      }
    },
    {
      "cell_type": "code",
      "source": [
        "class Employee:  \n",
        "    \"\"\"Базовый класс для всех сотрудников\"\"\"  \n",
        "    emp_count = 0  \n",
        "  \n",
        "    def __init__(self, name, salary):  \n",
        "        self.name = name  \n",
        "        self.salary = salary  \n",
        "        Employee.empCount += 1  \n",
        "  \n",
        "    def display_count(self):  \n",
        "        print('Всего сотрудников: %d' % Employee.empCount)  \n",
        "  \n",
        "    def display_employee(self):  \n",
        "        print('Имя: {}. Зарплата: {}'.format(self.name, self.salary))  \n",
        "  \n",
        "  \n",
        "print(\"Employee.__doc__:\", Employee.__doc__)  \n",
        "print(\"Employee.__name__:\", Employee.__name__)  \n",
        "print(\"Employee.__module__:\", Employee.__module__)  \n",
        "print(\"Employee.__bases__:\", Employee.__bases__)  \n",
        "print(\"Employee.__dict__:\", Employee.__dict__) "
      ],
      "metadata": {
        "colab": {
          "base_uri": "https://localhost:8080/"
        },
        "id": "UaEqPxQNJJWC",
        "outputId": "792005da-39a6-4198-8375-5d4e7977627f"
      },
      "execution_count": 9,
      "outputs": [
        {
          "output_type": "stream",
          "name": "stdout",
          "text": [
            "Employee.__doc__: Базовый класс для всех сотрудников\n",
            "Employee.__name__: Employee\n",
            "Employee.__module__: __main__\n",
            "Employee.__bases__: (<class 'object'>,)\n",
            "Employee.__dict__: {'__module__': '__main__', '__doc__': 'Базовый класс для всех сотрудников', 'emp_count': 0, '__init__': <function Employee.__init__ at 0x7f2c91b41040>, 'display_count': <function Employee.display_count at 0x7f2c91b410d0>, 'display_employee': <function Employee.display_employee at 0x7f2c6cdb0dc0>, '__dict__': <attribute '__dict__' of 'Employee' objects>, '__weakref__': <attribute '__weakref__' of 'Employee' objects>}\n"
          ]
        }
      ]
    },
    {
      "cell_type": "code",
      "source": [
        "a = 40  # создали объект <40>\n",
        "b = a  # увеличивает количество ссылок  <40> \n",
        "c = [b]  # увеличивает количество ссылок <40> \n",
        "\n",
        "del a  # уменьшает количество ссылок <40>\n",
        "b = 100  # уменьшает количество ссылок <40> \n",
        "c[0] = -1  # уменьшает количество ссылок <40>"
      ],
      "metadata": {
        "id": "6l9mojVpL43K"
      },
      "execution_count": 10,
      "outputs": []
    },
    {
      "cell_type": "markdown",
      "source": [
        "Деструктор __del__() выводит имя класса того экземпляра, который должен быть уничтожен:"
      ],
      "metadata": {
        "id": "9RKpL4GoMQZv"
      }
    },
    {
      "cell_type": "code",
      "source": [
        "class Point:  \n",
        "    def __init__(self, x=0, y=0):  \n",
        "        self.x = x  \n",
        "        self.y = y  \n",
        "  \n",
        "    def __del__(self):  \n",
        "        class_name = self.__class__.__name__  \n",
        "        print('{} уничтожен'.format(class_name))  \n",
        "  \n",
        "  \n",
        "pt1 = Point()  \n",
        "pt2 = pt1  \n",
        "pt3 = pt1  \n",
        "print(id(pt1), id(pt2), id(pt3))  # выведите id объектов  \n",
        "del pt1  \n",
        "del pt2  \n",
        "del pt3"
      ],
      "metadata": {
        "colab": {
          "base_uri": "https://localhost:8080/"
        },
        "id": "iGEW4NGsMUQa",
        "outputId": "3b0b5aaf-bc03-4cee-c0bb-7fdf2da7ce76"
      },
      "execution_count": 11,
      "outputs": [
        {
          "output_type": "stream",
          "name": "stdout",
          "text": [
            "139828781657104 139828781657104 139828781657104\n",
            "Point уничтожен\n"
          ]
        }
      ]
    },
    {
      "cell_type": "code",
      "source": [
        "class SubClassName(ParentClass1[, ParentClass2, ...]):\n",
        "\t\"\"\"Необязательная строка документации класса\"\"\" \n",
        "\tclass_suite"
      ],
      "metadata": {
        "id": "tm3n3ceLVDtB"
      },
      "execution_count": null,
      "outputs": []
    },
    {
      "cell_type": "code",
      "source": [
        "class Parent:  # объявляем родительский класс  \n",
        "    parent_attr = 100  \n",
        "  \n",
        "    def __init__(self):  \n",
        "        print('Вызов родительского конструктора')  \n",
        "  \n",
        "    def parent_method(self):  \n",
        "        print('Вызов родительского метода')  \n",
        "  \n",
        "    def set_attr(self, attr):  \n",
        "        Parent.parent_attr = attr  \n",
        "  \n",
        "    def get_attr(self):  \n",
        "        print('Атрибут родителя: {}'.format(Parent.parent_attr))  \n",
        "  \n",
        "  \n",
        "class Child(Parent):  # объявляем класс наследник  \n",
        "    def __init__(self):  \n",
        "        print('Вызов конструктора класса наследника')  \n",
        "  \n",
        "    def child_method(self):  \n",
        "        print('Вызов метода класса наследника')  \n",
        "  \n",
        "  \n",
        "c = Child()  # экземпляр класса Child  \n",
        "c.child_method()  # вызов метода child_method  \n",
        "c.parent_method()  # вызов родительского метода parent_method  \n",
        "c.set_attr(200)  # еще раз вызов родительского метода  \n",
        "c.get_attr()  # снова вызов родительского метода"
      ],
      "metadata": {
        "colab": {
          "base_uri": "https://localhost:8080/"
        },
        "id": "-7NIg2ZsNb4z",
        "outputId": "61480c64-1739-4e14-c95c-c2644e290dd5"
      },
      "execution_count": 12,
      "outputs": [
        {
          "output_type": "stream",
          "name": "stdout",
          "text": [
            "Вызов конструктора класса наследника\n",
            "Вызов метода класса наследника\n",
            "Вызов родительского метода\n",
            "Атрибут родителя: 200\n"
          ]
        }
      ]
    },
    {
      "cell_type": "markdown",
      "source": [
        "Аналогичным образом вы можете управлять классом с помощью нескольких родительских классов:"
      ],
      "metadata": {
        "id": "n9Wp0NNiN8I0"
      }
    },
    {
      "cell_type": "code",
      "source": [
        "class A:        # объявите класс A\n",
        "...\n",
        "\n",
        "class B:        # объявите класс B\n",
        "...\n",
        "\n",
        "class C(A, B):  # C наследуется от A и B\n",
        "..."
      ],
      "metadata": {
        "id": "72Y2cLPXVLqt"
      },
      "execution_count": null,
      "outputs": []
    },
    {
      "cell_type": "markdown",
      "source": [
        "Пример переопределения методов:"
      ],
      "metadata": {
        "id": "fOhcCVX8QOF4"
      }
    },
    {
      "cell_type": "code",
      "source": [
        "class Parent:  # объявите родительский класс  \n",
        "    def my_method(self):  \n",
        "        print('Вызов родительского метода')  \n",
        "  \n",
        "  \n",
        "class Child(Parent):  # объявите класс наследник  \n",
        "    def my_method(self):  \n",
        "        print('Вызов метода наследника')  \n",
        "\n",
        "  \n",
        "c = Child()  # экземпляр класса Child  \n",
        "c.my_method()  # метод переопределен классом наследником"
      ],
      "metadata": {
        "colab": {
          "base_uri": "https://localhost:8080/"
        },
        "id": "5ji2cvwbQO57",
        "outputId": "5bc2de58-d0d6-4d38-acbe-49e32e20efab"
      },
      "execution_count": 14,
      "outputs": [
        {
          "output_type": "stream",
          "name": "stdout",
          "text": [
            "Вызов метода наследника\n"
          ]
        }
      ]
    },
    {
      "cell_type": "code",
      "source": [
        "class Vector:   \n",
        "    def __init__(self, a, b):   \n",
        "        self.a = a   \n",
        "        self.b = b   \n",
        "    \n",
        "    def __str__(self):    \n",
        "        return 'Vector ({}, {})'.format(self.a, self.b)  \n",
        "    \n",
        "    def __add__(self, other):   \n",
        "        return Vector(self.a + other.a, self.b + other.b)   \n",
        "     \n",
        "     \n",
        "v1 = Vector(2, 10)   \n",
        "v2 = Vector(5, -2)    \n",
        "print(v1 + v2)"
      ],
      "metadata": {
        "colab": {
          "base_uri": "https://localhost:8080/"
        },
        "id": "bcRSz-M3W-lr",
        "outputId": "848842b7-b9e4-4a0d-fe47-10e15273759e"
      },
      "execution_count": 15,
      "outputs": [
        {
          "output_type": "stream",
          "name": "stdout",
          "text": [
            "Vector (7, 8)\n"
          ]
        }
      ]
    },
    {
      "cell_type": "markdown",
      "source": [
        "Пример приватного атрибута:"
      ],
      "metadata": {
        "id": "UFh0QyYTXNbN"
      }
    },
    {
      "cell_type": "code",
      "source": [
        "class JustCounter:  \n",
        "    __secret_count = 0  \n",
        "  \n",
        "    def count(self):  \n",
        "        self.__secret_count += 1  \n",
        "        print(self.__secret_count)  \n",
        "  \n",
        "  \n",
        "counter = JustCounter()  \n",
        "counter.count()  \n",
        "counter.count()  \n",
        "print(counter.__secret_count)"
      ],
      "metadata": {
        "colab": {
          "base_uri": "https://localhost:8080/",
          "height": 240
        },
        "id": "tgh7PhiVXOLs",
        "outputId": "934095fb-b045-455b-e04d-da82351227a1"
      },
      "execution_count": 16,
      "outputs": [
        {
          "output_type": "stream",
          "name": "stdout",
          "text": [
            "1\n",
            "2\n"
          ]
        },
        {
          "output_type": "error",
          "ename": "AttributeError",
          "evalue": "ignored",
          "traceback": [
            "\u001b[0;31m---------------------------------------------------------------------------\u001b[0m",
            "\u001b[0;31mAttributeError\u001b[0m                            Traceback (most recent call last)",
            "\u001b[0;32m<ipython-input-16-b0419bd9b3da>\u001b[0m in \u001b[0;36m<module>\u001b[0;34m\u001b[0m\n\u001b[1;32m     10\u001b[0m \u001b[0mcounter\u001b[0m\u001b[0;34m.\u001b[0m\u001b[0mcount\u001b[0m\u001b[0;34m(\u001b[0m\u001b[0;34m)\u001b[0m\u001b[0;34m\u001b[0m\u001b[0;34m\u001b[0m\u001b[0m\n\u001b[1;32m     11\u001b[0m \u001b[0mcounter\u001b[0m\u001b[0;34m.\u001b[0m\u001b[0mcount\u001b[0m\u001b[0;34m(\u001b[0m\u001b[0;34m)\u001b[0m\u001b[0;34m\u001b[0m\u001b[0;34m\u001b[0m\u001b[0m\n\u001b[0;32m---> 12\u001b[0;31m \u001b[0mprint\u001b[0m\u001b[0;34m(\u001b[0m\u001b[0mcounter\u001b[0m\u001b[0;34m.\u001b[0m\u001b[0m__secret_count\u001b[0m\u001b[0;34m)\u001b[0m\u001b[0;34m\u001b[0m\u001b[0;34m\u001b[0m\u001b[0m\n\u001b[0m",
            "\u001b[0;31mAttributeError\u001b[0m: 'JustCounter' object has no attribute '__secret_count'"
          ]
        }
      ]
    },
    {
      "cell_type": "code",
      "source": [
        "...\n",
        "print(counter._JustCounter__secret_count)"
      ],
      "metadata": {
        "colab": {
          "base_uri": "https://localhost:8080/"
        },
        "id": "l9t0KWFUXa9i",
        "outputId": "2a3e4933-a199-4116-c8f4-61ca6b51ccf7"
      },
      "execution_count": 17,
      "outputs": [
        {
          "output_type": "stream",
          "name": "stdout",
          "text": [
            "2\n"
          ]
        }
      ]
    },
    {
      "cell_type": "markdown",
      "source": [
        "У нас есть класс автомобиля:"
      ],
      "metadata": {
        "id": "FdNfoC8jYG1D"
      }
    },
    {
      "cell_type": "code",
      "source": [
        "class Auto:\n",
        "    def ride(self):\n",
        "        print(\"Riding on a ground\")"
      ],
      "metadata": {
        "id": "eUJNvnqMYIlC"
      },
      "execution_count": 18,
      "outputs": []
    },
    {
      "cell_type": "markdown",
      "source": [
        "Также у нас есть класс для лодки:"
      ],
      "metadata": {
        "id": "7FBnmQ8cYQhQ"
      }
    },
    {
      "cell_type": "code",
      "source": [
        "class Boat:\n",
        "    def swim(self):\n",
        "        print(\"Sailing in the ocean\")"
      ],
      "metadata": {
        "id": "nt7e2mzPYT1P"
      },
      "execution_count": 19,
      "outputs": []
    },
    {
      "cell_type": "markdown",
      "source": [
        "Теперь, если нам нужно запрограммировать автомобиль-амфибию, который будет плавать в воде и ездить по земле, мы вместо написания нового класса, можем просто унаследовать от уже существующих:"
      ],
      "metadata": {
        "id": "-krrupRuYaO4"
      }
    },
    {
      "cell_type": "code",
      "source": [
        "class Amphibian(Auto, Boat):\n",
        "    pass\n",
        " \n",
        "a = Amphibian()\n",
        "a.ride()\n",
        "a.swim()"
      ],
      "metadata": {
        "colab": {
          "base_uri": "https://localhost:8080/"
        },
        "id": "xubgZELvYfTN",
        "outputId": "d52e4568-445b-4f44-9589-57d7e765b87e"
      },
      "execution_count": 20,
      "outputs": [
        {
          "output_type": "stream",
          "name": "stdout",
          "text": [
            "Riding on a ground\n",
            "Sailing in the ocean\n"
          ]
        }
      ]
    },
    {
      "cell_type": "markdown",
      "source": [
        "Обратите внимание, что инстанс класса Amphibian, будет одновременно инстансом класса Auto и Boat, то есть:"
      ],
      "metadata": {
        "id": "mcvkUygTYnZX"
      }
    },
    {
      "cell_type": "code",
      "source": [
        "a = Amphibian()"
      ],
      "metadata": {
        "id": "TNC2XQocYoAx"
      },
      "execution_count": 21,
      "outputs": []
    },
    {
      "cell_type": "code",
      "source": [
        "isinstance(a, Auto)"
      ],
      "metadata": {
        "colab": {
          "base_uri": "https://localhost:8080/"
        },
        "id": "soQ5gBDEYtK2",
        "outputId": "bbff9070-b400-40a5-b0f7-bea723c67a23"
      },
      "execution_count": 22,
      "outputs": [
        {
          "output_type": "execute_result",
          "data": {
            "text/plain": [
              "True"
            ]
          },
          "metadata": {},
          "execution_count": 22
        }
      ]
    },
    {
      "cell_type": "code",
      "source": [
        "isinstance(a, Boat)"
      ],
      "metadata": {
        "colab": {
          "base_uri": "https://localhost:8080/"
        },
        "id": "9-o1b5G7YwSe",
        "outputId": "a2cdb6c9-8a99-4ef9-a36a-e6aeee264c88"
      },
      "execution_count": 23,
      "outputs": [
        {
          "output_type": "execute_result",
          "data": {
            "text/plain": [
              "True"
            ]
          },
          "metadata": {},
          "execution_count": 23
        }
      ]
    },
    {
      "cell_type": "code",
      "source": [
        "isinstance(a, Amphibian)"
      ],
      "metadata": {
        "colab": {
          "base_uri": "https://localhost:8080/"
        },
        "id": "a93GsyeQYzqf",
        "outputId": "4c4f7da6-896f-4646-d7a8-9461b279f8fc"
      },
      "execution_count": 24,
      "outputs": [
        {
          "output_type": "execute_result",
          "data": {
            "text/plain": [
              "True"
            ]
          },
          "metadata": {},
          "execution_count": 24
        }
      ]
    },
    {
      "cell_type": "markdown",
      "source": [
        "Можно добавить метод play_music() в класс Car:"
      ],
      "metadata": {
        "id": "Gq2PMQMKngF9"
      }
    },
    {
      "cell_type": "code",
      "source": [
        "class Car:\n",
        "    def ride(self):\n",
        "        print(\"Riding a car\")\n",
        " \n",
        "    def play_music(self, song):\n",
        "        print(\"Now playing: {} \".format(song))"
      ],
      "metadata": {
        "id": "e86HzWcVnlCT"
      },
      "execution_count": 25,
      "outputs": []
    },
    {
      "cell_type": "code",
      "source": [
        "c = Car()"
      ],
      "metadata": {
        "id": "KjR7wzb1nq8F"
      },
      "execution_count": 26,
      "outputs": []
    },
    {
      "cell_type": "code",
      "source": [
        "c.ride()"
      ],
      "metadata": {
        "colab": {
          "base_uri": "https://localhost:8080/"
        },
        "id": "aTPpLSqunuJ8",
        "outputId": "479a8771-9ee6-402f-83d2-31d6d87fea0a"
      },
      "execution_count": 27,
      "outputs": [
        {
          "output_type": "stream",
          "name": "stdout",
          "text": [
            "Riding a car\n"
          ]
        }
      ]
    },
    {
      "cell_type": "code",
      "source": [
        "c.play_music(\"Queen - Bohemian Rhapsody\")"
      ],
      "metadata": {
        "colab": {
          "base_uri": "https://localhost:8080/"
        },
        "id": "_sgztYUqnxw9",
        "outputId": "865720c2-1c50-4a0a-d675-6669aa09b866"
      },
      "execution_count": 28,
      "outputs": [
        {
          "output_type": "stream",
          "name": "stdout",
          "text": [
            "Now playing: Queen - Bohemian Rhapsody \n"
          ]
        }
      ]
    },
    {
      "cell_type": "markdown",
      "source": [
        "Если, у нас есть ещё и телефон, радио или любой другой девайс, с которого мы будем слушать музыку, лучше вынести функционал проигрывания музыки в отдельный класс-миксин:"
      ],
      "metadata": {
        "id": "04RiI07hn5-0"
      }
    },
    {
      "cell_type": "code",
      "source": [
        "class MusicPlayerMixin:\n",
        "    def play_music(self, song):\n",
        "        print(\"Now playing: {}\".format(song))"
      ],
      "metadata": {
        "id": "IkcsylZYn7Jx"
      },
      "execution_count": 29,
      "outputs": []
    },
    {
      "cell_type": "markdown",
      "source": [
        "Мы можем \"домешивать\" этот класс в любой, где нужна функция проигрывания музыки:"
      ],
      "metadata": {
        "id": "dCX4kNY7oY90"
      }
    },
    {
      "cell_type": "code",
      "source": [
        "class Smartphone(MusicPlayerMixin):\n",
        "    pass\n",
        " \n",
        " \n",
        "class Radio(MusicPlayerMixin):\n",
        "    pass\n",
        " \n",
        " \n",
        "class Amphibian(Auto, Boat, MusicPlayerMixin):\n",
        "   pass"
      ],
      "metadata": {
        "id": "AmZAd3nFoZ0J"
      },
      "execution_count": 30,
      "outputs": []
    },
    {
      "cell_type": "markdown",
      "source": [
        "Рассмотрим классический пример, когда у нескольких родителей — одинаковые методы:"
      ],
      "metadata": {
        "id": "4pW_j_cjpYeP"
      }
    },
    {
      "cell_type": "code",
      "source": [
        "class A:\n",
        "    def hi(self):\n",
        "        print(\"A\")\n",
        " \n",
        "class B(A):\n",
        "    def hi(self):\n",
        "        print(\"B\")\n",
        " \n",
        "class C(A):\n",
        "    def hi(self):\n",
        "        print(\"C\")\n",
        " \n",
        "class D(B, C):\n",
        "    pass\n",
        " \n",
        "d = D()\n",
        "d.hi()"
      ],
      "metadata": {
        "colab": {
          "base_uri": "https://localhost:8080/"
        },
        "id": "vdVzRDg4pfBT",
        "outputId": "17ee50f2-e504-40bd-cc1c-f1ce6c9bc5aa"
      },
      "execution_count": 31,
      "outputs": [
        {
          "output_type": "stream",
          "name": "stdout",
          "text": [
            "B\n"
          ]
        }
      ]
    },
    {
      "cell_type": "markdown",
      "source": [
        "В Python3 можно посмотреть в каком порядке будут проинспектированы родительские классы при помощи метода класса mro():"
      ],
      "metadata": {
        "id": "PKDWW1C2qGdu"
      }
    },
    {
      "cell_type": "code",
      "source": [
        "D.mro()"
      ],
      "metadata": {
        "colab": {
          "base_uri": "https://localhost:8080/"
        },
        "id": "MoSXEto9qHTd",
        "outputId": "84658951-1788-4ead-e5ec-40bffa60b058"
      },
      "execution_count": 32,
      "outputs": [
        {
          "output_type": "execute_result",
          "data": {
            "text/plain": [
              "[__main__.D, __main__.B, __main__.C, __main__.A, object]"
            ]
          },
          "metadata": {},
          "execution_count": 32
        }
      ]
    },
    {
      "cell_type": "markdown",
      "source": [
        "Если вам необходимо использовать метод конкретного родителя, например hi() класса С, нужно напрямую вызвать его по имени класса, передав self в качестве аргумента:"
      ],
      "metadata": {
        "id": "OfYR6lBSqV-P"
      }
    },
    {
      "cell_type": "code",
      "source": [
        "class D(B, C):\n",
        "    def call_hi(self):\n",
        "        C.hi(self)\n",
        " \n",
        "d = D()\n",
        "d.call_hi()"
      ],
      "metadata": {
        "colab": {
          "base_uri": "https://localhost:8080/"
        },
        "id": "GvzlsqiYqW_d",
        "outputId": "5f2ee893-eb55-469c-b598-a1d893f718a8"
      },
      "execution_count": 33,
      "outputs": [
        {
          "output_type": "stream",
          "name": "stdout",
          "text": [
            "C\n"
          ]
        }
      ]
    },
    {
      "cell_type": "markdown",
      "source": [
        "Мы начнем с написания самого простого из возможных классов:"
      ],
      "metadata": {
        "id": "7fmMYFynBrqK"
      }
    },
    {
      "cell_type": "code",
      "source": [
        "class MyClass:\n",
        "    pass"
      ],
      "metadata": {
        "id": "7X6MS0i3Bsk8"
      },
      "execution_count": 34,
      "outputs": []
    },
    {
      "cell_type": "markdown",
      "source": [
        "Теперь, когда у нас объявлен класс, мы можем использовать функцию dir() для получения списка его членов:"
      ],
      "metadata": {
        "id": "uXAUSz0GCCmw"
      }
    },
    {
      "cell_type": "code",
      "source": [
        "c = MyClass()"
      ],
      "metadata": {
        "id": "xO8JjyoACDP2"
      },
      "execution_count": 35,
      "outputs": []
    },
    {
      "cell_type": "code",
      "source": [
        "dir(c)"
      ],
      "metadata": {
        "colab": {
          "base_uri": "https://localhost:8080/"
        },
        "id": "ZYmrOSQcCIhE",
        "outputId": "4f35e00b-64f8-49b4-f27d-63dc7d20bdc2"
      },
      "execution_count": 36,
      "outputs": [
        {
          "output_type": "execute_result",
          "data": {
            "text/plain": [
              "['__class__',\n",
              " '__delattr__',\n",
              " '__dict__',\n",
              " '__dir__',\n",
              " '__doc__',\n",
              " '__eq__',\n",
              " '__format__',\n",
              " '__ge__',\n",
              " '__getattribute__',\n",
              " '__gt__',\n",
              " '__hash__',\n",
              " '__init__',\n",
              " '__init_subclass__',\n",
              " '__le__',\n",
              " '__lt__',\n",
              " '__module__',\n",
              " '__ne__',\n",
              " '__new__',\n",
              " '__reduce__',\n",
              " '__reduce_ex__',\n",
              " '__repr__',\n",
              " '__setattr__',\n",
              " '__sizeof__',\n",
              " '__str__',\n",
              " '__subclasshook__',\n",
              " '__weakref__']"
            ]
          },
          "metadata": {},
          "execution_count": 36
        }
      ]
    },
    {
      "cell_type": "markdown",
      "source": [
        "Вы можете узнать, откуда этот список, с помощью интерактивного интерпритатора:"
      ],
      "metadata": {
        "id": "vLpKP0u9Ch8f"
      }
    },
    {
      "cell_type": "code",
      "source": [
        "o = object()"
      ],
      "metadata": {
        "id": "RiQMeMynCfpF"
      },
      "execution_count": 37,
      "outputs": []
    },
    {
      "cell_type": "code",
      "source": [
        "dir(o)"
      ],
      "metadata": {
        "colab": {
          "base_uri": "https://localhost:8080/"
        },
        "id": "nnLjPQ5fCtoH",
        "outputId": "0ca2129e-2751-4006-e68f-32304777ba86"
      },
      "execution_count": 38,
      "outputs": [
        {
          "output_type": "execute_result",
          "data": {
            "text/plain": [
              "['__class__',\n",
              " '__delattr__',\n",
              " '__dir__',\n",
              " '__doc__',\n",
              " '__eq__',\n",
              " '__format__',\n",
              " '__ge__',\n",
              " '__getattribute__',\n",
              " '__gt__',\n",
              " '__hash__',\n",
              " '__init__',\n",
              " '__init_subclass__',\n",
              " '__le__',\n",
              " '__lt__',\n",
              " '__ne__',\n",
              " '__new__',\n",
              " '__reduce__',\n",
              " '__reduce_ex__',\n",
              " '__repr__',\n",
              " '__setattr__',\n",
              " '__sizeof__',\n",
              " '__str__',\n",
              " '__subclasshook__']"
            ]
          },
          "metadata": {},
          "execution_count": 38
        }
      ]
    },
    {
      "cell_type": "markdown",
      "source": [
        "Исключение наследования от object можно увидеть в интерпретаторе Python"
      ],
      "metadata": {
        "id": "WDOnByoQFGtl"
      }
    },
    {
      "cell_type": "code",
      "source": [
        "class MyError:\n",
        "    pass"
      ],
      "metadata": {
        "id": "JPqnuS5XFMOi"
      },
      "execution_count": 39,
      "outputs": []
    },
    {
      "cell_type": "code",
      "source": [
        "raise MyError()"
      ],
      "metadata": {
        "colab": {
          "base_uri": "https://localhost:8080/",
          "height": 169
        },
        "id": "n740v9wrFUeX",
        "outputId": "e799339f-4bb6-41dc-9a3e-9d4bccbbc236"
      },
      "execution_count": 40,
      "outputs": [
        {
          "output_type": "error",
          "ename": "TypeError",
          "evalue": "ignored",
          "traceback": [
            "\u001b[0;31m---------------------------------------------------------------------------\u001b[0m",
            "\u001b[0;31mTypeError\u001b[0m                                 Traceback (most recent call last)",
            "\u001b[0;32m<ipython-input-40-151107953af8>\u001b[0m in \u001b[0;36m<module>\u001b[0;34m\u001b[0m\n\u001b[0;32m----> 1\u001b[0;31m \u001b[0;32mraise\u001b[0m \u001b[0mMyError\u001b[0m\u001b[0;34m(\u001b[0m\u001b[0;34m)\u001b[0m\u001b[0;34m\u001b[0m\u001b[0;34m\u001b[0m\u001b[0m\n\u001b[0m",
            "\u001b[0;31mTypeError\u001b[0m: exceptions must derive from BaseException"
          ]
        }
      ]
    },
    {
      "cell_type": "markdown",
      "source": [
        "Правильный способ определения ошибки:"
      ],
      "metadata": {
        "id": "aOU3eCYQF2ot"
      }
    },
    {
      "cell_type": "code",
      "source": [
        "class MyError(Exception):\n",
        "    pass"
      ],
      "metadata": {
        "id": "SuosLU9vF4rR"
      },
      "execution_count": 41,
      "outputs": []
    },
    {
      "cell_type": "code",
      "source": [
        "raise MyError()"
      ],
      "metadata": {
        "colab": {
          "base_uri": "https://localhost:8080/",
          "height": 169
        },
        "id": "6c1OypTEGCEq",
        "outputId": "a4264e63-d8a9-4bb4-fc37-921d7133ff67"
      },
      "execution_count": 42,
      "outputs": [
        {
          "output_type": "error",
          "ename": "MyError",
          "evalue": "ignored",
          "traceback": [
            "\u001b[0;31m---------------------------------------------------------------------------\u001b[0m",
            "\u001b[0;31mMyError\u001b[0m                                   Traceback (most recent call last)",
            "\u001b[0;32m<ipython-input-42-151107953af8>\u001b[0m in \u001b[0;36m<module>\u001b[0;34m\u001b[0m\n\u001b[0;32m----> 1\u001b[0;31m \u001b[0;32mraise\u001b[0m \u001b[0mMyError\u001b[0m\u001b[0;34m(\u001b[0m\u001b[0;34m)\u001b[0m\u001b[0;34m\u001b[0m\u001b[0;34m\u001b[0m\u001b[0m\n\u001b[0m",
            "\u001b[0;31mMyError\u001b[0m: "
          ]
        }
      ]
    },
    {
      "cell_type": "markdown",
      "source": [
        "Начнём с реализации класса PayrollSystem, который будет обрабатывает платежную ведомость:"
      ],
      "metadata": {
        "id": "psXDjowqIy_E"
      }
    },
    {
      "cell_type": "code",
      "source": [
        "# In hr.py\n",
        "\n",
        "class PayrollSystem:\n",
        "    def calculate_payroll(self, employees):\n",
        "        print('Calculating Payroll')\n",
        "        print('===================')\n",
        "        for employee in employees:\n",
        "            print(f'Payroll for: {employee.id} - {employee.name}')\n",
        "            print(f'- Check amount: {employee.calculate_payroll()}')\n",
        "            print('')"
      ],
      "metadata": {
        "id": "eY2WRct2I1c6"
      },
      "execution_count": 43,
      "outputs": []
    },
    {
      "cell_type": "markdown",
      "source": [
        "Далее реализуем базовый класс Employee, который обрабатывает общий интерфейс для каждого типа сотрудника:"
      ],
      "metadata": {
        "id": "mkCONaN2KbiY"
      }
    },
    {
      "cell_type": "code",
      "source": [
        "# In hr.py\n",
        "\n",
        "class Employee:\n",
        "    def __init__(self, id, name):\n",
        "        self.id = id\n",
        "        self.name = name"
      ],
      "metadata": {
        "id": "zx0u9Kd5Ke-W"
      },
      "execution_count": 44,
      "outputs": []
    },
    {
      "cell_type": "markdown",
      "source": [
        "Административные работники имеют фиксированную зарплату, поэтому каждую неделю им платят одну и ту же сумму:"
      ],
      "metadata": {
        "id": "dTCezSeXKw3x"
      }
    },
    {
      "cell_type": "code",
      "source": [
        "# In hr.py\n",
        "\n",
        "class SalaryEmployee(Employee):\n",
        "    def __init__(self, id, name, weekly_salary):\n",
        "        super().__init__(id, name)\n",
        "        self.weekly_salary = weekly_salary\n",
        "\n",
        "    def calculate_payroll(self):\n",
        "        return self.weekly_salary"
      ],
      "metadata": {
        "id": "YFQAKPOVKy5x"
      },
      "execution_count": 45,
      "outputs": []
    },
    {
      "cell_type": "markdown",
      "source": [
        "В компании также работают рабочие, которые получают почасовую оплату, поэтому мы добавим HourlyEmployee в систему управления персоналом:"
      ],
      "metadata": {
        "id": "74QMMx7hLvFK"
      }
    },
    {
      "cell_type": "code",
      "source": [
        "# In hr.py\n",
        "\n",
        "class HourlyEmployee(Employee):\n",
        "    def __init__(self, id, name, hours_worked, hour_rate):\n",
        "        super().__init__(id, name)\n",
        "        self.hours_worked = hours_worked\n",
        "        self.hour_rate = hour_rate\n",
        "\n",
        "    def calculate_payroll(self):\n",
        "        return self.hours_worked * self.hour_rate"
      ],
      "metadata": {
        "id": "bV3jM2l8LwSF"
      },
      "execution_count": 46,
      "outputs": []
    },
    {
      "cell_type": "markdown",
      "source": [
        "Наконец, в компании работают торговые партнеры, которым выплачивается фиксированная зарплата плюс комиссия, основанная на их продажах, поэтому мы создадим класс CommissionEmployee:"
      ],
      "metadata": {
        "id": "45a2xeG6MOZN"
      }
    },
    {
      "cell_type": "code",
      "source": [
        "# In hr.py\n",
        "\n",
        "class CommissionEmployee(SalaryEmployee):\n",
        "    def __init__(self, id, name, weekly_salary, commission):\n",
        "        super().__init__(id, name, weekly_salary)\n",
        "        self.commission = commission\n",
        "\n",
        "    def calculate_payroll(self):\n",
        "        fixed = super().calculate_payroll()\n",
        "        return fixed + self.commission"
      ],
      "metadata": {
        "id": "aJEWVeeyMQZC"
      },
      "execution_count": 47,
      "outputs": []
    },
    {
      "cell_type": "markdown",
      "source": [
        "Приложение создает своих сотрудников и передает их в систему расчета для обработки расчета:"
      ],
      "metadata": {
        "id": "jP8fEVqcQpK_"
      }
    },
    {
      "cell_type": "code",
      "source": [
        "# In program.py\n",
        "\n",
        "import hr\n",
        "\n",
        "salary_employee = hr.SalaryEmployee(1, 'John Smith', 1500)\n",
        "hourly_employee = hr.HourlyEmployee(2, 'Jane Doe', 40, 15)\n",
        "commission_employee = hr.CommissionEmployee(3, 'Kevin Bacon', 1000, 250)\n",
        "payroll_system = hr.PayrollSystem()\n",
        "payroll_system.calculate_payroll([\n",
        "    salary_employee,\n",
        "    hourly_employee,\n",
        "    commission_employee\n",
        "])"
      ],
      "metadata": {
        "colab": {
          "base_uri": "https://localhost:8080/"
        },
        "id": "yKrXOlSjQrDZ",
        "outputId": "e4eafa5c-62cb-4db4-dba6-0f707643e64a"
      },
      "execution_count": 49,
      "outputs": [
        {
          "output_type": "stream",
          "name": "stdout",
          "text": [
            "Calculating Payroll\n",
            "===================\n",
            "Payroll for: 1 - John Smith\n",
            "- Check amount: 1500\n",
            "\n",
            "Payroll for: 2 - Jane Doe\n",
            "- Check amount: 600\n",
            "\n",
            "Payroll for: 3 - Kevin Bacon\n",
            "- Check amount: 1250\n",
            "\n"
          ]
        }
      ]
    },
    {
      "cell_type": "markdown",
      "source": [
        "Вы можете попробовать создание объекта Employee и передачу его в PayrollSystem в интерактивном интерпритаторе Python:"
      ],
      "metadata": {
        "id": "NSWabbjTS2pk"
      }
    },
    {
      "cell_type": "code",
      "source": [
        "import hr"
      ],
      "metadata": {
        "id": "1_iX3xdGS2Va"
      },
      "execution_count": 50,
      "outputs": []
    },
    {
      "cell_type": "code",
      "source": [
        "employee = hr.Employee(1, 'Invalid')"
      ],
      "metadata": {
        "id": "Vt97CDICTPjq"
      },
      "execution_count": 51,
      "outputs": []
    },
    {
      "cell_type": "code",
      "source": [
        "payroll_system = hr.PayrollSystem()"
      ],
      "metadata": {
        "id": "9ocUwMVCTTV-"
      },
      "execution_count": 52,
      "outputs": []
    },
    {
      "cell_type": "code",
      "source": [
        "payroll_system.calculate_payroll([employee])"
      ],
      "metadata": {
        "colab": {
          "base_uri": "https://localhost:8080/",
          "height": 347
        },
        "id": "MDuFRh93TWx2",
        "outputId": "efec9a8e-92a6-403e-9cbe-43f96455d9bc"
      },
      "execution_count": 53,
      "outputs": [
        {
          "output_type": "stream",
          "name": "stdout",
          "text": [
            "Calculating Payroll\n",
            "===================\n",
            "Payroll for: 1 - Invalid\n"
          ]
        },
        {
          "output_type": "error",
          "ename": "AttributeError",
          "evalue": "ignored",
          "traceback": [
            "\u001b[0;31m---------------------------------------------------------------------------\u001b[0m",
            "\u001b[0;31mAttributeError\u001b[0m                            Traceback (most recent call last)",
            "\u001b[0;32m<ipython-input-53-eaf0d747fc69>\u001b[0m in \u001b[0;36m<module>\u001b[0;34m\u001b[0m\n\u001b[0;32m----> 1\u001b[0;31m \u001b[0mpayroll_system\u001b[0m\u001b[0;34m.\u001b[0m\u001b[0mcalculate_payroll\u001b[0m\u001b[0;34m(\u001b[0m\u001b[0;34m[\u001b[0m\u001b[0memployee\u001b[0m\u001b[0;34m]\u001b[0m\u001b[0;34m)\u001b[0m\u001b[0;34m\u001b[0m\u001b[0;34m\u001b[0m\u001b[0m\n\u001b[0m",
            "\u001b[0;32m/content/hr.py\u001b[0m in \u001b[0;36mcalculate_payroll\u001b[0;34m(self, employees)\u001b[0m\n\u001b[1;32m      5\u001b[0m         \u001b[0;32mfor\u001b[0m \u001b[0memployee\u001b[0m \u001b[0;32min\u001b[0m \u001b[0memployees\u001b[0m\u001b[0;34m:\u001b[0m\u001b[0;34m\u001b[0m\u001b[0;34m\u001b[0m\u001b[0m\n\u001b[1;32m      6\u001b[0m             \u001b[0mprint\u001b[0m\u001b[0;34m(\u001b[0m\u001b[0;34mf'Payroll for: {employee.id} - {employee.name}'\u001b[0m\u001b[0;34m)\u001b[0m\u001b[0;34m\u001b[0m\u001b[0;34m\u001b[0m\u001b[0m\n\u001b[0;32m----> 7\u001b[0;31m             \u001b[0mprint\u001b[0m\u001b[0;34m(\u001b[0m\u001b[0;34mf'- Check amount: {employee.calculate_payroll()}'\u001b[0m\u001b[0;34m)\u001b[0m\u001b[0;34m\u001b[0m\u001b[0;34m\u001b[0m\u001b[0m\n\u001b[0m\u001b[1;32m      8\u001b[0m             \u001b[0mprint\u001b[0m\u001b[0;34m(\u001b[0m\u001b[0;34m''\u001b[0m\u001b[0;34m)\u001b[0m\u001b[0;34m\u001b[0m\u001b[0;34m\u001b[0m\u001b[0m\n\u001b[1;32m      9\u001b[0m \u001b[0;34m\u001b[0m\u001b[0m\n",
            "\u001b[0;31mAttributeError\u001b[0m: 'Employee' object has no attribute 'calculate_payroll'"
          ]
        }
      ]
    },
    {
      "cell_type": "markdown",
      "source": [
        "Далее мы изменим реализацию класса Employee, чтобы гарантировать, что он не может быть использован для создания объекта:"
      ],
      "metadata": {
        "id": "90Dm_ZtcW5OX"
      }
    },
    {
      "cell_type": "code",
      "source": [
        "# In hr.py\n",
        "\n",
        "from abc import ABC, abstractmethod\n",
        "\n",
        "class Employee(ABC):\n",
        "    def __init__(self, id, name):\n",
        "        self.id = id\n",
        "        self.name = name\n",
        "\n",
        "    @abstractmethod\n",
        "    def calculate_payroll(self):\n",
        "        pass"
      ],
      "metadata": {
        "id": "r5gzS48lW44p"
      },
      "execution_count": 54,
      "outputs": []
    },
    {
      "cell_type": "markdown",
      "source": [
        "Проверим, что объекты типа Employee не могут быть созданы:"
      ],
      "metadata": {
        "id": "RKvCL5_CXZ3-"
      }
    },
    {
      "cell_type": "code",
      "source": [
        "import hr"
      ],
      "metadata": {
        "id": "szs0RbduXayu"
      },
      "execution_count": 55,
      "outputs": []
    },
    {
      "cell_type": "code",
      "source": [
        "employee = hr.Employee(1, 'abstract')"
      ],
      "metadata": {
        "id": "aAHI04iwX-Dm"
      },
      "execution_count": 56,
      "outputs": []
    },
    {
      "cell_type": "markdown",
      "source": [
        "Чтобы проиллюстрировать это, мы добавим класс DisgruntledEmployee в приведенный выше пример, который не является производным от Employee:"
      ],
      "metadata": {
        "id": "a_1zCvpNeII9"
      }
    },
    {
      "cell_type": "code",
      "source": [
        "# In disgruntled.py\n",
        "\n",
        "class DisgruntledEmployee:\n",
        "    def __init__(self, id, name):\n",
        "        self.id = id\n",
        "        self.name = name\n",
        "\n",
        "    def calculate_payroll(self):\n",
        "        return 1000000"
      ],
      "metadata": {
        "id": "p_2L9QcTeI43"
      },
      "execution_count": 57,
      "outputs": []
    },
    {
      "cell_type": "markdown",
      "source": [
        "Мы можем изменить программу для использования класса DisgruntledEmployee:"
      ],
      "metadata": {
        "id": "ttdZOLlbe0pP"
      }
    },
    {
      "cell_type": "code",
      "source": [
        "# In program.py\n",
        "\n",
        "import hr\n",
        "import disgruntled\n",
        "\n",
        "salary_employee = hr.SalaryEmployee(1, 'John Smith', 1500)\n",
        "hourly_employee = hr.HourlyEmployee(2, 'Jane Doe', 40, 15)\n",
        "commission_employee = hr.CommissionEmployee(3, 'Kevin Bacon', 1000, 250)\n",
        "disgruntled_employee = disgruntled.DisgruntledEmployee(20000, 'Anonymous')\n",
        "payroll_system = hr.PayrollSystem()\n",
        "payroll_system.calculate_payroll([\n",
        "    salary_employee,\n",
        "    hourly_employee,\n",
        "    commission_employee,\n",
        "    disgruntled_employee\n",
        "])"
      ],
      "metadata": {
        "colab": {
          "base_uri": "https://localhost:8080/"
        },
        "id": "c-UAftiPe1nM",
        "outputId": "9b69b9a3-9494-4ac7-92df-007e95b0bdb7"
      },
      "execution_count": 58,
      "outputs": [
        {
          "output_type": "stream",
          "name": "stdout",
          "text": [
            "Calculating Payroll\n",
            "===================\n",
            "Payroll for: 1 - John Smith\n",
            "- Check amount: 1500\n",
            "\n",
            "Payroll for: 2 - Jane Doe\n",
            "- Check amount: 600\n",
            "\n",
            "Payroll for: 3 - Kevin Bacon\n",
            "- Check amount: 1250\n",
            "\n",
            "Payroll for: 20000 - Anonymous\n",
            "- Check amount: 1000000\n",
            "\n"
          ]
        }
      ]
    },
    {
      "cell_type": "markdown",
      "source": [
        "Вы можете удалить файл disgruntled.py, а затем вернуть модуль hr в исходное состояние:"
      ],
      "metadata": {
        "id": "jItsB0Y9gkLF"
      }
    },
    {
      "cell_type": "code",
      "source": [
        "# In hr.py\n",
        "\n",
        "class PayrollSystem:\n",
        "    def calculate_payroll(self, employees):\n",
        "        print('Calculating Payroll')\n",
        "        print('===================')\n",
        "        for employee in employees:\n",
        "            print(f'Payroll for: {employee.id} - {employee.name}')\n",
        "            print(f'- Check amount: {employee.calculate_payroll()}')\n",
        "            print('')\n",
        "\n",
        "class Employee:\n",
        "    def __init__(self, id, name):\n",
        "        self.id = id\n",
        "        self.name = name\n",
        "\n",
        "class SalaryEmployee(Employee):\n",
        "    def __init__(self, id, name, weekly_salary):\n",
        "        super().__init__(id, name)\n",
        "        self.weekly_salary = weekly_salary\n",
        "\n",
        "    def calculate_payroll(self):\n",
        "        return self.weekly_salary\n",
        "\n",
        "class HourlyEmployee(Employee):\n",
        "    def __init__(self, id, name, hours_worked, hour_rate):\n",
        "        super().__init__(id, name)\n",
        "        self.hours_worked = hours_worked\n",
        "        self.hour_rate = hour_rate\n",
        "\n",
        "    def calculate_payroll(self):\n",
        "        return self.hours_worked * self.hour_rate\n",
        "\n",
        "class CommissionEmployee(SalaryEmployee):\n",
        "    def __init__(self, id, name, weekly_salary, commission):\n",
        "        super().__init__(id, name, weekly_salary)\n",
        "        self.commission = commission\n",
        "\n",
        "    def calculate_payroll(self):\n",
        "        fixed = super().calculate_payroll()\n",
        "        return fixed + self.commission"
      ],
      "metadata": {
        "id": "_GJLo5TXgjSz"
      },
      "execution_count": 3,
      "outputs": []
    },
    {
      "cell_type": "markdown",
      "source": [
        "Создадим модуль employees и переместим туда классы:"
      ],
      "metadata": {
        "id": "ARHGaHyJkt6Q"
      }
    },
    {
      "cell_type": "code",
      "source": [
        "# In employees.py\n",
        "\n",
        "class Employee:\n",
        "    def __init__(self, id, name):\n",
        "        self.id = id\n",
        "        self.name = name\n",
        "\n",
        "class SalaryEmployee(Employee):\n",
        "    def __init__(self, id, name, weekly_salary):\n",
        "        super().__init__(id, name)\n",
        "        self.weekly_salary = weekly_salary\n",
        "\n",
        "    def calculate_payroll(self):\n",
        "        return self.weekly_salary\n",
        "\n",
        "class HourlyEmployee(Employee):\n",
        "    def __init__(self, id, name, hours_worked, hour_rate):\n",
        "        super().__init__(id, name)\n",
        "        self.hours_worked = hours_worked\n",
        "        self.hour_rate = hour_rate\n",
        "\n",
        "    def calculate_payroll(self):\n",
        "        return self.hours_worked * self.hour_rate\n",
        "\n",
        "class CommissionEmployee(SalaryEmployee):\n",
        "    def __init__(self, id, name, weekly_salary, commission):\n",
        "        super().__init__(id, name, weekly_salary)\n",
        "        self.commission = commission\n",
        "\n",
        "    def calculate_payroll(self):\n",
        "        fixed = super().calculate_payroll()\n",
        "        return fixed + self.commission"
      ],
      "metadata": {
        "id": "XvU36jHkku1p"
      },
      "execution_count": 4,
      "outputs": []
    },
    {
      "cell_type": "markdown",
      "source": [
        "Теперь мы изменим свою программу, чтобы поддержать изменения:"
      ],
      "metadata": {
        "id": "R69UF4_wlUMo"
      }
    },
    {
      "cell_type": "code",
      "source": [
        "# In program.py\n",
        "\n",
        "import hr\n",
        "import employees\n",
        "\n",
        "salary_employee = employees.SalaryEmployee(1, 'John Smith', 1500)\n",
        "hourly_employee = employees.HourlyEmployee(2, 'Jane Doe', 40, 15)\n",
        "commission_employee = employees.CommissionEmployee(3, 'Kevin Bacon', 1000, 250)\n",
        "payroll_system = hr.PayrollSystem()\n",
        "payroll_system.calculate_payroll([\n",
        "    salary_employee,\n",
        "    hourly_employee,\n",
        "    commission_employee\n",
        "])"
      ],
      "metadata": {
        "colab": {
          "base_uri": "https://localhost:8080/"
        },
        "id": "hBiV4Ka3lVHl",
        "outputId": "31b19d6b-5a8e-43ac-a9fa-461a25f59c08"
      },
      "execution_count": 61,
      "outputs": [
        {
          "output_type": "stream",
          "name": "stdout",
          "text": [
            "Calculating Payroll\n",
            "===================\n",
            "Payroll for: 1 - John Smith\n",
            "- Check amount: 1500\n",
            "\n",
            "Payroll for: 2 - Jane Doe\n",
            "- Check amount: 600\n",
            "\n",
            "Payroll for: 3 - Kevin Bacon\n",
            "- Check amount: 1250\n",
            "\n"
          ]
        }
      ]
    },
    {
      "cell_type": "markdown",
      "source": [
        "Начнём добавлять новые классы:"
      ],
      "metadata": {
        "id": "eTeuTVrxmTd-"
      }
    },
    {
      "cell_type": "code",
      "source": [
        "# In employees.py\n",
        "\n",
        "class Manager(SalaryEmployee):\n",
        "    def work(self, hours):\n",
        "        print(f'{self.name} screams and yells for {hours} hours.')\n",
        "\n",
        "class Secretary(SalaryEmployee):\n",
        "    def work(self, hours):\n",
        "        print(f'{self.name} expends {hours} hours doing office paperwork.')\n",
        "\n",
        "class SalesPerson(CommissionEmployee):\n",
        "    def work(self, hours):\n",
        "        print(f'{self.name} expends {hours} hours on the phone.')\n",
        "\n",
        "class FactoryWorker(HourlyEmployee):\n",
        "    def work(self, hours):\n",
        "        print(f'{self.name} manufactures gadgets for {hours} hours.')"
      ],
      "metadata": {
        "id": "yy9KuwBumap0"
      },
      "execution_count": 5,
      "outputs": []
    },
    {
      "cell_type": "markdown",
      "source": [
        "Теперь можно добавить класс ProductivitySytem:"
      ],
      "metadata": {
        "id": "3Isv_N_LnAkx"
      }
    },
    {
      "cell_type": "code",
      "source": [
        "# In productivity.py\n",
        "\n",
        "class ProductivitySystem:\n",
        "    def track(self, employees, hours):\n",
        "        print('Tracking Employee Productivity')\n",
        "        print('==============================')\n",
        "        for employee in employees:\n",
        "            employee.work(hours)\n",
        "        print('')"
      ],
      "metadata": {
        "id": "LdDXCmqLnBjm"
      },
      "execution_count": 63,
      "outputs": []
    },
    {
      "cell_type": "markdown",
      "source": [
        "Теперь можно добавить систему производительности в нашу программу:"
      ],
      "metadata": {
        "id": "ed7T2ZCnnb3J"
      }
    },
    {
      "cell_type": "code",
      "source": [
        "# In program.py\n",
        "\n",
        "import hr\n",
        "import employees\n",
        "import productivity\n",
        "\n",
        "manager = employees.Manager(1, 'Mary Poppins', 3000)\n",
        "secretary = employees.Secretary(2, 'John Smith', 1500)\n",
        "sales_guy = employees.SalesPerson(3, 'Kevin Bacon', 1000, 250)\n",
        "factory_worker = employees.FactoryWorker(2, 'Jane Doe', 40, 15)\n",
        "employees = [\n",
        "    manager,\n",
        "    secretary,\n",
        "    sales_guy,\n",
        "    factory_worker,\n",
        "]\n",
        "productivity_system = productivity.ProductivitySystem()\n",
        "productivity_system.track(employees, 40)\n",
        "payroll_system = hr.PayrollSystem()\n",
        "payroll_system.calculate_payroll(employees)"
      ],
      "metadata": {
        "colab": {
          "base_uri": "https://localhost:8080/"
        },
        "id": "_XvnU6ldnc4i",
        "outputId": "938cedd0-8ea7-486a-91e3-e7ef6cc1aaab"
      },
      "execution_count": 1,
      "outputs": [
        {
          "output_type": "stream",
          "name": "stdout",
          "text": [
            "Tracking Employee Productivity\n",
            "==============================\n",
            "Mary Poppins screams and yells for 40 hours.\n",
            "John Smith expends 40 hours doing office paperwork.\n",
            "Kevin Bacon expends 40 hours on the phone.\n",
            "Jane Doe manufactures gadgets for 40 hours.\n",
            "\n",
            "Calculating Payroll\n",
            "===================\n",
            "Payroll for: 1 - Mary Poppins\n",
            "- Check amount: 3000\n",
            "\n",
            "Payroll for: 2 - John Smith\n",
            "- Check amount: 1500\n",
            "\n",
            "Payroll for: 3 - Kevin Bacon\n",
            "- Check amount: 1250\n",
            "\n",
            "Payroll for: 2 - Jane Doe\n",
            "- Check amount: 600\n",
            "\n"
          ]
        }
      ]
    },
    {
      "cell_type": "markdown",
      "source": [
        "Мы вспоминаем, что Python поддерживает множественное наследование, поэтому мы решаем наследоваться как от Secretary, так и от HourlyEmployee:"
      ],
      "metadata": {
        "id": "SM8_FvN4GVTX"
      }
    },
    {
      "cell_type": "code",
      "source": [
        "# In employees.py\n",
        "class TemporarySecretary(Secretary, HourlyEmployee):\n",
        "    pass"
      ],
      "metadata": {
        "id": "Y54xBoWUGYQb"
      },
      "execution_count": 6,
      "outputs": []
    },
    {
      "cell_type": "markdown",
      "source": [
        "Теперь мы изменим свою программу, добавив нового временного сотрудника секретаря:"
      ],
      "metadata": {
        "id": "A_zKlYRgGs08"
      }
    },
    {
      "cell_type": "code",
      "source": [
        "import hr\n",
        "import employees\n",
        "import productivity\n",
        "\n",
        "manager = employees.Manager(1, 'Mary Poppins', 3000)\n",
        "secretary = employees.Secretary(2, 'John Smith', 1500)\n",
        "sales_guy = employees.SalesPerson(3, 'Kevin Bacon', 1000, 250)\n",
        "factory_worker = employees.FactoryWorker(4, 'Jane Doe', 40, 15)\n",
        "temporary_secretary = employees.TemporarySecretary(5, 'Robin Williams', 40, 9)\n",
        "company_employees = [\n",
        "    manager,\n",
        "    secretary,\n",
        "    sales_guy,\n",
        "    factory_worker,\n",
        "    temporary_secretary,\n",
        "]\n",
        "productivity_system = productivity.ProductivitySystem()\n",
        "productivity_system.track(company_employees, 40)\n",
        "payroll_system = hr.PayrollSystem()\n",
        "payroll_system.calculate_payroll(company_employees)"
      ],
      "metadata": {
        "colab": {
          "base_uri": "https://localhost:8080/",
          "height": 240
        },
        "id": "xmS__4wCGwPT",
        "outputId": "21512580-2813-406b-9850-71c760171789"
      },
      "execution_count": 1,
      "outputs": [
        {
          "output_type": "error",
          "ename": "TypeError",
          "evalue": "ignored",
          "traceback": [
            "\u001b[0;31m---------------------------------------------------------------------------\u001b[0m",
            "\u001b[0;31mTypeError\u001b[0m                                 Traceback (most recent call last)",
            "\u001b[0;32m<ipython-input-1-9aa6cc2916e1>\u001b[0m in \u001b[0;36m<module>\u001b[0;34m\u001b[0m\n\u001b[1;32m      7\u001b[0m \u001b[0msales_guy\u001b[0m \u001b[0;34m=\u001b[0m \u001b[0memployees\u001b[0m\u001b[0;34m.\u001b[0m\u001b[0mSalesPerson\u001b[0m\u001b[0;34m(\u001b[0m\u001b[0;36m3\u001b[0m\u001b[0;34m,\u001b[0m \u001b[0;34m'Kevin Bacon'\u001b[0m\u001b[0;34m,\u001b[0m \u001b[0;36m1000\u001b[0m\u001b[0;34m,\u001b[0m \u001b[0;36m250\u001b[0m\u001b[0;34m)\u001b[0m\u001b[0;34m\u001b[0m\u001b[0;34m\u001b[0m\u001b[0m\n\u001b[1;32m      8\u001b[0m \u001b[0mfactory_worker\u001b[0m \u001b[0;34m=\u001b[0m \u001b[0memployees\u001b[0m\u001b[0;34m.\u001b[0m\u001b[0mFactoryWorker\u001b[0m\u001b[0;34m(\u001b[0m\u001b[0;36m4\u001b[0m\u001b[0;34m,\u001b[0m \u001b[0;34m'Jane Doe'\u001b[0m\u001b[0;34m,\u001b[0m \u001b[0;36m40\u001b[0m\u001b[0;34m,\u001b[0m \u001b[0;36m15\u001b[0m\u001b[0;34m)\u001b[0m\u001b[0;34m\u001b[0m\u001b[0;34m\u001b[0m\u001b[0m\n\u001b[0;32m----> 9\u001b[0;31m \u001b[0mtemporary_secretary\u001b[0m \u001b[0;34m=\u001b[0m \u001b[0memployees\u001b[0m\u001b[0;34m.\u001b[0m\u001b[0mTemporarySecretary\u001b[0m\u001b[0;34m(\u001b[0m\u001b[0;36m5\u001b[0m\u001b[0;34m,\u001b[0m \u001b[0;34m'Robin Williams'\u001b[0m\u001b[0;34m,\u001b[0m \u001b[0;36m40\u001b[0m\u001b[0;34m,\u001b[0m \u001b[0;36m9\u001b[0m\u001b[0;34m)\u001b[0m\u001b[0;34m\u001b[0m\u001b[0;34m\u001b[0m\u001b[0m\n\u001b[0m\u001b[1;32m     10\u001b[0m company_employees = [\n\u001b[1;32m     11\u001b[0m     \u001b[0mmanager\u001b[0m\u001b[0;34m,\u001b[0m\u001b[0;34m\u001b[0m\u001b[0;34m\u001b[0m\u001b[0m\n",
            "\u001b[0;31mTypeError\u001b[0m: __init__() takes 4 positional arguments but 5 were given"
          ]
        }
      ]
    },
    {
      "cell_type": "markdown",
      "source": [
        "Давайте изменим это:"
      ],
      "metadata": {
        "id": "XXm2DXI5Hgkt"
      }
    },
    {
      "cell_type": "code",
      "source": [
        "class TemporarySecretary(HourlyEmployee, Secretary):\n",
        "    pass"
      ],
      "metadata": {
        "id": "gSUJS2KeHiLP"
      },
      "execution_count": 7,
      "outputs": []
    },
    {
      "cell_type": "markdown",
      "source": [
        "Теперь если снова запустить программу мы получим следующее:"
      ],
      "metadata": {
        "id": "B7PqsHvhIgUf"
      }
    },
    {
      "cell_type": "code",
      "source": [
        "import hr\n",
        "import employees\n",
        "import productivity\n",
        "\n",
        "manager = employees.Manager(1, 'Mary Poppins', 3000)\n",
        "secretary = employees.Secretary(2, 'John Smith', 1500)\n",
        "sales_guy = employees.SalesPerson(3, 'Kevin Bacon', 1000, 250)\n",
        "factory_worker = employees.FactoryWorker(4, 'Jane Doe', 40, 15)\n",
        "temporary_secretary = employees.TemporarySecretary(5, 'Robin Williams', 40, 9)\n",
        "company_employees = [\n",
        "    manager,\n",
        "    secretary,\n",
        "    sales_guy,\n",
        "    factory_worker,\n",
        "    temporary_secretary,\n",
        "]\n",
        "productivity_system = productivity.ProductivitySystem()\n",
        "productivity_system.track(company_employees, 40)\n",
        "payroll_system = hr.PayrollSystem()\n",
        "payroll_system.calculate_payroll(company_employees)"
      ],
      "metadata": {
        "colab": {
          "base_uri": "https://localhost:8080/",
          "height": 365
        },
        "id": "k9b2WPMFH6h1",
        "outputId": "c07b0950-a298-468c-cdcb-1b214798250a"
      },
      "execution_count": 1,
      "outputs": [
        {
          "output_type": "error",
          "ename": "TypeError",
          "evalue": "ignored",
          "traceback": [
            "\u001b[0;31m---------------------------------------------------------------------------\u001b[0m",
            "\u001b[0;31mTypeError\u001b[0m                                 Traceback (most recent call last)",
            "\u001b[0;32m<ipython-input-1-9aa6cc2916e1>\u001b[0m in \u001b[0;36m<module>\u001b[0;34m\u001b[0m\n\u001b[1;32m      7\u001b[0m \u001b[0msales_guy\u001b[0m \u001b[0;34m=\u001b[0m \u001b[0memployees\u001b[0m\u001b[0;34m.\u001b[0m\u001b[0mSalesPerson\u001b[0m\u001b[0;34m(\u001b[0m\u001b[0;36m3\u001b[0m\u001b[0;34m,\u001b[0m \u001b[0;34m'Kevin Bacon'\u001b[0m\u001b[0;34m,\u001b[0m \u001b[0;36m1000\u001b[0m\u001b[0;34m,\u001b[0m \u001b[0;36m250\u001b[0m\u001b[0;34m)\u001b[0m\u001b[0;34m\u001b[0m\u001b[0;34m\u001b[0m\u001b[0m\n\u001b[1;32m      8\u001b[0m \u001b[0mfactory_worker\u001b[0m \u001b[0;34m=\u001b[0m \u001b[0memployees\u001b[0m\u001b[0;34m.\u001b[0m\u001b[0mFactoryWorker\u001b[0m\u001b[0;34m(\u001b[0m\u001b[0;36m4\u001b[0m\u001b[0;34m,\u001b[0m \u001b[0;34m'Jane Doe'\u001b[0m\u001b[0;34m,\u001b[0m \u001b[0;36m40\u001b[0m\u001b[0;34m,\u001b[0m \u001b[0;36m15\u001b[0m\u001b[0;34m)\u001b[0m\u001b[0;34m\u001b[0m\u001b[0;34m\u001b[0m\u001b[0m\n\u001b[0;32m----> 9\u001b[0;31m \u001b[0mtemporary_secretary\u001b[0m \u001b[0;34m=\u001b[0m \u001b[0memployees\u001b[0m\u001b[0;34m.\u001b[0m\u001b[0mTemporarySecretary\u001b[0m\u001b[0;34m(\u001b[0m\u001b[0;36m5\u001b[0m\u001b[0;34m,\u001b[0m \u001b[0;34m'Robin Williams'\u001b[0m\u001b[0;34m,\u001b[0m \u001b[0;36m40\u001b[0m\u001b[0;34m,\u001b[0m \u001b[0;36m9\u001b[0m\u001b[0;34m)\u001b[0m\u001b[0;34m\u001b[0m\u001b[0;34m\u001b[0m\u001b[0m\n\u001b[0m\u001b[1;32m     10\u001b[0m company_employees = [\n\u001b[1;32m     11\u001b[0m     \u001b[0mmanager\u001b[0m\u001b[0;34m,\u001b[0m\u001b[0;34m\u001b[0m\u001b[0;34m\u001b[0m\u001b[0m\n",
            "\u001b[0;32m/content/employees.py\u001b[0m in \u001b[0;36m__init__\u001b[0;34m(self, id, name, hours_worked, hour_rate)\u001b[0m\n\u001b[1;32m     16\u001b[0m \u001b[0;32mclass\u001b[0m \u001b[0mHourlyEmployee\u001b[0m\u001b[0;34m(\u001b[0m\u001b[0mEmployee\u001b[0m\u001b[0;34m)\u001b[0m\u001b[0;34m:\u001b[0m\u001b[0;34m\u001b[0m\u001b[0;34m\u001b[0m\u001b[0m\n\u001b[1;32m     17\u001b[0m     \u001b[0;32mdef\u001b[0m \u001b[0m__init__\u001b[0m\u001b[0;34m(\u001b[0m\u001b[0mself\u001b[0m\u001b[0;34m,\u001b[0m \u001b[0mid\u001b[0m\u001b[0;34m,\u001b[0m \u001b[0mname\u001b[0m\u001b[0;34m,\u001b[0m \u001b[0mhours_worked\u001b[0m\u001b[0;34m,\u001b[0m \u001b[0mhour_rate\u001b[0m\u001b[0;34m)\u001b[0m\u001b[0;34m:\u001b[0m\u001b[0;34m\u001b[0m\u001b[0;34m\u001b[0m\u001b[0m\n\u001b[0;32m---> 18\u001b[0;31m         \u001b[0msuper\u001b[0m\u001b[0;34m(\u001b[0m\u001b[0;34m)\u001b[0m\u001b[0;34m.\u001b[0m\u001b[0m__init__\u001b[0m\u001b[0;34m(\u001b[0m\u001b[0mid\u001b[0m\u001b[0;34m,\u001b[0m \u001b[0mname\u001b[0m\u001b[0;34m)\u001b[0m\u001b[0;34m\u001b[0m\u001b[0;34m\u001b[0m\u001b[0m\n\u001b[0m\u001b[1;32m     19\u001b[0m         \u001b[0mself\u001b[0m\u001b[0;34m.\u001b[0m\u001b[0mhours_worked\u001b[0m \u001b[0;34m=\u001b[0m \u001b[0mhours_worked\u001b[0m\u001b[0;34m\u001b[0m\u001b[0;34m\u001b[0m\u001b[0m\n\u001b[1;32m     20\u001b[0m         \u001b[0mself\u001b[0m\u001b[0;34m.\u001b[0m\u001b[0mhour_rate\u001b[0m \u001b[0;34m=\u001b[0m \u001b[0mhour_rate\u001b[0m\u001b[0;34m\u001b[0m\u001b[0;34m\u001b[0m\u001b[0m\n",
            "\u001b[0;31mTypeError\u001b[0m: __init__() missing 1 required positional argument: 'weekly_salary'"
          ]
        }
      ]
    },
    {
      "cell_type": "markdown",
      "source": [
        "Может быть, реализация TemporarySecretary.__init__() поможет:"
      ],
      "metadata": {
        "id": "EGIWVOJXIb2e"
      }
    },
    {
      "cell_type": "code",
      "source": [
        "# In employees.py\n",
        "\n",
        "class TemporarySecretary(HourlyEmployee, Secretary):\n",
        "    def __init__(self, id, name, hours_worked, hour_rate):\n",
        "        super().__init__(id, name, hours_worked, hour_rate)"
      ],
      "metadata": {
        "id": "15DMVKCLIauI"
      },
      "execution_count": 8,
      "outputs": []
    },
    {
      "cell_type": "markdown",
      "source": [
        "Попробуем:"
      ],
      "metadata": {
        "id": "4cO1W4MuJA2l"
      }
    },
    {
      "cell_type": "code",
      "source": [
        "import hr\n",
        "import employees\n",
        "import productivity\n",
        "\n",
        "manager = employees.Manager(1, 'Mary Poppins', 3000)\n",
        "secretary = employees.Secretary(2, 'John Smith', 1500)\n",
        "sales_guy = employees.SalesPerson(3, 'Kevin Bacon', 1000, 250)\n",
        "factory_worker = employees.FactoryWorker(4, 'Jane Doe', 40, 15)\n",
        "temporary_secretary = employees.TemporarySecretary(5, 'Robin Williams', 40, 9)\n",
        "company_employees = [\n",
        "    manager,\n",
        "    secretary,\n",
        "    sales_guy,\n",
        "    factory_worker,\n",
        "    temporary_secretary,\n",
        "]\n",
        "productivity_system = productivity.ProductivitySystem()\n",
        "productivity_system.track(company_employees, 40)\n",
        "payroll_system = hr.PayrollSystem()\n",
        "payroll_system.calculate_payroll(company_employees)"
      ],
      "metadata": {
        "colab": {
          "base_uri": "https://localhost:8080/",
          "height": 389
        },
        "id": "ZFIizhR1JCKT",
        "outputId": "343ba6cf-38e3-430c-dfc6-0c39c96a72ed"
      },
      "execution_count": 1,
      "outputs": [
        {
          "output_type": "error",
          "ename": "TypeError",
          "evalue": "ignored",
          "traceback": [
            "\u001b[0;31m---------------------------------------------------------------------------\u001b[0m",
            "\u001b[0;31mTypeError\u001b[0m                                 Traceback (most recent call last)",
            "\u001b[0;32m<ipython-input-1-9aa6cc2916e1>\u001b[0m in \u001b[0;36m<module>\u001b[0;34m\u001b[0m\n\u001b[1;32m      7\u001b[0m \u001b[0msales_guy\u001b[0m \u001b[0;34m=\u001b[0m \u001b[0memployees\u001b[0m\u001b[0;34m.\u001b[0m\u001b[0mSalesPerson\u001b[0m\u001b[0;34m(\u001b[0m\u001b[0;36m3\u001b[0m\u001b[0;34m,\u001b[0m \u001b[0;34m'Kevin Bacon'\u001b[0m\u001b[0;34m,\u001b[0m \u001b[0;36m1000\u001b[0m\u001b[0;34m,\u001b[0m \u001b[0;36m250\u001b[0m\u001b[0;34m)\u001b[0m\u001b[0;34m\u001b[0m\u001b[0;34m\u001b[0m\u001b[0m\n\u001b[1;32m      8\u001b[0m \u001b[0mfactory_worker\u001b[0m \u001b[0;34m=\u001b[0m \u001b[0memployees\u001b[0m\u001b[0;34m.\u001b[0m\u001b[0mFactoryWorker\u001b[0m\u001b[0;34m(\u001b[0m\u001b[0;36m4\u001b[0m\u001b[0;34m,\u001b[0m \u001b[0;34m'Jane Doe'\u001b[0m\u001b[0;34m,\u001b[0m \u001b[0;36m40\u001b[0m\u001b[0;34m,\u001b[0m \u001b[0;36m15\u001b[0m\u001b[0;34m)\u001b[0m\u001b[0;34m\u001b[0m\u001b[0;34m\u001b[0m\u001b[0m\n\u001b[0;32m----> 9\u001b[0;31m \u001b[0mtemporary_secretary\u001b[0m \u001b[0;34m=\u001b[0m \u001b[0memployees\u001b[0m\u001b[0;34m.\u001b[0m\u001b[0mTemporarySecretary\u001b[0m\u001b[0;34m(\u001b[0m\u001b[0;36m5\u001b[0m\u001b[0;34m,\u001b[0m \u001b[0;34m'Robin Williams'\u001b[0m\u001b[0;34m,\u001b[0m \u001b[0;36m40\u001b[0m\u001b[0;34m,\u001b[0m \u001b[0;36m9\u001b[0m\u001b[0;34m)\u001b[0m\u001b[0;34m\u001b[0m\u001b[0;34m\u001b[0m\u001b[0m\n\u001b[0m\u001b[1;32m     10\u001b[0m company_employees = [\n\u001b[1;32m     11\u001b[0m     \u001b[0mmanager\u001b[0m\u001b[0;34m,\u001b[0m\u001b[0;34m\u001b[0m\u001b[0;34m\u001b[0m\u001b[0m\n",
            "\u001b[0;32m/content/employees.py\u001b[0m in \u001b[0;36m__init__\u001b[0;34m(self, id, name, hours_worked, hour_rate)\u001b[0m\n\u001b[1;32m     51\u001b[0m \u001b[0;32mclass\u001b[0m \u001b[0mTemporarySecretary\u001b[0m\u001b[0;34m(\u001b[0m\u001b[0mHourlyEmployee\u001b[0m\u001b[0;34m,\u001b[0m \u001b[0mSecretary\u001b[0m\u001b[0;34m)\u001b[0m\u001b[0;34m:\u001b[0m\u001b[0;34m\u001b[0m\u001b[0;34m\u001b[0m\u001b[0m\n\u001b[1;32m     52\u001b[0m     \u001b[0;32mdef\u001b[0m \u001b[0m__init__\u001b[0m\u001b[0;34m(\u001b[0m\u001b[0mself\u001b[0m\u001b[0;34m,\u001b[0m \u001b[0mid\u001b[0m\u001b[0;34m,\u001b[0m \u001b[0mname\u001b[0m\u001b[0;34m,\u001b[0m \u001b[0mhours_worked\u001b[0m\u001b[0;34m,\u001b[0m \u001b[0mhour_rate\u001b[0m\u001b[0;34m)\u001b[0m\u001b[0;34m:\u001b[0m\u001b[0;34m\u001b[0m\u001b[0;34m\u001b[0m\u001b[0m\n\u001b[0;32m---> 53\u001b[0;31m         \u001b[0msuper\u001b[0m\u001b[0;34m(\u001b[0m\u001b[0;34m)\u001b[0m\u001b[0;34m.\u001b[0m\u001b[0m__init__\u001b[0m\u001b[0;34m(\u001b[0m\u001b[0mid\u001b[0m\u001b[0;34m,\u001b[0m \u001b[0mname\u001b[0m\u001b[0;34m,\u001b[0m \u001b[0mhours_worked\u001b[0m\u001b[0;34m,\u001b[0m \u001b[0mhour_rate\u001b[0m\u001b[0;34m)\u001b[0m\u001b[0;34m\u001b[0m\u001b[0;34m\u001b[0m\u001b[0m\n\u001b[0m",
            "\u001b[0;32m/content/employees.py\u001b[0m in \u001b[0;36m__init__\u001b[0;34m(self, id, name, hours_worked, hour_rate)\u001b[0m\n\u001b[1;32m     16\u001b[0m \u001b[0;32mclass\u001b[0m \u001b[0mHourlyEmployee\u001b[0m\u001b[0;34m(\u001b[0m\u001b[0mEmployee\u001b[0m\u001b[0;34m)\u001b[0m\u001b[0;34m:\u001b[0m\u001b[0;34m\u001b[0m\u001b[0;34m\u001b[0m\u001b[0m\n\u001b[1;32m     17\u001b[0m     \u001b[0;32mdef\u001b[0m \u001b[0m__init__\u001b[0m\u001b[0;34m(\u001b[0m\u001b[0mself\u001b[0m\u001b[0;34m,\u001b[0m \u001b[0mid\u001b[0m\u001b[0;34m,\u001b[0m \u001b[0mname\u001b[0m\u001b[0;34m,\u001b[0m \u001b[0mhours_worked\u001b[0m\u001b[0;34m,\u001b[0m \u001b[0mhour_rate\u001b[0m\u001b[0;34m)\u001b[0m\u001b[0;34m:\u001b[0m\u001b[0;34m\u001b[0m\u001b[0;34m\u001b[0m\u001b[0m\n\u001b[0;32m---> 18\u001b[0;31m         \u001b[0msuper\u001b[0m\u001b[0;34m(\u001b[0m\u001b[0;34m)\u001b[0m\u001b[0;34m.\u001b[0m\u001b[0m__init__\u001b[0m\u001b[0;34m(\u001b[0m\u001b[0mid\u001b[0m\u001b[0;34m,\u001b[0m \u001b[0mname\u001b[0m\u001b[0;34m)\u001b[0m\u001b[0;34m\u001b[0m\u001b[0;34m\u001b[0m\u001b[0m\n\u001b[0m\u001b[1;32m     19\u001b[0m         \u001b[0mself\u001b[0m\u001b[0;34m.\u001b[0m\u001b[0mhours_worked\u001b[0m \u001b[0;34m=\u001b[0m \u001b[0mhours_worked\u001b[0m\u001b[0;34m\u001b[0m\u001b[0;34m\u001b[0m\u001b[0m\n\u001b[1;32m     20\u001b[0m         \u001b[0mself\u001b[0m\u001b[0;34m.\u001b[0m\u001b[0mhour_rate\u001b[0m \u001b[0;34m=\u001b[0m \u001b[0mhour_rate\u001b[0m\u001b[0;34m\u001b[0m\u001b[0;34m\u001b[0m\u001b[0m\n",
            "\u001b[0;31mTypeError\u001b[0m: __init__() missing 1 required positional argument: 'weekly_salary'"
          ]
        }
      ]
    },
    {
      "cell_type": "markdown",
      "source": [
        "Вы можете посмотреть как работает MRO класса TemporarySecretary с помощью интерактивного интерпритатора:"
      ],
      "metadata": {
        "id": "owVdQBijJzlB"
      }
    },
    {
      "cell_type": "code",
      "source": [
        "from employees import TemporarySecretary"
      ],
      "metadata": {
        "id": "A1WV46UzJ2zF"
      },
      "execution_count": 2,
      "outputs": []
    },
    {
      "cell_type": "code",
      "source": [
        "TemporarySecretary.__mro__"
      ],
      "metadata": {
        "colab": {
          "base_uri": "https://localhost:8080/"
        },
        "id": "fSYkgxQpJ6Ge",
        "outputId": "509b2ba8-3784-415d-cf0c-8c2e3774247a"
      },
      "execution_count": 3,
      "outputs": [
        {
          "output_type": "execute_result",
          "data": {
            "text/plain": [
              "(employees.TemporarySecretary,\n",
              " employees.HourlyEmployee,\n",
              " employees.Secretary,\n",
              " employees.SalaryEmployee,\n",
              " employees.Employee,\n",
              " object)"
            ]
          },
          "metadata": {},
          "execution_count": 3
        }
      ]
    },
    {
      "cell_type": "markdown",
      "source": [
        "Вы можете обойти MRO, изменив порядок наследования и напрямую вызвав HourlyEmployee.__init__() следующим образом:"
      ],
      "metadata": {
        "id": "DjoPYp3wKhm_"
      }
    },
    {
      "cell_type": "code",
      "source": [
        "class TemporarySecretary(Secretary, HourlyEmployee):\n",
        "    def __init__(self, id, name, hours_worked, hour_rate):\n",
        "        HourlyEmployee.__init__(self, id, name, hours_worked, hour_rate)"
      ],
      "metadata": {
        "id": "ViHhpPSIKhIq"
      },
      "execution_count": 9,
      "outputs": []
    },
    {
      "cell_type": "markdown",
      "source": [
        "Можно запустить программу, чтобы увидеть аналогичную проблему при попытке расчета заработной платы:"
      ],
      "metadata": {
        "id": "oJQ35cMHK-Uf"
      }
    },
    {
      "cell_type": "code",
      "source": [
        "import hr\n",
        "import employees\n",
        "import productivity\n",
        "\n",
        "manager = employees.Manager(1, 'Mary Poppins', 3000)\n",
        "secretary = employees.Secretary(2, 'John Smith', 1500)\n",
        "sales_guy = employees.SalesPerson(3, 'Kevin Bacon', 1000, 250)\n",
        "factory_worker = employees.FactoryWorker(4, 'Jane Doe', 40, 15)\n",
        "temporary_secretary = employees.TemporarySecretary(5, 'Robin Williams', 40, 9)\n",
        "company_employees = [\n",
        "    manager,\n",
        "    secretary,\n",
        "    sales_guy,\n",
        "    factory_worker,\n",
        "    temporary_secretary,\n",
        "]\n",
        "productivity_system = productivity.ProductivitySystem()\n",
        "productivity_system.track(company_employees, 40)\n",
        "payroll_system = hr.PayrollSystem()\n",
        "payroll_system.calculate_payroll(company_employees)"
      ],
      "metadata": {
        "colab": {
          "base_uri": "https://localhost:8080/",
          "height": 764
        },
        "id": "GQLy-u1WLGN1",
        "outputId": "6179d2fe-ad91-4e75-c943-e532831268f9"
      },
      "execution_count": 1,
      "outputs": [
        {
          "output_type": "stream",
          "name": "stdout",
          "text": [
            "Tracking Employee Productivity\n",
            "==============================\n",
            "Mary Poppins screams and yells for 40 hours.\n",
            "John Smith expends 40 hours doing office paperwork.\n",
            "Kevin Bacon expends 40 hours on the phone.\n",
            "Jane Doe manufactures gadgets for 40 hours.\n",
            "Robin Williams expends 40 hours doing office paperwork.\n",
            "\n",
            "Calculating Payroll\n",
            "===================\n",
            "Payroll for: 1 - Mary Poppins\n",
            "- Check amount: 3000\n",
            "\n",
            "Payroll for: 2 - John Smith\n",
            "- Check amount: 1500\n",
            "\n",
            "Payroll for: 3 - Kevin Bacon\n",
            "- Check amount: 1250\n",
            "\n",
            "Payroll for: 4 - Jane Doe\n",
            "- Check amount: 600\n",
            "\n",
            "Payroll for: 5 - Robin Williams\n"
          ]
        },
        {
          "output_type": "error",
          "ename": "AttributeError",
          "evalue": "ignored",
          "traceback": [
            "\u001b[0;31m---------------------------------------------------------------------------\u001b[0m",
            "\u001b[0;31mAttributeError\u001b[0m                            Traceback (most recent call last)",
            "\u001b[0;32m<ipython-input-1-9aa6cc2916e1>\u001b[0m in \u001b[0;36m<module>\u001b[0;34m\u001b[0m\n\u001b[1;32m     18\u001b[0m \u001b[0mproductivity_system\u001b[0m\u001b[0;34m.\u001b[0m\u001b[0mtrack\u001b[0m\u001b[0;34m(\u001b[0m\u001b[0mcompany_employees\u001b[0m\u001b[0;34m,\u001b[0m \u001b[0;36m40\u001b[0m\u001b[0;34m)\u001b[0m\u001b[0;34m\u001b[0m\u001b[0;34m\u001b[0m\u001b[0m\n\u001b[1;32m     19\u001b[0m \u001b[0mpayroll_system\u001b[0m \u001b[0;34m=\u001b[0m \u001b[0mhr\u001b[0m\u001b[0;34m.\u001b[0m\u001b[0mPayrollSystem\u001b[0m\u001b[0;34m(\u001b[0m\u001b[0;34m)\u001b[0m\u001b[0;34m\u001b[0m\u001b[0;34m\u001b[0m\u001b[0m\n\u001b[0;32m---> 20\u001b[0;31m \u001b[0mpayroll_system\u001b[0m\u001b[0;34m.\u001b[0m\u001b[0mcalculate_payroll\u001b[0m\u001b[0;34m(\u001b[0m\u001b[0mcompany_employees\u001b[0m\u001b[0;34m)\u001b[0m\u001b[0;34m\u001b[0m\u001b[0;34m\u001b[0m\u001b[0m\n\u001b[0m",
            "\u001b[0;32m/content/hr.py\u001b[0m in \u001b[0;36mcalculate_payroll\u001b[0;34m(self, employees)\u001b[0m\n\u001b[1;32m      7\u001b[0m         \u001b[0;32mfor\u001b[0m \u001b[0memployee\u001b[0m \u001b[0;32min\u001b[0m \u001b[0memployees\u001b[0m\u001b[0;34m:\u001b[0m\u001b[0;34m\u001b[0m\u001b[0;34m\u001b[0m\u001b[0m\n\u001b[1;32m      8\u001b[0m             \u001b[0mprint\u001b[0m\u001b[0;34m(\u001b[0m\u001b[0;34mf'Payroll for: {employee.id} - {employee.name}'\u001b[0m\u001b[0;34m)\u001b[0m\u001b[0;34m\u001b[0m\u001b[0;34m\u001b[0m\u001b[0m\n\u001b[0;32m----> 9\u001b[0;31m             \u001b[0mprint\u001b[0m\u001b[0;34m(\u001b[0m\u001b[0;34mf'- Check amount: {employee.calculate_payroll()}'\u001b[0m\u001b[0;34m)\u001b[0m\u001b[0;34m\u001b[0m\u001b[0;34m\u001b[0m\u001b[0m\n\u001b[0m\u001b[1;32m     10\u001b[0m             \u001b[0mprint\u001b[0m\u001b[0;34m(\u001b[0m\u001b[0;34m''\u001b[0m\u001b[0;34m)\u001b[0m\u001b[0;34m\u001b[0m\u001b[0;34m\u001b[0m\u001b[0m\n\u001b[1;32m     11\u001b[0m \u001b[0;34m\u001b[0m\u001b[0m\n",
            "\u001b[0;32m/content/employees.py\u001b[0m in \u001b[0;36mcalculate_payroll\u001b[0;34m(self)\u001b[0m\n\u001b[1;32m     12\u001b[0m \u001b[0;34m\u001b[0m\u001b[0m\n\u001b[1;32m     13\u001b[0m     \u001b[0;32mdef\u001b[0m \u001b[0mcalculate_payroll\u001b[0m\u001b[0;34m(\u001b[0m\u001b[0mself\u001b[0m\u001b[0;34m)\u001b[0m\u001b[0;34m:\u001b[0m\u001b[0;34m\u001b[0m\u001b[0;34m\u001b[0m\u001b[0m\n\u001b[0;32m---> 14\u001b[0;31m         \u001b[0;32mreturn\u001b[0m \u001b[0mself\u001b[0m\u001b[0;34m.\u001b[0m\u001b[0mweekly_salary\u001b[0m\u001b[0;34m\u001b[0m\u001b[0;34m\u001b[0m\u001b[0m\n\u001b[0m\u001b[1;32m     15\u001b[0m \u001b[0;34m\u001b[0m\u001b[0m\n\u001b[1;32m     16\u001b[0m \u001b[0;32mclass\u001b[0m \u001b[0mHourlyEmployee\u001b[0m\u001b[0;34m(\u001b[0m\u001b[0mEmployee\u001b[0m\u001b[0;34m)\u001b[0m\u001b[0;34m:\u001b[0m\u001b[0;34m\u001b[0m\u001b[0;34m\u001b[0m\u001b[0m\n",
            "\u001b[0;31mAttributeError\u001b[0m: 'TemporarySecretary' object has no attribute 'weekly_salary'"
          ]
        }
      ]
    },
    {
      "cell_type": "markdown",
      "source": [
        "Теперь нужно переопределить .calculate_payroll() в TemporarySecretary и вызвать из него правильную реализацию:"
      ],
      "metadata": {
        "id": "YsgzI4o3LsOg"
      }
    },
    {
      "cell_type": "code",
      "source": [
        "class TemporarySecretary(Secretary, HourlyEmployee):\n",
        "    def __init__(self, id, name, hours_worked, hour_rate):\n",
        "        HourlyEmployee.__init__(self, id, name, hours_worked, hour_rate)\n",
        "\n",
        "    def calculate_payroll(self):\n",
        "        return HourlyEmployee.calculate_payroll(self)"
      ],
      "metadata": {
        "id": "L3xKFGtXMdKi"
      },
      "execution_count": 10,
      "outputs": []
    },
    {
      "cell_type": "markdown",
      "source": [
        "Вы можете снова запустить программу, чтобы увидеть, как теперь она будет работает:"
      ],
      "metadata": {
        "id": "YiCnVXeBNlre"
      }
    },
    {
      "cell_type": "code",
      "source": [
        "import hr\n",
        "import employees\n",
        "import productivity\n",
        "\n",
        "manager = employees.Manager(1, 'Mary Poppins', 3000)\n",
        "secretary = employees.Secretary(2, 'John Smith', 1500)\n",
        "sales_guy = employees.SalesPerson(3, 'Kevin Bacon', 1000, 250)\n",
        "factory_worker = employees.FactoryWorker(4, 'Jane Doe', 40, 15)\n",
        "temporary_secretary = employees.TemporarySecretary(5, 'Robin Williams', 40, 9)\n",
        "company_employees = [\n",
        "    manager,\n",
        "    secretary,\n",
        "    sales_guy,\n",
        "    factory_worker,\n",
        "    temporary_secretary,\n",
        "]\n",
        "productivity_system = productivity.ProductivitySystem()\n",
        "productivity_system.track(company_employees, 40)\n",
        "payroll_system = hr.PayrollSystem()\n",
        "payroll_system.calculate_payroll(company_employees)"
      ],
      "metadata": {
        "colab": {
          "base_uri": "https://localhost:8080/"
        },
        "id": "Wh13Q6MZNiwJ",
        "outputId": "3e9e157e-a150-4434-e97d-700cda6b55a9"
      },
      "execution_count": 1,
      "outputs": [
        {
          "output_type": "stream",
          "name": "stdout",
          "text": [
            "Tracking Employee Productivity\n",
            "==============================\n",
            "Mary Poppins screams and yells for 40 hours.\n",
            "John Smith expends 40 hours doing office paperwork.\n",
            "Kevin Bacon expends 40 hours on the phone.\n",
            "Jane Doe manufactures gadgets for 40 hours.\n",
            "Robin Williams expends 40 hours doing office paperwork.\n",
            "\n",
            "Calculating Payroll\n",
            "===================\n",
            "Payroll for: 1 - Mary Poppins\n",
            "- Check amount: 3000\n",
            "\n",
            "Payroll for: 2 - John Smith\n",
            "- Check amount: 1500\n",
            "\n",
            "Payroll for: 3 - Kevin Bacon\n",
            "- Check amount: 1250\n",
            "\n",
            "Payroll for: 4 - Jane Doe\n",
            "- Check amount: 600\n",
            "\n",
            "Payroll for: 5 - Robin Williams\n",
            "- Check amount: 360\n",
            "\n"
          ]
        }
      ]
    },
    {
      "cell_type": "markdown",
      "source": [
        "Начнём вносить изменения в модуль производительности:"
      ],
      "metadata": {
        "id": "i2vvk5_yTYGI"
      }
    },
    {
      "cell_type": "code",
      "source": [
        "# In productivity.py\n",
        "\n",
        "class ProductivitySystem:\n",
        "    def track(self, employees, hours):\n",
        "        print('Tracking Employee Productivity')\n",
        "        print('==============================')\n",
        "        for employee in employees:\n",
        "            result = employee.work(hours)\n",
        "            print(f'{employee.name}: {result}')\n",
        "        print('')\n",
        "\n",
        "class ManagerRole:\n",
        "    def work(self, hours):\n",
        "        return f'screams and yells for {hours} hours.'\n",
        "\n",
        "class SecretaryRole:\n",
        "    def work(self, hours):\n",
        "        return f'expends {hours} hours doing office paperwork.'\n",
        "\n",
        "class SalesRole:\n",
        "    def work(self, hours):\n",
        "        return f'expends {hours} hours on the phone.'\n",
        "\n",
        "class FactoryRole:\n",
        "    def work(self, hours):\n",
        "        return f'manufactures gadgets for {hours} hours.'"
      ],
      "metadata": {
        "id": "x3pER1c5TXz9"
      },
      "execution_count": 11,
      "outputs": []
    },
    {
      "cell_type": "markdown",
      "source": [
        "Далее сделаем то же самое с модулем hr:"
      ],
      "metadata": {
        "id": "5x1FPvEjT4Jp"
      }
    },
    {
      "cell_type": "code",
      "source": [
        "# In hr.py\n",
        "\n",
        "class PayrollSystem:\n",
        "    def calculate_payroll(self, employees):\n",
        "        print('Calculating Payroll')\n",
        "        print('===================')\n",
        "        for employee in employees:\n",
        "            print(f'Payroll for: {employee.id} - {employee.name}')\n",
        "            print(f'- Check amount: {employee.calculate_payroll()}')\n",
        "            print('')\n",
        "\n",
        "class SalaryPolicy:\n",
        "    def __init__(self, weekly_salary):\n",
        "        self.weekly_salary = weekly_salary\n",
        "\n",
        "    def calculate_payroll(self):\n",
        "        return self.weekly_salary\n",
        "\n",
        "class HourlyPolicy:\n",
        "    def __init__(self, hours_worked, hour_rate):\n",
        "        self.hours_worked = hours_worked\n",
        "        self.hour_rate = hour_rate\n",
        "\n",
        "    def calculate_payroll(self):\n",
        "        return self.hours_worked * self.hour_rate\n",
        "\n",
        "class CommissionPolicy(SalaryPolicy):\n",
        "    def __init__(self, weekly_salary, commission):\n",
        "        super().__init__(weekly_salary)\n",
        "        self.commission = commission\n",
        "\n",
        "    def calculate_payroll(self):\n",
        "        fixed = super().calculate_payroll()\n",
        "        return fixed + self.commission"
      ],
      "metadata": {
        "id": "c7NIybJ5T0Sh"
      },
      "execution_count": 12,
      "outputs": []
    },
    {
      "cell_type": "markdown",
      "source": [
        "Теперь добавим необходимые классы в модуль employee:"
      ],
      "metadata": {
        "id": "jmzESxdgUMv9"
      }
    },
    {
      "cell_type": "code",
      "source": [
        "# In employees.py\n",
        "\n",
        "from hr import (\n",
        "    SalaryPolicy,\n",
        "    CommissionPolicy,\n",
        "    HourlyPolicy\n",
        ")\n",
        "from productivity import (\n",
        "    ManagerRole,\n",
        "    SecretaryRole,\n",
        "    SalesRole,\n",
        "    FactoryRole\n",
        ")\n",
        "\n",
        "class Employee:\n",
        "    def __init__(self, id, name):\n",
        "        self.id = id\n",
        "        self.name = name\n",
        "\n",
        "class Manager(Employee, ManagerRole, SalaryPolicy):\n",
        "    def __init__(self, id, name, weekly_salary):\n",
        "        SalaryPolicy.__init__(self, weekly_salary)\n",
        "        super().__init__(id, name)\n",
        "\n",
        "class Secretary(Employee, SecretaryRole, SalaryPolicy):\n",
        "    def __init__(self, id, name, weekly_salary):\n",
        "        SalaryPolicy.__init__(self, weekly_salary)\n",
        "        super().__init__(id, name)\n",
        "\n",
        "class SalesPerson(Employee, SalesRole, CommissionPolicy):\n",
        "    def __init__(self, id, name, weekly_salary, commission):\n",
        "        CommissionPolicy.__init__(self, weekly_salary, commission)\n",
        "        super().__init__(id, name)\n",
        "\n",
        "class FactoryWorker(Employee, FactoryRole, HourlyPolicy):\n",
        "    def __init__(self, id, name, hours_worked, hour_rate):\n",
        "        HourlyPolicy.__init__(self, hours_worked, hour_rate)\n",
        "        super().__init__(id, name)\n",
        "\n",
        "class TemporarySecretary(Employee, SecretaryRole, HourlyPolicy):\n",
        "    def __init__(self, id, name, hours_worked, hour_rate):\n",
        "        HourlyPolicy.__init__(self, hours_worked, hour_rate)\n",
        "        super().__init__(id, name)"
      ],
      "metadata": {
        "id": "gXCoPJjFURL8"
      },
      "execution_count": null,
      "outputs": []
    }
  ]
}