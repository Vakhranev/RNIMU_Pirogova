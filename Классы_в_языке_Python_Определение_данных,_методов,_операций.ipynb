{
  "nbformat": 4,
  "nbformat_minor": 0,
  "metadata": {
    "colab": {
      "provenance": [],
      "authorship_tag": "ABX9TyOt/tvUjDufPg+1wpP/PqNd",
      "include_colab_link": true
    },
    "kernelspec": {
      "name": "python3",
      "display_name": "Python 3"
    },
    "language_info": {
      "name": "python"
    },
    "gpuClass": "standard"
  },
  "cells": [
    {
      "cell_type": "markdown",
      "metadata": {
        "id": "view-in-github",
        "colab_type": "text"
      },
      "source": [
        "<a href=\"https://colab.research.google.com/github/Vakhranev/RNIMU_Pirogova/blob/main/%D0%9A%D0%BB%D0%B0%D1%81%D1%81%D1%8B_%D0%B2_%D1%8F%D0%B7%D1%8B%D0%BA%D0%B5_Python_%D0%9E%D0%BF%D1%80%D0%B5%D0%B4%D0%B5%D0%BB%D0%B5%D0%BD%D0%B8%D0%B5_%D0%B4%D0%B0%D0%BD%D0%BD%D1%8B%D1%85%2C_%D0%BC%D0%B5%D1%82%D0%BE%D0%B4%D0%BE%D0%B2%2C_%D0%BE%D0%BF%D0%B5%D1%80%D0%B0%D1%86%D0%B8%D0%B9.ipynb\" target=\"_parent\"><img src=\"https://colab.research.google.com/assets/colab-badge.svg\" alt=\"Open In Colab\"/></a>"
      ]
    },
    {
      "cell_type": "markdown",
      "source": [
        "Класс определяется с помощью ключевого слова class:"
      ],
      "metadata": {
        "id": "_O6-IGKAjQ2s"
      }
    },
    {
      "cell_type": "code",
      "execution_count": null,
      "metadata": {
        "id": "0HeJayzPjPI3"
      },
      "outputs": [],
      "source": [
        "class название_класса:\n",
        "    атрибуты_класса\n",
        "    методы_класса"
      ]
    },
    {
      "cell_type": "markdown",
      "source": [
        "Создадим простейший класс:"
      ],
      "metadata": {
        "id": "3cA0iO7PjUeL"
      }
    },
    {
      "cell_type": "code",
      "source": [
        "class Person:\n",
        "    pass"
      ],
      "metadata": {
        "id": "0q7o6PN7jYyZ"
      },
      "execution_count": 1,
      "outputs": []
    },
    {
      "cell_type": "markdown",
      "source": [
        "Пример определения обектов класса:"
      ],
      "metadata": {
        "id": "-eLRqzwSkA59"
      }
    },
    {
      "cell_type": "code",
      "source": [
        "class Person:\n",
        "    pass\n",
        " \n",
        "tom = Person()      # определение объекта tom\n",
        "bob = Person()      # определение объекта bob"
      ],
      "metadata": {
        "id": "8gYOV5tKkFqS"
      },
      "execution_count": 2,
      "outputs": []
    },
    {
      "cell_type": "markdown",
      "source": [
        "Каждый класс по умолчанию имеет конструктор без параметров:"
      ],
      "metadata": {
        "id": "0ig0mnxZkT_7"
      }
    },
    {
      "cell_type": "code",
      "source": [
        "tom = Person()      # Person() - вызов конструктора, который возвращает объект класса Person"
      ],
      "metadata": {
        "id": "OKXIUjA1kUy9"
      },
      "execution_count": 3,
      "outputs": []
    },
    {
      "cell_type": "markdown",
      "source": [
        "Определим класс Person с одним методом:"
      ],
      "metadata": {
        "id": "CCGAw2-KnJWO"
      }
    },
    {
      "cell_type": "code",
      "source": [
        "class Person:       # определение класса Person\n",
        "     def say_hello(self):\n",
        "        print(\"Hello\")\n",
        " \n",
        "tom = Person()\n",
        "tom.say_hello()    # Hello"
      ],
      "metadata": {
        "colab": {
          "base_uri": "https://localhost:8080/"
        },
        "id": "CosX_PPEnI8G",
        "outputId": "dfee3155-8696-465d-85b2-2382a16b74f3"
      },
      "execution_count": 9,
      "outputs": [
        {
          "output_type": "stream",
          "name": "stdout",
          "text": [
            "Hello\n"
          ]
        }
      ]
    },
    {
      "cell_type": "markdown",
      "source": [
        "Для обращения к методам применяется нотация точки - после имени объекта ставится точка и после нее идет вызов метода:"
      ],
      "metadata": {
        "id": "_NMdn_4mnkdD"
      }
    },
    {
      "cell_type": "code",
      "source": [
        "объект.метод([параметры метода])"
      ],
      "metadata": {
        "id": "FBwWtij-nmEB"
      },
      "execution_count": null,
      "outputs": []
    },
    {
      "cell_type": "markdown",
      "source": [
        "Например, обращение к методу say_hello() для вывода приветствия на консоль:"
      ],
      "metadata": {
        "id": "WISZh6EXno8x"
      }
    },
    {
      "cell_type": "code",
      "source": [
        "tom.say_hello()    # Hello"
      ],
      "metadata": {
        "colab": {
          "base_uri": "https://localhost:8080/"
        },
        "id": "Zvaq4ukmnrui",
        "outputId": "5e229401-3526-4762-95cf-ce8ad2626af7"
      },
      "execution_count": 10,
      "outputs": [
        {
          "output_type": "stream",
          "name": "stdout",
          "text": [
            "Hello\n"
          ]
        }
      ]
    },
    {
      "cell_type": "markdown",
      "source": [
        "Если метод должен принимать другие параметры, то они определяются после параметра self, и при вызове подобного метода для них необходимо передать значения:"
      ],
      "metadata": {
        "id": "-u70dfh8n4ai"
      }
    },
    {
      "cell_type": "code",
      "source": [
        "class Person:       # определение класса Person\n",
        "    def say(self, message):     # метод \n",
        "        print(message)\n",
        " \n",
        " \n",
        "tom = Person()\n",
        "tom.say(\"Hello RNIMU\")    # Hello RNIMU"
      ],
      "metadata": {
        "colab": {
          "base_uri": "https://localhost:8080/"
        },
        "id": "bvSipz93n4AI",
        "outputId": "671f8ca2-6e84-409f-f5c7-f0c4f3945126"
      },
      "execution_count": 12,
      "outputs": [
        {
          "output_type": "stream",
          "name": "stdout",
          "text": [
            "Hello RNIMU\n"
          ]
        }
      ]
    },
    {
      "cell_type": "markdown",
      "source": [
        "Через ключевое слово self можно обращаться внутри класса к функциональности текущего объекта:"
      ],
      "metadata": {
        "id": "ZVx2ipPFq83_"
      }
    },
    {
      "cell_type": "code",
      "source": [
        "self.атрибут    # обращение к атрибуту\n",
        "self.метод      # обращение к методу"
      ],
      "metadata": {
        "id": "Dla43XzEq9tN"
      },
      "execution_count": null,
      "outputs": []
    },
    {
      "cell_type": "markdown",
      "source": [
        "Например, определим два метода в классе Person:"
      ],
      "metadata": {
        "id": "gylpHPhErBtc"
      }
    },
    {
      "cell_type": "code",
      "source": [
        "class Person:\n",
        " \n",
        "    def say(self, message):\n",
        "        print(message)\n",
        " \n",
        "    def say_hello(self):\n",
        "        self.say(\"Hello work\")  # обращаемся к выше определенному методу say\n",
        " \n",
        " \n",
        "tom = Person()\n",
        "tom.say_hello()     # Hello work"
      ],
      "metadata": {
        "colab": {
          "base_uri": "https://localhost:8080/"
        },
        "id": "vxQmtPSUrE2j",
        "outputId": "9503091c-da14-424b-f56b-2164586eed3f"
      },
      "execution_count": 15,
      "outputs": [
        {
          "output_type": "stream",
          "name": "stdout",
          "text": [
            "Hello work\n"
          ]
        }
      ]
    },
    {
      "cell_type": "markdown",
      "source": [
        "Здесь в одном методе - say_hello() вызывается другой метод - say():"
      ],
      "metadata": {
        "id": "Xoub3cHCrPjn"
      }
    },
    {
      "cell_type": "code",
      "source": [
        "self.say(\"Hello work\")"
      ],
      "metadata": {
        "id": "I3mVrVynrViY"
      },
      "execution_count": null,
      "outputs": []
    },
    {
      "cell_type": "markdown",
      "source": [
        "Причем при вызове метода объекта нам обязательно необходимо использовать слово self, если мы его не используем:"
      ],
      "metadata": {
        "id": "nYfcoznPrWRJ"
      }
    },
    {
      "cell_type": "code",
      "source": [
        "def say_hello(self):\n",
        "    say(\"Hello work\")  # ! Ошибка"
      ],
      "metadata": {
        "id": "x-4JGzKmrcsf"
      },
      "execution_count": 17,
      "outputs": []
    },
    {
      "cell_type": "markdown",
      "source": [
        "Выше когда мы создавали объекты класса Person, мы использовали конструктор по умолчанию, который не принимает параметров и который неявно имеют все классы:"
      ],
      "metadata": {
        "id": "kz3_CP_rrnaI"
      }
    },
    {
      "cell_type": "code",
      "source": [
        "tom = Person()"
      ],
      "metadata": {
        "id": "9u0gUBrYrp8D"
      },
      "execution_count": 18,
      "outputs": []
    },
    {
      "cell_type": "markdown",
      "source": [
        "Изменим класс Person, добавив в него конструктор:"
      ],
      "metadata": {
        "id": "beReeqznr9hy"
      }
    },
    {
      "cell_type": "code",
      "source": [
        "class Person:\n",
        "    # конструктор\n",
        "    def __init__(self):\n",
        "        print(\"Создание объекта Person\")\n",
        " \n",
        "    def say_hello(self):\n",
        "        print(\"Hello\")\n",
        "         \n",
        "         \n",
        "tom = Person()      # Создание объекта Person\n",
        "tom.say_hello()     # Hello"
      ],
      "metadata": {
        "colab": {
          "base_uri": "https://localhost:8080/"
        },
        "id": "lL73kvT4sAQk",
        "outputId": "776a265e-40e8-44f4-9940-aa114166be56"
      },
      "execution_count": 19,
      "outputs": [
        {
          "output_type": "stream",
          "name": "stdout",
          "text": [
            "Создание объекта Person\n",
            "Hello\n"
          ]
        }
      ]
    },
    {
      "cell_type": "markdown",
      "source": [
        "Теперь при создании объекта:"
      ],
      "metadata": {
        "id": "TNF7v5qysQ8H"
      }
    },
    {
      "cell_type": "code",
      "source": [
        "tom = Person()"
      ],
      "metadata": {
        "colab": {
          "base_uri": "https://localhost:8080/"
        },
        "id": "2i8yPoWEsR4l",
        "outputId": "c122f6d9-3385-4b9d-b69e-56f2efe15f65"
      },
      "execution_count": 20,
      "outputs": [
        {
          "output_type": "stream",
          "name": "stdout",
          "text": [
            "Создание объекта Person\n"
          ]
        }
      ]
    },
    {
      "cell_type": "markdown",
      "source": [
        "будет производится вызов конструктора __init__() из класса Person, который выведет на консоль строку \"Создание объекта Person\"."
      ],
      "metadata": {
        "id": "xMDyopUwsa87"
      }
    },
    {
      "cell_type": "markdown",
      "source": [
        "Определим следующий класс Person:"
      ],
      "metadata": {
        "id": "ER8Jsf9HtRl8"
      }
    },
    {
      "cell_type": "code",
      "source": [
        "class Person:\n",
        " \n",
        "    def __init__(self, name):\n",
        "        self.name = name    # имя человека\n",
        "        self.age = 1        # возраст человека\n",
        " \n",
        " \n",
        "tom = Person(\"Tom\")\n",
        " \n",
        "# обращение к атрибутам\n",
        "# получение значений\n",
        "print(tom.name)     # Tom\n",
        "print(tom.age)      # 1\n",
        "# изменение значения\n",
        "tom.age = 37\n",
        "print(tom.age)      # 37"
      ],
      "metadata": {
        "colab": {
          "base_uri": "https://localhost:8080/"
        },
        "id": "zqbUw8ALtWH_",
        "outputId": "3483a6c7-2a4a-4494-c2b6-b5101dbaa1b0"
      },
      "execution_count": 21,
      "outputs": [
        {
          "output_type": "stream",
          "name": "stdout",
          "text": [
            "Tom\n",
            "1\n",
            "37\n"
          ]
        }
      ]
    },
    {
      "cell_type": "markdown",
      "source": [
        "Внутри конструктора устанавливаются два атрибута - name и age (условно имя и возраст человека):"
      ],
      "metadata": {
        "id": "SrKiNPgXtiWK"
      }
    },
    {
      "cell_type": "code",
      "source": [
        "def __init__(self, name):\n",
        "    self.name = name\n",
        "    self.age = 1"
      ],
      "metadata": {
        "id": "ic4XpeJNtjKL"
      },
      "execution_count": 22,
      "outputs": []
    },
    {
      "cell_type": "markdown",
      "source": [
        "Теперь нам надо вызывать наш явным образом опреледеленный конструктор __init__, в который необходимо передать значение для параметра name:"
      ],
      "metadata": {
        "id": "AUUFp8tStsw9"
      }
    },
    {
      "cell_type": "code",
      "source": [
        "tom = Person(\"Tom\")"
      ],
      "metadata": {
        "id": "Lte_YHXvtu2H"
      },
      "execution_count": 23,
      "outputs": []
    },
    {
      "cell_type": "markdown",
      "source": [
        "Далее по имени объекта мы можем обращаться к атрибутам объекта - получать и изменять их значения:"
      ],
      "metadata": {
        "id": "RdSmUD7lt1MJ"
      }
    },
    {
      "cell_type": "code",
      "source": [
        "print(tom.name)     # получение значения атрибута name\n",
        "tom.age = 37        # изменение значения атрибута age"
      ],
      "metadata": {
        "colab": {
          "base_uri": "https://localhost:8080/"
        },
        "id": "lnXsNSrkt463",
        "outputId": "56c3a0fc-6d5f-42b5-bd76-9eb4cb7bf56a"
      },
      "execution_count": 24,
      "outputs": [
        {
          "output_type": "stream",
          "name": "stdout",
          "text": [
            "Tom\n"
          ]
        }
      ]
    },
    {
      "cell_type": "markdown",
      "source": [
        "В принципе нам необязательно определять атрибуты внутри класса - Python позволяет сделать это динамически вне кода:"
      ],
      "metadata": {
        "id": "uH5Yg4NDt7M8"
      }
    },
    {
      "cell_type": "code",
      "source": [
        "class Person:\n",
        " \n",
        "    def __init__(self, name):\n",
        "        self.name = name    # имя человека\n",
        "        self.age = 1        # возраст человека\n",
        " \n",
        " \n",
        "tom = Person(\"Tom\")\n",
        " \n",
        "tom.company = \"Microsoft\"\n",
        "print(tom.company)  # Microsoft"
      ],
      "metadata": {
        "colab": {
          "base_uri": "https://localhost:8080/"
        },
        "id": "pA2Z5eEwt-k9",
        "outputId": "815d9ab9-242d-499e-fdd7-ce75257ab090"
      },
      "execution_count": 25,
      "outputs": [
        {
          "output_type": "stream",
          "name": "stdout",
          "text": [
            "Microsoft\n"
          ]
        }
      ]
    },
    {
      "cell_type": "markdown",
      "source": [
        "Если мы попытаемся обратиться к атрибуту до его определения, то программа сгенерирует ошибку:"
      ],
      "metadata": {
        "id": "o5nSzXnmuMPS"
      }
    },
    {
      "cell_type": "code",
      "source": [
        "tom = Person(\"Tom\")\n",
        "print(tom.company)  # ! Ошибка - AttributeError: Person object has no attribute company"
      ],
      "metadata": {
        "colab": {
          "base_uri": "https://localhost:8080/",
          "height": 187
        },
        "id": "nWTTxmuOuOt3",
        "outputId": "62671981-e242-4b9f-f647-16bea40be91f"
      },
      "execution_count": 26,
      "outputs": [
        {
          "output_type": "error",
          "ename": "AttributeError",
          "evalue": "ignored",
          "traceback": [
            "\u001b[0;31m---------------------------------------------------------------------------\u001b[0m",
            "\u001b[0;31mAttributeError\u001b[0m                            Traceback (most recent call last)",
            "\u001b[0;32m<ipython-input-26-2caa073ae292>\u001b[0m in \u001b[0;36m<module>\u001b[0;34m\u001b[0m\n\u001b[1;32m      1\u001b[0m \u001b[0mtom\u001b[0m \u001b[0;34m=\u001b[0m \u001b[0mPerson\u001b[0m\u001b[0;34m(\u001b[0m\u001b[0;34m\"Tom\"\u001b[0m\u001b[0;34m)\u001b[0m\u001b[0;34m\u001b[0m\u001b[0;34m\u001b[0m\u001b[0m\n\u001b[0;32m----> 2\u001b[0;31m \u001b[0mprint\u001b[0m\u001b[0;34m(\u001b[0m\u001b[0mtom\u001b[0m\u001b[0;34m.\u001b[0m\u001b[0mcompany\u001b[0m\u001b[0;34m)\u001b[0m  \u001b[0;31m# ! Ошибка - AttributeError: Person object has no attribute company\u001b[0m\u001b[0;34m\u001b[0m\u001b[0;34m\u001b[0m\u001b[0m\n\u001b[0m",
            "\u001b[0;31mAttributeError\u001b[0m: 'Person' object has no attribute 'company'"
          ]
        }
      ]
    },
    {
      "cell_type": "markdown",
      "source": [
        "Для обращения к атрибутам объекта внутри класса в его методах также применяется слово self:"
      ],
      "metadata": {
        "id": "z-kek7Q6uewH"
      }
    },
    {
      "cell_type": "code",
      "source": [
        "class Person:\n",
        " \n",
        "    def __init__(self, name):\n",
        "        self.name = name    # имя человека\n",
        "        self.age = 1        # возраст человека\n",
        "     \n",
        "    def display_info(self):\n",
        "        print(f\"Name: {self.name}  Age: {self.age}\")\n",
        " \n",
        " \n",
        "tom = Person(\"Tom\")\n",
        "tom.display_info()      # Name: Tom  Age: 1"
      ],
      "metadata": {
        "colab": {
          "base_uri": "https://localhost:8080/"
        },
        "id": "EahtcXINuZah",
        "outputId": "bdee8350-d30e-438a-bcbe-03fa07379c86"
      },
      "execution_count": 27,
      "outputs": [
        {
          "output_type": "stream",
          "name": "stdout",
          "text": [
            "Name: Tom  Age: 1\n"
          ]
        }
      ]
    },
    {
      "cell_type": "markdown",
      "source": [
        "Подобным образом можно создавать и другие объекты класса:"
      ],
      "metadata": {
        "id": "PQSeb7_Pu8x3"
      }
    },
    {
      "cell_type": "code",
      "source": [
        "class Person:\n",
        " \n",
        "    def __init__(self, name):\n",
        "        self.name = name    # имя человека\n",
        "        self.age = 1        # возраст человека\n",
        " \n",
        "    def display_info(self):\n",
        "        print(f\"Name: {self.name}  Age: {self.age}\")\n",
        " \n",
        " \n",
        "tom = Person(\"Tom\")\n",
        "tom.age = 37\n",
        "tom.display_info()      # Name: Tom  Age: 37\n",
        " \n",
        "bob = Person(\"Bob\")\n",
        "bob.age = 41\n",
        "bob.display_info()      # Name: Bob  Age: 41"
      ],
      "metadata": {
        "colab": {
          "base_uri": "https://localhost:8080/"
        },
        "id": "Toz1OQYKvBL7",
        "outputId": "63015ac2-cc48-4141-d2bf-97fb7ed979a5"
      },
      "execution_count": 28,
      "outputs": [
        {
          "output_type": "stream",
          "name": "stdout",
          "text": [
            "Name: Tom  Age: 37\n",
            "Name: Bob  Age: 41\n"
          ]
        }
      ]
    },
    {
      "cell_type": "markdown",
      "source": [
        "В строке:"
      ],
      "metadata": {
        "id": "sxzwatBdvcQT"
      }
    },
    {
      "cell_type": "code",
      "source": [
        "tom.display_info()      # Name: Tom  Age: 37"
      ],
      "metadata": {
        "colab": {
          "base_uri": "https://localhost:8080/"
        },
        "id": "REhk5Qc-vdwx",
        "outputId": "ff590566-e391-40cc-d6d4-77a59020dbc2"
      },
      "execution_count": 29,
      "outputs": [
        {
          "output_type": "stream",
          "name": "stdout",
          "text": [
            "Name: Tom  Age: 37\n"
          ]
        }
      ]
    },
    {
      "cell_type": "markdown",
      "source": [
        "Python динамически будет определять self у объекта tom."
      ],
      "metadata": {
        "id": "p0W9mbptvweu"
      }
    },
    {
      "cell_type": "markdown",
      "source": [
        "А при вызове"
      ],
      "metadata": {
        "id": "LG2S0PYGv38T"
      }
    },
    {
      "cell_type": "code",
      "source": [
        "bob.display_info()"
      ],
      "metadata": {
        "colab": {
          "base_uri": "https://localhost:8080/"
        },
        "id": "q2qskUaFv5FW",
        "outputId": "cb725f95-6154-4737-b814-5f91257a9a8e"
      },
      "execution_count": 30,
      "outputs": [
        {
          "output_type": "stream",
          "name": "stdout",
          "text": [
            "Name: Bob  Age: 41\n"
          ]
        }
      ]
    },
    {
      "cell_type": "markdown",
      "source": [
        "это будет объект bob."
      ],
      "metadata": {
        "id": "up4WXIakv_Zn"
      }
    },
    {
      "cell_type": "markdown",
      "source": [
        "Для определения класса используется оператор class:"
      ],
      "metadata": {
        "id": "NGcKhod5k_Yv"
      }
    },
    {
      "cell_type": "code",
      "source": [
        "class имя_класса(надкласс1, надкласс2, ...):\n",
        "    # определения атрибутов и методов класса"
      ],
      "metadata": {
        "id": "VWzrhTHHk-yi"
      },
      "execution_count": null,
      "outputs": []
    },
    {
      "cell_type": "markdown",
      "source": [
        "Минимально возможное определение класса выглядит так:"
      ],
      "metadata": {
        "id": "FZ5mU_OZlEZc"
      }
    },
    {
      "cell_type": "code",
      "source": [
        "class A:\n",
        "    pass"
      ],
      "metadata": {
        "id": "vLVjGG3dlMwj"
      },
      "execution_count": 5,
      "outputs": []
    },
    {
      "cell_type": "markdown",
      "source": [
        "Определения методов аналогичны определениям функций, но (за некоторыми исключениями, о которых ниже) методы всегда имеют первый аргумент, называемый по общепринятому соглашению self:"
      ],
      "metadata": {
        "id": "lG1AEIV0l676"
      }
    },
    {
      "cell_type": "code",
      "source": [
        "class A:\n",
        "    def m1(self, x):\n",
        "        # блок кода метода"
      ],
      "metadata": {
        "id": "ii85rZ6ymCar"
      },
      "execution_count": null,
      "outputs": []
    },
    {
      "cell_type": "code",
      "source": [
        "class A:\n",
        "    attr1 = 2 * 2"
      ],
      "metadata": {
        "id": "Ku4mGiV5mbHW"
      },
      "execution_count": 7,
      "outputs": []
    },
    {
      "cell_type": "markdown",
      "source": [
        "В языке Python класс не является чем-то статическим, поэтому добавить атрибуты можно и после определения:"
      ],
      "metadata": {
        "id": "NWUeQwevmfD6"
      }
    },
    {
      "cell_type": "code",
      "source": [
        "class A:\n",
        "    pass\n",
        "\n",
        "def my_method(self, x):\n",
        "    return x * x\n",
        "\n",
        "A.m1 = my_method\n",
        "A.attr1 = 2 * 2"
      ],
      "metadata": {
        "id": "P2OeQ8VlmgBL"
      },
      "execution_count": 8,
      "outputs": []
    },
    {
      "cell_type": "markdown",
      "source": [
        "Для создания объекта — экземпляра класса (то есть, инстанцирования класса), достаточно вызвать класс по имени и задать параметры конструктора:"
      ],
      "metadata": {
        "id": "8AEJ8FsNyt-x"
      }
    },
    {
      "cell_type": "code",
      "source": [
        "class Point:\n",
        "    def __init__(self, x, y, z):\n",
        "        self.coord = (x, y, z)\n",
        "\n",
        "    def __repr__(self):\n",
        "        return \"Point(%s, %s, %s)\" % self.coord"
      ],
      "metadata": {
        "id": "T98Po1cmyvPL"
      },
      "execution_count": 31,
      "outputs": []
    },
    {
      "cell_type": "code",
      "source": [
        "p = Point(0.0, 1.0, 0.0)"
      ],
      "metadata": {
        "id": "2f6j2YEwy614"
      },
      "execution_count": 32,
      "outputs": []
    },
    {
      "cell_type": "code",
      "source": [
        "p"
      ],
      "metadata": {
        "colab": {
          "base_uri": "https://localhost:8080/"
        },
        "id": "JixPMBIVy98H",
        "outputId": "6ffc176c-d17f-401f-c157-7f1b5a83def9"
      },
      "execution_count": 33,
      "outputs": [
        {
          "output_type": "execute_result",
          "data": {
            "text/plain": [
              "Point(0.0, 1.0, 0.0)"
            ]
          },
          "metadata": {},
          "execution_count": 33
        }
      ]
    },
    {
      "cell_type": "markdown",
      "source": [
        "Следующий код демонстрирует один из вариантов реализации шаблона Одиночка:"
      ],
      "metadata": {
        "id": "Dbbr2rjBzP1e"
      }
    },
    {
      "cell_type": "code",
      "source": [
        "class Singleton(object):\n",
        "        obj = None                           # Атрибут для хранения единственного экземпляра\n",
        "        def __new__(cls, *dt, **mp):         # класса Singleton.\n",
        "            if cls.obj is None:              # Если он еще не создан, то\n",
        "                cls.obj = object.__new__(cls, *dt, **mp)  # вызовем __new__ родительского класса\n",
        "            return cls.obj                   # вернем синглтон"
      ],
      "metadata": {
        "id": "gaU2KnaPzQ4h"
      },
      "execution_count": 34,
      "outputs": []
    },
    {
      "cell_type": "code",
      "source": [
        "obj = Singleton()"
      ],
      "metadata": {
        "id": "4OfROaTnzYtH"
      },
      "execution_count": 35,
      "outputs": []
    },
    {
      "cell_type": "code",
      "source": [
        "obj.attr = 12"
      ],
      "metadata": {
        "id": "2Zy36hTWzdcX"
      },
      "execution_count": 36,
      "outputs": []
    },
    {
      "cell_type": "code",
      "source": [
        "new_obj = Singleton()"
      ],
      "metadata": {
        "id": "qu2x9byFzh1p"
      },
      "execution_count": 37,
      "outputs": []
    },
    {
      "cell_type": "code",
      "source": [
        "new_obj.attr"
      ],
      "metadata": {
        "colab": {
          "base_uri": "https://localhost:8080/"
        },
        "id": "8YMLoRlQzlpF",
        "outputId": "6f55e4ad-40d4-411a-b97c-d57c8d85e0f9"
      },
      "execution_count": 38,
      "outputs": [
        {
          "output_type": "execute_result",
          "data": {
            "text/plain": [
              "12"
            ]
          },
          "metadata": {},
          "execution_count": 38
        }
      ]
    },
    {
      "cell_type": "code",
      "source": [
        "new_obj is obj                     # new_obj и obj - это один и тот же объект"
      ],
      "metadata": {
        "colab": {
          "base_uri": "https://localhost:8080/"
        },
        "id": "hvqZUs7kzqy4",
        "outputId": "91515aa9-0ea3-4d1e-8f99-4ff8946b11bb"
      },
      "execution_count": 39,
      "outputs": [
        {
          "output_type": "execute_result",
          "data": {
            "text/plain": [
              "True"
            ]
          },
          "metadata": {},
          "execution_count": 39
        }
      ]
    },
    {
      "cell_type": "markdown",
      "source": [
        "Следующий класс имеет конструктор, инициализатор и деструктор:"
      ],
      "metadata": {
        "id": "4b2n-44azyEY"
      }
    },
    {
      "cell_type": "code",
      "source": [
        "class Line:\n",
        "    def __new__(cls):                            # Конструктор\n",
        "        return super(Line, cls).__new__(cls)\n",
        "\n",
        "    def __init__(self, p1, p2):                  # Инициализатор\n",
        "        self.line = (p1, p2)\n",
        "\n",
        "    def __del__(self):                           # Деструктор\n",
        "        print(\"Удаляется линия %s - %s\" % self.line)"
      ],
      "metadata": {
        "id": "OhBnVJeqzzWn"
      },
      "execution_count": 40,
      "outputs": []
    },
    {
      "cell_type": "code",
      "source": [
        "class Line:\n",
        "    def __init__(self, p1, p2):                  # Инициализатор\n",
        "        self.line = (p1, p2)\n",
        "\n",
        "    def __del__(self):                           # Деструктор\n",
        "        print(\"Удаляется линия %s - %s\" % self.line)"
      ],
      "metadata": {
        "id": "U2dlARPc1gZ6"
      },
      "execution_count": 48,
      "outputs": []
    },
    {
      "cell_type": "code",
      "source": [
        "l = Line((0.0, 1.0), (0.0, 2.0))"
      ],
      "metadata": {
        "id": "DeiJKvbT1lrn"
      },
      "execution_count": 49,
      "outputs": []
    },
    {
      "cell_type": "code",
      "source": [
        "del l"
      ],
      "metadata": {
        "colab": {
          "base_uri": "https://localhost:8080/"
        },
        "id": "go-zgYFi1qBk",
        "outputId": "c80a83ab-4aec-4127-ad3f-2282dc0c5d4d"
      },
      "execution_count": 50,
      "outputs": [
        {
          "output_type": "stream",
          "name": "stdout",
          "text": [
            "Удаляется линия (0.0, 1.0) - (0.0, 2.0)\n"
          ]
        }
      ]
    },
    {
      "cell_type": "code",
      "source": [
        "import shelve"
      ],
      "metadata": {
        "id": "jJ59yel92O7_"
      },
      "execution_count": 51,
      "outputs": []
    },
    {
      "cell_type": "code",
      "source": [
        "s = shelve.open(\"somefile.db\")"
      ],
      "metadata": {
        "id": "3gd0Wpqn2S9Y"
      },
      "execution_count": 52,
      "outputs": []
    },
    {
      "cell_type": "code",
      "source": [
        "s['myobject'] = [1, 2, 3, 4, 'свечка']"
      ],
      "metadata": {
        "id": "XYKHbjpP2Wi-"
      },
      "execution_count": 53,
      "outputs": []
    },
    {
      "cell_type": "code",
      "source": [
        "s.close()"
      ],
      "metadata": {
        "id": "rLHWJWIk2ala"
      },
      "execution_count": 54,
      "outputs": []
    },
    {
      "cell_type": "code",
      "source": [
        "import shelve"
      ],
      "metadata": {
        "id": "vpAKi2Im2fPx"
      },
      "execution_count": 55,
      "outputs": []
    },
    {
      "cell_type": "code",
      "source": [
        "s = shelve.open(\"somefile.db\")"
      ],
      "metadata": {
        "id": "oYH8atJ-2jIP"
      },
      "execution_count": 56,
      "outputs": []
    },
    {
      "cell_type": "code",
      "source": [
        "print(s['myobject'])"
      ],
      "metadata": {
        "colab": {
          "base_uri": "https://localhost:8080/"
        },
        "id": "WEob-EhS2nMT",
        "outputId": "18991f50-8dc6-4105-8508-11004b9aceeb"
      },
      "execution_count": 58,
      "outputs": [
        {
          "output_type": "stream",
          "name": "stdout",
          "text": [
            "[1, 2, 3, 4, 'свечка']\n"
          ]
        }
      ]
    },
    {
      "cell_type": "code",
      "source": [
        "class parent(object):\n",
        "      def __init__(self):\n",
        "          self.__f = 2\n",
        "      def get(self):\n",
        "          return self.__f"
      ],
      "metadata": {
        "id": "YxjM72Mt4GuU"
      },
      "execution_count": 93,
      "outputs": []
    },
    {
      "cell_type": "code",
      "source": [
        "class child(parent):\n",
        "    def __init__(self):\n",
        "        self.__f = 1\n",
        "        parent.__init__(self)\n",
        "    def cget(self):\n",
        "        return self.__f"
      ],
      "metadata": {
        "id": "K22xPQI14K4C"
      },
      "execution_count": 94,
      "outputs": []
    },
    {
      "cell_type": "code",
      "source": [
        "c = child()"
      ],
      "metadata": {
        "id": "0WcH-h-94OJ8"
      },
      "execution_count": 61,
      "outputs": []
    },
    {
      "cell_type": "code",
      "source": [
        "c.get()"
      ],
      "metadata": {
        "colab": {
          "base_uri": "https://localhost:8080/"
        },
        "id": "kwaUrCSZ4Rpi",
        "outputId": "ce1997c5-5e93-410d-d4f1-9967f60e0aae"
      },
      "execution_count": 62,
      "outputs": [
        {
          "output_type": "execute_result",
          "data": {
            "text/plain": [
              "2"
            ]
          },
          "metadata": {},
          "execution_count": 62
        }
      ]
    },
    {
      "cell_type": "code",
      "source": [
        "c.cget()"
      ],
      "metadata": {
        "colab": {
          "base_uri": "https://localhost:8080/"
        },
        "id": "57JkoL5t4eUl",
        "outputId": "e12c589c-c9b3-4f3c-e5e4-1dde8fec5002"
      },
      "execution_count": 63,
      "outputs": [
        {
          "output_type": "execute_result",
          "data": {
            "text/plain": [
              "1"
            ]
          },
          "metadata": {},
          "execution_count": 63
        }
      ]
    },
    {
      "cell_type": "code",
      "source": [
        "c.__dict__"
      ],
      "metadata": {
        "colab": {
          "base_uri": "https://localhost:8080/"
        },
        "id": "1KgrORRc4kgh",
        "outputId": "892fb8cf-3c7c-47bd-8b8a-aff1c666dfb7"
      },
      "execution_count": 67,
      "outputs": [
        {
          "output_type": "execute_result",
          "data": {
            "text/plain": [
              "{'_child__f': 1, '_parent__f': 2}"
            ]
          },
          "metadata": {},
          "execution_count": 67
        }
      ]
    },
    {
      "cell_type": "markdown",
      "source": [
        "Доступ к атрибуту может быть как прямой:"
      ],
      "metadata": {
        "id": "jTjKW4tu44Gl"
      }
    },
    {
      "cell_type": "code",
      "source": [
        "class A(object):\n",
        "    def __init__(self, x):          # атрибут получает значение в инициализаторе\n",
        "        self.x = x\n",
        "\n",
        "a = A(5)\n",
        "print(a.x)"
      ],
      "metadata": {
        "colab": {
          "base_uri": "https://localhost:8080/"
        },
        "id": "0PjHbpb845Eg",
        "outputId": "cafe2317-6da9-474c-f25b-633fda17ca14"
      },
      "execution_count": 69,
      "outputs": [
        {
          "output_type": "stream",
          "name": "stdout",
          "text": [
            "5\n"
          ]
        }
      ]
    },
    {
      "cell_type": "markdown",
      "source": [
        "Так и с использованием свойств с заданными методами для получения, установки и удаления атрибута:"
      ],
      "metadata": {
        "id": "SG7cyrZZ5DAj"
      }
    },
    {
      "cell_type": "code",
      "source": [
        "class A(object):\n",
        "    def __init__(self, x):\n",
        "        self._x = x\n",
        "\n",
        "    def getx(self):                 # метод для получения значения\n",
        "        return self._x\n",
        "\n",
        "    def setx(self, value):          # метод для присваивания нового значения\n",
        "        self._x = value\n",
        "\n",
        "    def delx(self):                 # метод для удаления атрибута\n",
        "        del self._x                 \n",
        "\n",
        "    x = property(getx, setx, delx, \"Свойство x\")    # определяем x как свойство\n",
        "\n",
        "a = A(5)      \n",
        "print(a.x)      # Синтаксис доступа к атрибуту при этом прежний"
      ],
      "metadata": {
        "colab": {
          "base_uri": "https://localhost:8080/"
        },
        "id": "ZxzUQcMv5D4h",
        "outputId": "65025223-5196-40f7-9e0c-3e0835e57481"
      },
      "execution_count": 70,
      "outputs": [
        {
          "output_type": "stream",
          "name": "stdout",
          "text": [
            "5\n"
          ]
        }
      ]
    },
    {
      "cell_type": "code",
      "source": [
        "class Parent(object):\n",
        "        def isParOrPChild(self) : return True\n",
        "        def who(self) : return 'parent'"
      ],
      "metadata": {
        "id": "NqJ4Dj7X7M5W"
      },
      "execution_count": 90,
      "outputs": []
    },
    {
      "cell_type": "code",
      "source": [
        "class Child(Parent):\n",
        "        def who(self): return 'child'"
      ],
      "metadata": {
        "id": "ZLHRZvBG7QIZ"
      },
      "execution_count": 91,
      "outputs": []
    },
    {
      "cell_type": "code",
      "source": [
        "x = Parent()"
      ],
      "metadata": {
        "id": "kD1SHrwa7TG5"
      },
      "execution_count": 73,
      "outputs": []
    },
    {
      "cell_type": "code",
      "source": [
        "x.who(), x.isParOrPChild()"
      ],
      "metadata": {
        "colab": {
          "base_uri": "https://localhost:8080/"
        },
        "id": "p4KcZS0v7WR-",
        "outputId": "d73bc737-c46e-4a81-b70f-5b097f22d2f0"
      },
      "execution_count": 74,
      "outputs": [
        {
          "output_type": "execute_result",
          "data": {
            "text/plain": [
              "('parent', True)"
            ]
          },
          "metadata": {},
          "execution_count": 74
        }
      ]
    },
    {
      "cell_type": "code",
      "source": [
        "x = Child()"
      ],
      "metadata": {
        "id": "yyl540oF7bf5"
      },
      "execution_count": 75,
      "outputs": []
    },
    {
      "cell_type": "code",
      "source": [
        "x.who(), x.isParOrPChild()"
      ],
      "metadata": {
        "colab": {
          "base_uri": "https://localhost:8080/"
        },
        "id": "QXmQtaam7iBq",
        "outputId": "856fa7a2-0cf7-4f6f-e473-e35f931a62b7"
      },
      "execution_count": 76,
      "outputs": [
        {
          "output_type": "execute_result",
          "data": {
            "text/plain": [
              "('child', True)"
            ]
          },
          "metadata": {},
          "execution_count": 76
        }
      ]
    },
    {
      "cell_type": "code",
      "source": [
        "class Child(Parent):\n",
        "        def __init__(self):\n",
        "            Parent.__init__(self)"
      ],
      "metadata": {
        "id": "fxl_CIrH7nJA"
      },
      "execution_count": 77,
      "outputs": []
    },
    {
      "cell_type": "code",
      "source": [
        "class Child(Parent):\n",
        "    def __init__(self):\n",
        "        super(Child, self).__init__()"
      ],
      "metadata": {
        "id": "bkOGqmgC7teO"
      },
      "execution_count": 88,
      "outputs": []
    },
    {
      "cell_type": "markdown",
      "source": [
        "Используя специально предусмотренное исключение NotImplementedError, можно имитировать чисто виртуальные методы:"
      ],
      "metadata": {
        "id": "oMvZjIfy7yJR"
      }
    },
    {
      "cell_type": "code",
      "source": [
        "class abstobj(object):\n",
        "        def abstmeth(self):\n",
        "            raise NotImplementedError('Method abstobj.abstmeth is pure virtual')"
      ],
      "metadata": {
        "id": "Bl2fSriH7x18"
      },
      "execution_count": 79,
      "outputs": []
    },
    {
      "cell_type": "code",
      "source": [
        "abstobj().abstmeth()"
      ],
      "metadata": {
        "colab": {
          "base_uri": "https://localhost:8080/",
          "height": 258
        },
        "id": "__tVSDWY76pe",
        "outputId": "01c713a7-8312-4c1a-9043-727bf8dcd169"
      },
      "execution_count": 80,
      "outputs": [
        {
          "output_type": "error",
          "ename": "NotImplementedError",
          "evalue": "ignored",
          "traceback": [
            "\u001b[0;31m---------------------------------------------------------------------------\u001b[0m",
            "\u001b[0;31mNotImplementedError\u001b[0m                       Traceback (most recent call last)",
            "\u001b[0;32m<ipython-input-80-713c36deec47>\u001b[0m in \u001b[0;36m<module>\u001b[0;34m\u001b[0m\n\u001b[0;32m----> 1\u001b[0;31m \u001b[0mabstobj\u001b[0m\u001b[0;34m(\u001b[0m\u001b[0;34m)\u001b[0m\u001b[0;34m.\u001b[0m\u001b[0mabstmeth\u001b[0m\u001b[0;34m(\u001b[0m\u001b[0;34m)\u001b[0m\u001b[0;34m\u001b[0m\u001b[0;34m\u001b[0m\u001b[0m\n\u001b[0m",
            "\u001b[0;32m<ipython-input-79-869d1cd28018>\u001b[0m in \u001b[0;36mabstmeth\u001b[0;34m(self)\u001b[0m\n\u001b[1;32m      1\u001b[0m \u001b[0;32mclass\u001b[0m \u001b[0mabstobj\u001b[0m\u001b[0;34m(\u001b[0m\u001b[0mobject\u001b[0m\u001b[0;34m)\u001b[0m\u001b[0;34m:\u001b[0m\u001b[0;34m\u001b[0m\u001b[0;34m\u001b[0m\u001b[0m\n\u001b[1;32m      2\u001b[0m         \u001b[0;32mdef\u001b[0m \u001b[0mabstmeth\u001b[0m\u001b[0;34m(\u001b[0m\u001b[0mself\u001b[0m\u001b[0;34m)\u001b[0m\u001b[0;34m:\u001b[0m\u001b[0;34m\u001b[0m\u001b[0;34m\u001b[0m\u001b[0m\n\u001b[0;32m----> 3\u001b[0;31m             \u001b[0;32mraise\u001b[0m \u001b[0mNotImplementedError\u001b[0m\u001b[0;34m(\u001b[0m\u001b[0;34m'Method abstobj.abstmeth is pure virtual'\u001b[0m\u001b[0;34m)\u001b[0m\u001b[0;34m\u001b[0m\u001b[0;34m\u001b[0m\u001b[0m\n\u001b[0m",
            "\u001b[0;31mNotImplementedError\u001b[0m: Method abstobj.abstmeth is pure virtual"
          ]
        }
      ]
    },
    {
      "cell_type": "markdown",
      "source": [
        "Или, с использованием декоратора, так:"
      ],
      "metadata": {
        "id": "y-NTNKkU8ADg"
      }
    },
    {
      "cell_type": "code",
      "source": [
        "def abstract(func):\n",
        "        def closure(*dt, **mp):\n",
        "            raise NotImplementedError(\"Method %s is pure virtual\" % func.__name__)\n",
        "        return closure"
      ],
      "metadata": {
        "id": "i3hSShkP7_hT"
      },
      "execution_count": 81,
      "outputs": []
    },
    {
      "cell_type": "code",
      "source": [
        "class abstobj(object):\n",
        "        @abstract\n",
        "        def abstmeth(self): pass"
      ],
      "metadata": {
        "id": "AqhomvMD8JAg"
      },
      "execution_count": 82,
      "outputs": []
    },
    {
      "cell_type": "code",
      "source": [
        "abstobj().abstmeth()"
      ],
      "metadata": {
        "colab": {
          "base_uri": "https://localhost:8080/",
          "height": 276
        },
        "id": "9Gc1e-BF8Mgj",
        "outputId": "b3db5475-d644-471d-c8a4-989b0cf4d5a3"
      },
      "execution_count": 83,
      "outputs": [
        {
          "output_type": "error",
          "ename": "NotImplementedError",
          "evalue": "ignored",
          "traceback": [
            "\u001b[0;31m---------------------------------------------------------------------------\u001b[0m",
            "\u001b[0;31mNotImplementedError\u001b[0m                       Traceback (most recent call last)",
            "\u001b[0;32m<ipython-input-83-713c36deec47>\u001b[0m in \u001b[0;36m<module>\u001b[0;34m\u001b[0m\n\u001b[0;32m----> 1\u001b[0;31m \u001b[0mabstobj\u001b[0m\u001b[0;34m(\u001b[0m\u001b[0;34m)\u001b[0m\u001b[0;34m.\u001b[0m\u001b[0mabstmeth\u001b[0m\u001b[0;34m(\u001b[0m\u001b[0;34m)\u001b[0m\u001b[0;34m\u001b[0m\u001b[0;34m\u001b[0m\u001b[0m\n\u001b[0m",
            "\u001b[0;32m<ipython-input-81-a8ca3e74469b>\u001b[0m in \u001b[0;36mclosure\u001b[0;34m(*dt, **mp)\u001b[0m\n\u001b[1;32m      1\u001b[0m \u001b[0;32mdef\u001b[0m \u001b[0mabstract\u001b[0m\u001b[0;34m(\u001b[0m\u001b[0mfunc\u001b[0m\u001b[0;34m)\u001b[0m\u001b[0;34m:\u001b[0m\u001b[0;34m\u001b[0m\u001b[0;34m\u001b[0m\u001b[0m\n\u001b[1;32m      2\u001b[0m         \u001b[0;32mdef\u001b[0m \u001b[0mclosure\u001b[0m\u001b[0;34m(\u001b[0m\u001b[0;34m*\u001b[0m\u001b[0mdt\u001b[0m\u001b[0;34m,\u001b[0m \u001b[0;34m**\u001b[0m\u001b[0mmp\u001b[0m\u001b[0;34m)\u001b[0m\u001b[0;34m:\u001b[0m\u001b[0;34m\u001b[0m\u001b[0;34m\u001b[0m\u001b[0m\n\u001b[0;32m----> 3\u001b[0;31m             \u001b[0;32mraise\u001b[0m \u001b[0mNotImplementedError\u001b[0m\u001b[0;34m(\u001b[0m\u001b[0;34m\"Method %s is pure virtual\"\u001b[0m \u001b[0;34m%\u001b[0m \u001b[0mfunc\u001b[0m\u001b[0;34m.\u001b[0m\u001b[0m__name__\u001b[0m\u001b[0;34m)\u001b[0m\u001b[0;34m\u001b[0m\u001b[0;34m\u001b[0m\u001b[0m\n\u001b[0m\u001b[1;32m      4\u001b[0m         \u001b[0;32mreturn\u001b[0m \u001b[0mclosure\u001b[0m\u001b[0;34m\u001b[0m\u001b[0;34m\u001b[0m\u001b[0m\n",
            "\u001b[0;31mNotImplementedError\u001b[0m: Method abstmeth is pure virtual"
          ]
        }
      ]
    },
    {
      "cell_type": "markdown",
      "source": [
        "Изменяя атрибут __class__, можно перемещать объект вверх или вниз по иерархии наследования (впрочем, как и к любому другому типу)"
      ],
      "metadata": {
        "id": "R9G1d0vr8T8b"
      }
    },
    {
      "cell_type": "code",
      "source": [
        "c = Child()"
      ],
      "metadata": {
        "id": "hbaL5oCQ8Sh4"
      },
      "execution_count": 99,
      "outputs": []
    },
    {
      "cell_type": "code",
      "source": [
        "c.val = 10"
      ],
      "metadata": {
        "id": "jLUsoOAm8Y5o"
      },
      "execution_count": 100,
      "outputs": []
    },
    {
      "cell_type": "code",
      "source": [
        "c.who()"
      ],
      "metadata": {
        "colab": {
          "base_uri": "https://localhost:8080/",
          "height": 35
        },
        "id": "jJpA69ik8byv",
        "outputId": "8cca44b0-a036-4891-ecaa-de3f89cac482"
      },
      "execution_count": 101,
      "outputs": [
        {
          "output_type": "execute_result",
          "data": {
            "text/plain": [
              "'child'"
            ],
            "application/vnd.google.colaboratory.intrinsic+json": {
              "type": "string"
            }
          },
          "metadata": {},
          "execution_count": 101
        }
      ]
    },
    {
      "cell_type": "code",
      "source": [
        "c.__class__ = Parent"
      ],
      "metadata": {
        "id": "hHYjm4kH9KLn"
      },
      "execution_count": 102,
      "outputs": []
    },
    {
      "cell_type": "code",
      "source": [
        "c.who()"
      ],
      "metadata": {
        "colab": {
          "base_uri": "https://localhost:8080/",
          "height": 35
        },
        "id": "V9BJcw_C9Na5",
        "outputId": "a0215aed-fd60-40b3-b4c9-95c311e1112c"
      },
      "execution_count": 103,
      "outputs": [
        {
          "output_type": "execute_result",
          "data": {
            "text/plain": [
              "'parent'"
            ],
            "application/vnd.google.colaboratory.intrinsic+json": {
              "type": "string"
            }
          },
          "metadata": {},
          "execution_count": 103
        }
      ]
    },
    {
      "cell_type": "code",
      "source": [
        "c.val"
      ],
      "metadata": {
        "colab": {
          "base_uri": "https://localhost:8080/"
        },
        "id": "P8kOEAmZ9Qr0",
        "outputId": "912160a1-b25d-4db6-a797-046d272ae742"
      },
      "execution_count": 104,
      "outputs": [
        {
          "output_type": "execute_result",
          "data": {
            "text/plain": [
              "10"
            ]
          },
          "metadata": {},
          "execution_count": 104
        }
      ]
    },
    {
      "cell_type": "markdown",
      "source": [
        "Самый простой пример исползования синтаксической поддержки — переопределить функцию:"
      ],
      "metadata": {
        "id": "iqrzRnw2-1oR"
      }
    },
    {
      "cell_type": "code",
      "source": [
        "class Add:\n",
        "      def __call__(self, x, y):    # переопределение метода, \n",
        "          return x + y             # который отвечает за операцию вызова функции"
      ],
      "metadata": {
        "id": "YuP6mO07_LaU"
      },
      "execution_count": 105,
      "outputs": []
    },
    {
      "cell_type": "code",
      "source": [
        "add = Add()"
      ],
      "metadata": {
        "id": "BUBKoL16_UJy"
      },
      "execution_count": 107,
      "outputs": []
    },
    {
      "cell_type": "code",
      "source": [
        "add(3, 4)                         # это эквивалентно add.__call__(3, 4)"
      ],
      "metadata": {
        "colab": {
          "base_uri": "https://localhost:8080/"
        },
        "id": "m4XcXUp0_eqs",
        "outputId": "963df2fb-68fa-401c-afa0-afebe67dde74"
      },
      "execution_count": 108,
      "outputs": [
        {
          "output_type": "execute_result",
          "data": {
            "text/plain": [
              "7"
            ]
          },
          "metadata": {},
          "execution_count": 108
        }
      ]
    },
    {
      "cell_type": "markdown",
      "source": [
        "Эта встроенная функция вызывает специальный метод:"
      ],
      "metadata": {
        "id": "piK7ulvB_k4G"
      }
    },
    {
      "cell_type": "code",
      "source": [
        "class wrongList(list):     # определяем собственный класс для списка\n",
        "     def __len__(self):     # который всегда считает, что имеет нулевую длину\n",
        "         return 0"
      ],
      "metadata": {
        "id": "1F1AIHt-_mNh"
      },
      "execution_count": 109,
      "outputs": []
    },
    {
      "cell_type": "code",
      "source": [
        "w = wrongList([1,2,3])"
      ],
      "metadata": {
        "id": "uIZgZ-0t_uns"
      },
      "execution_count": 110,
      "outputs": []
    },
    {
      "cell_type": "code",
      "source": [
        "len(w)                     # это эквивалентно w.__len__()"
      ],
      "metadata": {
        "colab": {
          "base_uri": "https://localhost:8080/"
        },
        "id": "SpAHEBxz_zQp",
        "outputId": "db3aaa86-60a3-41e4-e0d6-9f244dd1ff63"
      },
      "execution_count": 111,
      "outputs": [
        {
          "output_type": "execute_result",
          "data": {
            "text/plain": [
              "0"
            ]
          },
          "metadata": {},
          "execution_count": 111
        }
      ]
    },
    {
      "cell_type": "markdown",
      "source": [
        "Следующий класс использует инфиксную операцию *:"
      ],
      "metadata": {
        "id": "eNhQX47n_6Tg"
      }
    },
    {
      "cell_type": "code",
      "source": [
        "class Multiplyable:\n",
        "    def __init__(self, value):\n",
        "        self.value = value\n",
        "\n",
        "    def __mul__(self, y):\n",
        "        return self.value * y\n",
        "\n",
        "    def __rmul__(self, x):\n",
        "        return x * self.value\n",
        "\n",
        "    def __imul__(self, y):\n",
        "        return Multiplyable(self.value * y)\n",
        "\n",
        "    def __str__(self):\n",
        "        return \"Multiplyable(%s)\" % self.value"
      ],
      "metadata": {
        "id": "1oRehOZ__73i"
      },
      "execution_count": 112,
      "outputs": []
    },
    {
      "cell_type": "code",
      "source": [
        "m = Multiplyable(1)"
      ],
      "metadata": {
        "id": "J9q6YK2ZAA5S"
      },
      "execution_count": 113,
      "outputs": []
    },
    {
      "cell_type": "code",
      "source": [
        "print(m)"
      ],
      "metadata": {
        "colab": {
          "base_uri": "https://localhost:8080/"
        },
        "id": "bhkdUj_RAFl-",
        "outputId": "20bc2331-0ddb-431d-e4de-b565d8f5c135"
      },
      "execution_count": 114,
      "outputs": [
        {
          "output_type": "stream",
          "name": "stdout",
          "text": [
            "Multiplyable(1)\n"
          ]
        }
      ]
    },
    {
      "cell_type": "code",
      "source": [
        "m *= 3"
      ],
      "metadata": {
        "id": "m8tYZBi_AJnB"
      },
      "execution_count": 115,
      "outputs": []
    },
    {
      "cell_type": "code",
      "source": [
        "print(m)"
      ],
      "metadata": {
        "colab": {
          "base_uri": "https://localhost:8080/"
        },
        "id": "5Kxlaif4AMoP",
        "outputId": "2a5427cf-5c4a-421d-fd39-19d285a67d96"
      },
      "execution_count": 116,
      "outputs": [
        {
          "output_type": "stream",
          "name": "stdout",
          "text": [
            "Multiplyable(3)\n"
          ]
        }
      ]
    },
    {
      "cell_type": "markdown",
      "source": [
        "Аналогичные методы имеются и у соответствующих встроенных типов:"
      ],
      "metadata": {
        "id": "mq25ds34AALp"
      }
    },
    {
      "cell_type": "code",
      "source": [
        "int.__add__"
      ],
      "metadata": {
        "colab": {
          "base_uri": "https://localhost:8080/"
        },
        "id": "DsIoU-d5AWU2",
        "outputId": "8c5e0c1a-3b5e-4e52-e2cb-42e842f26d27"
      },
      "execution_count": 117,
      "outputs": [
        {
          "output_type": "execute_result",
          "data": {
            "text/plain": [
              "<slot wrapper '__add__' of 'int' objects>"
            ]
          },
          "metadata": {},
          "execution_count": 117
        }
      ]
    },
    {
      "cell_type": "code",
      "source": [
        "[].__getitem__"
      ],
      "metadata": {
        "colab": {
          "base_uri": "https://localhost:8080/"
        },
        "id": "epR5ie_HAbFU",
        "outputId": "a6afa13f-d365-4aab-9ff3-70054d9d3029"
      },
      "execution_count": 118,
      "outputs": [
        {
          "output_type": "execute_result",
          "data": {
            "text/plain": [
              "<function list.__getitem__>"
            ]
          },
          "metadata": {},
          "execution_count": 118
        }
      ]
    },
    {
      "cell_type": "code",
      "source": [
        "class a(object):pass"
      ],
      "metadata": {
        "id": "ZXhjn82nAeR1"
      },
      "execution_count": 119,
      "outputs": []
    },
    {
      "cell_type": "code",
      "source": [
        "a.__call__"
      ],
      "metadata": {
        "colab": {
          "base_uri": "https://localhost:8080/"
        },
        "id": "7H_qD7LmAhZ3",
        "outputId": "20bb4e04-fae9-46f5-e436-15d6eb40bf19"
      },
      "execution_count": 120,
      "outputs": [
        {
          "output_type": "execute_result",
          "data": {
            "text/plain": [
              "<method-wrapper '__call__' of type object at 0x24c4dc0>"
            ]
          },
          "metadata": {},
          "execution_count": 120
        }
      ]
    },
    {
      "cell_type": "code",
      "source": [
        "class Par1(object):                # наследуем один базовый класс - object\n",
        "        def name1(self): return 'Par1'"
      ],
      "metadata": {
        "id": "4qmIeTB0BJqm"
      },
      "execution_count": 121,
      "outputs": []
    },
    {
      "cell_type": "code",
      "source": [
        "class Par2(object):\n",
        "        def name2(self): return 'Par2'"
      ],
      "metadata": {
        "id": "LAfUJMtjBTBY"
      },
      "execution_count": 122,
      "outputs": []
    },
    {
      "cell_type": "code",
      "source": [
        "class Child(Par1, Par2):           # создадим класс, наследующий Par1, Par2 (и, опосредованно, object)\n",
        "        pass"
      ],
      "metadata": {
        "id": "MD4a_60tBWNp"
      },
      "execution_count": 123,
      "outputs": []
    },
    {
      "cell_type": "code",
      "source": [
        "x = Child()"
      ],
      "metadata": {
        "id": "1bHMCJ_jBZJR"
      },
      "execution_count": 124,
      "outputs": []
    },
    {
      "cell_type": "code",
      "source": [
        "x.name1(), x.name2()               # экземпляру Child доступны методы из Par1 и Par2"
      ],
      "metadata": {
        "colab": {
          "base_uri": "https://localhost:8080/"
        },
        "id": "ZfUEmb3oBc8v",
        "outputId": "c8aa3595-cace-4acf-c03f-b4b5a38e163f"
      },
      "execution_count": 125,
      "outputs": [
        {
          "output_type": "execute_result",
          "data": {
            "text/plain": [
              "('Par1', 'Par2')"
            ]
          },
          "metadata": {},
          "execution_count": 125
        }
      ]
    },
    {
      "cell_type": "code",
      "source": [
        "class OldStyleClass: pass          # класс \"старого\" типа\n",
        "class NewStyleClass(object): pass  # и \"нового\""
      ],
      "metadata": {
        "id": "8sb6u2UHDMCO"
      },
      "execution_count": 126,
      "outputs": []
    },
    {
      "cell_type": "markdown",
      "source": [
        "Следующий класс из модуля utils.py среды web.py является примером контейнера-словаря, дополненного возможностью доступа к значениям при помощи синтаксиса доступа к атрибутам:"
      ],
      "metadata": {
        "id": "DjVDvTlzEUY5"
      }
    },
    {
      "cell_type": "code",
      "source": [
        "class Storage(dict):\n",
        "    def __getattr__(self, key):\n",
        "        try:\n",
        "            return self[key]\n",
        "        except KeyError as k:\n",
        "            raise AttributeError from k\n",
        "\n",
        "    def __setattr__(self, key, value):\n",
        "        self[key] = value\n",
        "\n",
        "    def __delattr__(self, key):\n",
        "        try:\n",
        "            del self[key]\n",
        "        except KeyError as k:\n",
        "            raise AttributeError from k\n",
        "\n",
        "    def __repr__(self):\n",
        "        return '<Storage ' + dict.__repr__(self) + '>'"
      ],
      "metadata": {
        "id": "gHCofL10EVmX"
      },
      "execution_count": 129,
      "outputs": []
    },
    {
      "cell_type": "markdown",
      "source": [
        "Вот как он работает:"
      ],
      "metadata": {
        "id": "YW5242o5Fo_e"
      }
    },
    {
      "cell_type": "code",
      "source": [
        "v = Storage(a=5)"
      ],
      "metadata": {
        "id": "iqTIrHQMFqQb"
      },
      "execution_count": 130,
      "outputs": []
    },
    {
      "cell_type": "code",
      "source": [
        "v.a"
      ],
      "metadata": {
        "colab": {
          "base_uri": "https://localhost:8080/"
        },
        "id": "kLiRHcjAFvAl",
        "outputId": "d3617ffc-5bde-419c-dd88-b4a8c23bf843"
      },
      "execution_count": 131,
      "outputs": [
        {
          "output_type": "execute_result",
          "data": {
            "text/plain": [
              "5"
            ]
          },
          "metadata": {},
          "execution_count": 131
        }
      ]
    },
    {
      "cell_type": "code",
      "source": [
        "v['a']"
      ],
      "metadata": {
        "colab": {
          "base_uri": "https://localhost:8080/"
        },
        "id": "bd5m04B8Fzqu",
        "outputId": "2a1d6da8-4375-4d01-9e46-117c43d136ce"
      },
      "execution_count": 132,
      "outputs": [
        {
          "output_type": "execute_result",
          "data": {
            "text/plain": [
              "5"
            ]
          },
          "metadata": {},
          "execution_count": 132
        }
      ]
    },
    {
      "cell_type": "code",
      "source": [
        "v.a = 12"
      ],
      "metadata": {
        "id": "Zu89dWypF2pX"
      },
      "execution_count": 133,
      "outputs": []
    },
    {
      "cell_type": "code",
      "source": [
        "v['a']"
      ],
      "metadata": {
        "colab": {
          "base_uri": "https://localhost:8080/"
        },
        "id": "VEcsNsjiF6Qc",
        "outputId": "5abfb2b5-368c-4972-aa00-3c4082490316"
      },
      "execution_count": 134,
      "outputs": [
        {
          "output_type": "execute_result",
          "data": {
            "text/plain": [
              "12"
            ]
          },
          "metadata": {},
          "execution_count": 134
        }
      ]
    },
    {
      "cell_type": "code",
      "source": [
        "del v.a"
      ],
      "metadata": {
        "id": "9U857bSmF-DR"
      },
      "execution_count": 135,
      "outputs": []
    },
    {
      "cell_type": "markdown",
      "source": [
        "Для доступа к контейнерам очень удобно использовать итераторы:"
      ],
      "metadata": {
        "id": "w9_g2BjeGC4n"
      }
    },
    {
      "cell_type": "code",
      "source": [
        "cont = dict(a=1, b=2, c=3)"
      ],
      "metadata": {
        "id": "7X2fK0xSGDny"
      },
      "execution_count": 136,
      "outputs": []
    },
    {
      "cell_type": "code",
      "source": [
        "for k in cont:\n",
        "     print(k, cont[k])"
      ],
      "metadata": {
        "colab": {
          "base_uri": "https://localhost:8080/"
        },
        "id": "3JMesaOaGIbI",
        "outputId": "c8315134-2b94-4ede-cbb2-f0d50f48118e"
      },
      "execution_count": 138,
      "outputs": [
        {
          "output_type": "stream",
          "name": "stdout",
          "text": [
            "a 1\n",
            "b 2\n",
            "c 3\n"
          ]
        }
      ]
    },
    {
      "cell_type": "markdown",
      "source": [
        "Пример взятия за основу класса type при объявлении метакласса:"
      ],
      "metadata": {
        "id": "ZdEJLKMpIB4P"
      }
    },
    {
      "cell_type": "code",
      "source": [
        "# описание метакласса\n",
        "class myobject(type):\n",
        "    # небольшое вмешательство в момент выделения памяти для класса\n",
        "    def __new__(cls, name, bases, dict):\n",
        "        print(\"NEW\", cls.__name__, name, bases, dict)\n",
        "        return type.__new__(cls, name, bases, dict)\n",
        "    # небольшое вмешательство в момент инициализации класса\n",
        "    def __init__(cls, name, bases, dict):\n",
        "        print(\"INIT\", cls.__name__, name, bases, dict)\n",
        "        return super(myobject, cls).__init__(name, bases, dict)\n",
        "# порождение класса на основе метакласса (заменяет оператор class)\n",
        "MyObject = myobject(\"MyObject\", (), {})\n",
        "# обычное наследование другого класса из только что порожденного\n",
        "class MySubObject(MyObject):\n",
        "    def __init__(self, param):\n",
        "        print(param)\n",
        "# получение экземпляра класса\n",
        "myobj = MySubObject(\"parameter\")"
      ],
      "metadata": {
        "colab": {
          "base_uri": "https://localhost:8080/"
        },
        "id": "ktl5PtqRIKPH",
        "outputId": "4447edb1-18c5-4e41-a11e-c55856622169"
      },
      "execution_count": 140,
      "outputs": [
        {
          "output_type": "stream",
          "name": "stdout",
          "text": [
            "NEW myobject MyObject () {}\n",
            "INIT MyObject MyObject () {}\n",
            "NEW myobject MySubObject (<class '__main__.MyObject'>,) {'__module__': '__main__', '__qualname__': 'MySubObject', '__init__': <function MySubObject.__init__ at 0x7f9dfc0bec10>}\n",
            "INIT MySubObject MySubObject (<class '__main__.MyObject'>,) {'__module__': '__main__', '__qualname__': 'MySubObject', '__init__': <function MySubObject.__init__ at 0x7f9dfc0bec10>}\n",
            "parameter\n"
          ]
        }
      ]
    },
    {
      "cell_type": "markdown",
      "source": [
        "Синтаксис описания метода ничем не отличается от описания функции, разве что его положением внутри класса и характерным первым формальным параметром self, с помощью которого внутри метода можно ссылаться на сам экземпляр класса (название self является соглашением, которого придерживаются программисты на Python):"
      ],
      "metadata": {
        "id": "QcuC69q0pGIX"
      }
    },
    {
      "cell_type": "code",
      "source": [
        "class MyClass(object):\n",
        "    def mymethod(self, x):\n",
        "        return x == self._x"
      ],
      "metadata": {
        "id": "RZmrt-e-pHUI"
      },
      "execution_count": 13,
      "outputs": []
    },
    {
      "cell_type": "markdown",
      "source": [
        "Для создания статического метода (только «новые» классы могут иметь статические методы) используется декоратор staticmethod"
      ],
      "metadata": {
        "id": "lNYtZxpapnBM"
      }
    },
    {
      "cell_type": "code",
      "source": [
        "class D(object):  \n",
        "       @staticmethod\n",
        "       def test(x):\n",
        "           return x == 0"
      ],
      "metadata": {
        "id": "Fve8bvuWpn9J"
      },
      "execution_count": 14,
      "outputs": []
    },
    {
      "cell_type": "code",
      "source": [
        "D.test(1)    # доступ к статическому методу можно получать и через класс"
      ],
      "metadata": {
        "colab": {
          "base_uri": "https://localhost:8080/"
        },
        "id": "pYiWVGRxJ2mR",
        "outputId": "231abf3c-b7c0-4095-a473-2aba8153fd98"
      },
      "execution_count": 142,
      "outputs": [
        {
          "output_type": "execute_result",
          "data": {
            "text/plain": [
              "False"
            ]
          },
          "metadata": {},
          "execution_count": 142
        }
      ]
    },
    {
      "cell_type": "code",
      "source": [
        "f = D()"
      ],
      "metadata": {
        "id": "JKdKOKVqJ5GO"
      },
      "execution_count": 143,
      "outputs": []
    },
    {
      "cell_type": "code",
      "source": [
        "f.test(0)    # и через экземпляр класса"
      ],
      "metadata": {
        "colab": {
          "base_uri": "https://localhost:8080/"
        },
        "id": "l3aQj6QpJ76k",
        "outputId": "0f901b5f-08bc-47b8-caf1-63c464c348ff"
      },
      "execution_count": 144,
      "outputs": [
        {
          "output_type": "execute_result",
          "data": {
            "text/plain": [
              "True"
            ]
          },
          "metadata": {},
          "execution_count": 144
        }
      ]
    },
    {
      "cell_type": "markdown",
      "source": [
        "Для создания классового (только «новые» классы могут иметь классовые методы) метода можно использовать декоратор classmethod"
      ],
      "metadata": {
        "id": "aZbHknWeKrdU"
      }
    },
    {
      "cell_type": "code",
      "source": [
        "class A(object):  \n",
        "      def __init__(self, int_val):\n",
        "          self.val = int_val + 1\n",
        "      @classmethod\n",
        "      def fromString(cls, val):   # вместо self принято использовать cls\n",
        "          return cls(int(val))"
      ],
      "metadata": {
        "id": "WuI5B11MKs4l"
      },
      "execution_count": 145,
      "outputs": []
    },
    {
      "cell_type": "code",
      "source": [
        "class B(A):pass"
      ],
      "metadata": {
        "id": "EqeA5eDUKx0s"
      },
      "execution_count": 146,
      "outputs": []
    },
    {
      "cell_type": "code",
      "source": [
        "x = A.fromString(\"1\")"
      ],
      "metadata": {
        "id": "BEUpk40TK0q_"
      },
      "execution_count": 147,
      "outputs": []
    },
    {
      "cell_type": "code",
      "source": [
        "print(x.__class__.__name__)"
      ],
      "metadata": {
        "colab": {
          "base_uri": "https://localhost:8080/"
        },
        "id": "QDqWwjVnK3Q4",
        "outputId": "db684250-8415-428b-d75d-3ed770f1dd99"
      },
      "execution_count": 149,
      "outputs": [
        {
          "output_type": "stream",
          "name": "stdout",
          "text": [
            "A\n"
          ]
        }
      ]
    },
    {
      "cell_type": "code",
      "source": [
        "x = B.fromString(\"1\")"
      ],
      "metadata": {
        "id": "dLbewGm_K9GD"
      },
      "execution_count": 150,
      "outputs": []
    },
    {
      "cell_type": "code",
      "source": [
        "print(x.__class__.__name__)"
      ],
      "metadata": {
        "colab": {
          "base_uri": "https://localhost:8080/"
        },
        "id": "k03QgfLwK_Sw",
        "outputId": "25cb6941-ae1e-484a-ef76-c334b49c7efc"
      },
      "execution_count": 151,
      "outputs": [
        {
          "output_type": "stream",
          "name": "stdout",
          "text": [
            "B\n"
          ]
        }
      ]
    },
    {
      "cell_type": "markdown",
      "source": [
        "Примером для иллюстрации сути мультиметода может служить функция add() из модуля operator:"
      ],
      "metadata": {
        "id": "wMQ4mau7LbCn"
      }
    },
    {
      "cell_type": "code",
      "source": [
        "import operator as op"
      ],
      "metadata": {
        "id": "PJNQ9yAiLcoP"
      },
      "execution_count": 152,
      "outputs": []
    },
    {
      "cell_type": "code",
      "source": [
        "print(op.add(2, 2), op.add(2.0, 2), op.add(2, 2.0), op.add(2j, 2))"
      ],
      "metadata": {
        "colab": {
          "base_uri": "https://localhost:8080/"
        },
        "id": "WonqckbbLjax",
        "outputId": "0010f36d-5123-4c5b-b547-ddee997fc713"
      },
      "execution_count": 153,
      "outputs": [
        {
          "output_type": "stream",
          "name": "stdout",
          "text": [
            "4 4.0 4.0 (2+2j)\n"
          ]
        }
      ]
    },
    {
      "cell_type": "markdown",
      "source": [
        "Реализовать определённые пользователем мультиметоды в Python2 можно было, например, эмулировав мультиметоды с помощью модуля multimethods.py (из Gnosis Utils) :"
      ],
      "metadata": {
        "id": "-U8M1fZbMKiK"
      }
    },
    {
      "cell_type": "code",
      "source": [
        "from multimethods import Dispatch\n",
        "\n",
        "class Asteroid(object): pass\n",
        "class Spaceship(object): pass\n",
        "\n",
        "def asteroid_with_spaceship(a1, s1): print \"A-><-S\"\n",
        "def asteroid_with_asteroid(a1, a2): print \"A-><-A\"\n",
        "def spaceship_with_spaceship(s1, s2): print \"S-><-S\"\n",
        "\n",
        "collide = Dispatch()\n",
        "collide.add_rule((Asteroid, Spaceship), asteroid_with_spaceship)\n",
        "collide.add_rule((Asteroid, Asteroid), asteroid_with_asteroid)\n",
        "collide.add_rule((Spaceship, Spaceship), spaceship_with_spaceship)\n",
        "collide.add_rule((Spaceship, Asteroid), lambda x,y: asteroid_with_spaceship(y,x))\n",
        "\n",
        "a, s1, s2 = Asteroid(), Spaceship(), Spaceship()\n",
        "\n",
        "collision1 = collide(a, s1)[0]\n",
        "collision2 = collide(s1, s2)[0]"
      ],
      "metadata": {
        "id": "DFVbk26-MSX1"
      },
      "execution_count": null,
      "outputs": []
    },
    {
      "cell_type": "markdown",
      "source": [
        "Следующий пример показывает, как работает сериализация и десериализация:"
      ],
      "metadata": {
        "id": "RTGcY5CQhKAR"
      }
    },
    {
      "cell_type": "code",
      "source": [
        "# сериализация\n",
        "import pickle"
      ],
      "metadata": {
        "id": "zDbb7oQBhK-q"
      },
      "execution_count": 2,
      "outputs": []
    },
    {
      "cell_type": "code",
      "source": [
        "p = set([1, 2, 3, 5, 8])"
      ],
      "metadata": {
        "id": "s3mCYv2dhS08"
      },
      "execution_count": 3,
      "outputs": []
    },
    {
      "cell_type": "code",
      "source": [
        "pickle.dumps(p)"
      ],
      "metadata": {
        "colab": {
          "base_uri": "https://localhost:8080/"
        },
        "id": "_0pkL5BUhX5e",
        "outputId": "fbeda230-4535-4f73-b340-177fd896da1b"
      },
      "execution_count": 4,
      "outputs": [
        {
          "output_type": "execute_result",
          "data": {
            "text/plain": [
              "b'\\x80\\x04\\x95\\x0f\\x00\\x00\\x00\\x00\\x00\\x00\\x00\\x8f\\x94(K\\x01K\\x02K\\x03K\\x05K\\x08\\x90.'"
            ]
          },
          "metadata": {},
          "execution_count": 4
        }
      ]
    },
    {
      "cell_type": "code",
      "source": [
        "# де-сериализация\n",
        "import pickle"
      ],
      "metadata": {
        "id": "tmwIAv1shcLs"
      },
      "execution_count": 5,
      "outputs": []
    },
    {
      "cell_type": "code",
      "source": [
        "p = pickle.loads(b'\\x80\\x04\\x95\\x0f\\x00\\x00\\x00\\x00\\x00\\x00\\x00\\x8f\\x94(K\\x01K\\x02K\\x03K\\x05K\\x08\\x90.')"
      ],
      "metadata": {
        "id": "CHavtLDShhst"
      },
      "execution_count": 8,
      "outputs": []
    },
    {
      "cell_type": "code",
      "source": [
        "print(p)"
      ],
      "metadata": {
        "colab": {
          "base_uri": "https://localhost:8080/"
        },
        "id": "DRv3MJ27iL4j",
        "outputId": "b20a1a53-8212-43ff-d302-325830461360"
      },
      "execution_count": 10,
      "outputs": [
        {
          "output_type": "stream",
          "name": "stdout",
          "text": [
            "{1, 2, 3, 5, 8}\n"
          ]
        }
      ]
    },
    {
      "cell_type": "markdown",
      "source": [
        "Объект, который возвращает функция open, работает аналогично словарю, но объекты сериализуются и сохраняются в файле:"
      ],
      "metadata": {
        "id": "nRvsOvSSikUR"
      }
    },
    {
      "cell_type": "code",
      "source": [
        "import shelve"
      ],
      "metadata": {
        "id": "FGmKWJU7irot"
      },
      "execution_count": 11,
      "outputs": []
    },
    {
      "cell_type": "code",
      "source": [
        "s = shelve.open(\"myshelve.bin\")"
      ],
      "metadata": {
        "id": "GWWZCwhaivTq"
      },
      "execution_count": 12,
      "outputs": []
    },
    {
      "cell_type": "code",
      "source": [
        "s['abc'] = [1, 2, 3]"
      ],
      "metadata": {
        "id": "OsDtnH5kizHV"
      },
      "execution_count": 13,
      "outputs": []
    },
    {
      "cell_type": "code",
      "source": [
        "s.close()\n",
        "# ....."
      ],
      "metadata": {
        "id": "DrNN01wDi33w"
      },
      "execution_count": 14,
      "outputs": []
    },
    {
      "cell_type": "code",
      "source": [
        "s = shelve.open(\"myshelve.bin\")"
      ],
      "metadata": {
        "id": "TKiDnQ9Ai8Cl"
      },
      "execution_count": 15,
      "outputs": []
    },
    {
      "cell_type": "code",
      "source": [
        "s['abc']"
      ],
      "metadata": {
        "colab": {
          "base_uri": "https://localhost:8080/"
        },
        "id": "tFjKrsQWjBn5",
        "outputId": "2f1a5715-af21-413a-eb55-e46d2d810794"
      },
      "execution_count": 16,
      "outputs": [
        {
          "output_type": "execute_result",
          "data": {
            "text/plain": [
              "[1, 2, 3]"
            ]
          },
          "metadata": {},
          "execution_count": 16
        }
      ]
    }
  ]
}