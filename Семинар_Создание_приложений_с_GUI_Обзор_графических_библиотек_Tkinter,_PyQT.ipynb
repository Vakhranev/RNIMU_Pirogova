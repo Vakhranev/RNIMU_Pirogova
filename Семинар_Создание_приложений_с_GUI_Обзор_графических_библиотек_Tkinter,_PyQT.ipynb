{
  "nbformat": 4,
  "nbformat_minor": 0,
  "metadata": {
    "colab": {
      "provenance": [],
      "authorship_tag": "ABX9TyPsHFbgxegv85bFP67nBl8r",
      "include_colab_link": true
    },
    "kernelspec": {
      "name": "python3",
      "display_name": "Python 3"
    },
    "language_info": {
      "name": "python"
    }
  },
  "cells": [
    {
      "cell_type": "markdown",
      "metadata": {
        "id": "view-in-github",
        "colab_type": "text"
      },
      "source": [
        "<a href=\"https://colab.research.google.com/github/Vakhranev/RNIMU_Pirogova/blob/main/%D0%A1%D0%B5%D0%BC%D0%B8%D0%BD%D0%B0%D1%80_%D0%A1%D0%BE%D0%B7%D0%B4%D0%B0%D0%BD%D0%B8%D0%B5_%D0%BF%D1%80%D0%B8%D0%BB%D0%BE%D0%B6%D0%B5%D0%BD%D0%B8%D0%B9_%D1%81_GUI_%D0%9E%D0%B1%D0%B7%D0%BE%D1%80_%D0%B3%D1%80%D0%B0%D1%84%D0%B8%D1%87%D0%B5%D1%81%D0%BA%D0%B8%D1%85_%D0%B1%D0%B8%D0%B1%D0%BB%D0%B8%D0%BE%D1%82%D0%B5%D0%BA_Tkinter%2C_PyQT.ipynb\" target=\"_parent\"><img src=\"https://colab.research.google.com/assets/colab-badge.svg\" alt=\"Open In Colab\"/></a>"
      ]
    },
    {
      "cell_type": "code",
      "execution_count": 1,
      "metadata": {
        "colab": {
          "base_uri": "https://localhost:8080/"
        },
        "id": "6X4rwF70BsAM",
        "outputId": "a3476021-0c74-40af-be72-b5d033e4d428"
      },
      "outputs": [
        {
          "output_type": "stream",
          "name": "stdout",
          "text": [
            "Looking in indexes: https://pypi.org/simple, https://us-python.pkg.dev/colab-wheels/public/simple/\n",
            "Collecting pyqt6\n",
            "  Downloading PyQt6-6.4.2-cp37-abi3-manylinux_2_28_x86_64.whl (8.0 MB)\n",
            "\u001b[2K     \u001b[90m━━━━━━━━━━━━━━━━━━━━━━━━━━━━━━━━━━━━━━━━\u001b[0m \u001b[32m8.0/8.0 MB\u001b[0m \u001b[31m46.4 MB/s\u001b[0m eta \u001b[36m0:00:00\u001b[0m\n",
            "\u001b[?25hCollecting PyQt6-sip<14,>=13.4\n",
            "  Downloading PyQt6_sip-13.4.1-cp38-cp38-manylinux_2_5_x86_64.manylinux1_x86_64.whl (311 kB)\n",
            "\u001b[2K     \u001b[90m━━━━━━━━━━━━━━━━━━━━━━━━━━━━━━━━━━━━━━\u001b[0m \u001b[32m311.2/311.2 KB\u001b[0m \u001b[31m10.3 MB/s\u001b[0m eta \u001b[36m0:00:00\u001b[0m\n",
            "\u001b[?25hCollecting PyQt6-Qt6>=6.4.0\n",
            "  Downloading PyQt6_Qt6-6.4.2-py3-none-manylinux_2_28_x86_64.whl (56.7 MB)\n",
            "\u001b[2K     \u001b[90m━━━━━━━━━━━━━━━━━━━━━━━━━━━━━━━━━━━━━━━━\u001b[0m \u001b[32m56.7/56.7 MB\u001b[0m \u001b[31m12.8 MB/s\u001b[0m eta \u001b[36m0:00:00\u001b[0m\n",
            "\u001b[?25hInstalling collected packages: PyQt6-Qt6, PyQt6-sip, pyqt6\n",
            "Successfully installed PyQt6-Qt6-6.4.2 PyQt6-sip-13.4.1 pyqt6-6.4.2\n"
          ]
        }
      ],
      "source": [
        "!pip install pyqt6"
      ]
    },
    {
      "cell_type": "code",
      "source": [
        "!pip install pyqt-tools"
      ],
      "metadata": {
        "colab": {
          "base_uri": "https://localhost:8080/"
        },
        "id": "3smysxsYDTLg",
        "outputId": "6079f0e7-4e31-4727-c2b0-95f6b3e65a04"
      },
      "execution_count": 2,
      "outputs": [
        {
          "output_type": "stream",
          "name": "stdout",
          "text": [
            "Looking in indexes: https://pypi.org/simple, https://us-python.pkg.dev/colab-wheels/public/simple/\n",
            "Collecting pyqt-tools\n",
            "  Downloading pyqt_tools-1.0.0-py3-none-any.whl (4.9 kB)\n",
            "Collecting PyQt5\n",
            "  Downloading PyQt5-5.15.9-cp37-abi3-manylinux_2_17_x86_64.whl (8.4 MB)\n",
            "\u001b[2K     \u001b[90m━━━━━━━━━━━━━━━━━━━━━━━━━━━━━━━━━━━━━━━━\u001b[0m \u001b[32m8.4/8.4 MB\u001b[0m \u001b[31m69.2 MB/s\u001b[0m eta \u001b[36m0:00:00\u001b[0m\n",
            "\u001b[?25hCollecting guiqwt\n",
            "  Downloading guiqwt-4.3.3.tar.gz (3.3 MB)\n",
            "\u001b[2K     \u001b[90m━━━━━━━━━━━━━━━━━━━━━━━━━━━━━━━━━━━━━━━━\u001b[0m \u001b[32m3.3/3.3 MB\u001b[0m \u001b[31m20.7 MB/s\u001b[0m eta \u001b[36m0:00:00\u001b[0m\n",
            "\u001b[?25h  Installing build dependencies ... \u001b[?25l\u001b[?25hdone\n",
            "  Getting requirements to build wheel ... \u001b[?25l\u001b[?25hdone\n",
            "  Installing backend dependencies ... \u001b[?25l\u001b[?25hdone\n",
            "  Preparing metadata (pyproject.toml) ... \u001b[?25l\u001b[?25hdone\n",
            "Requirement already satisfied: numpy in /usr/local/lib/python3.8/dist-packages (from pyqt-tools) (1.22.4)\n",
            "Collecting guidata>=2.3\n",
            "  Using cached guidata-2.3.1-py3-none-any.whl (304 kB)\n",
            "Collecting PythonQwt>=0.10\n",
            "  Downloading PythonQwt-0.10.2-py2.py3-none-any.whl (869 kB)\n",
            "\u001b[2K     \u001b[90m━━━━━━━━━━━━━━━━━━━━━━━━━━━━━━━━━━━━━━\u001b[0m \u001b[32m869.4/869.4 KB\u001b[0m \u001b[31m52.0 MB/s\u001b[0m eta \u001b[36m0:00:00\u001b[0m\n",
            "\u001b[?25hRequirement already satisfied: Pillow in /usr/local/lib/python3.8/dist-packages (from guiqwt->pyqt-tools) (8.4.0)\n",
            "Requirement already satisfied: SciPy>=0.7 in /usr/local/lib/python3.8/dist-packages (from guiqwt->pyqt-tools) (1.7.3)\n",
            "Collecting QtPy>=1.3\n",
            "  Using cached QtPy-2.3.0-py3-none-any.whl (83 kB)\n",
            "Collecting PyQt5-sip<13,>=12.11\n",
            "  Downloading PyQt5_sip-12.11.1-cp38-cp38-manylinux_2_5_x86_64.manylinux1_x86_64.whl (361 kB)\n",
            "\u001b[2K     \u001b[90m━━━━━━━━━━━━━━━━━━━━━━━━━━━━━━━━━━━━━━\u001b[0m \u001b[32m361.8/361.8 KB\u001b[0m \u001b[31m31.5 MB/s\u001b[0m eta \u001b[36m0:00:00\u001b[0m\n",
            "\u001b[?25hCollecting PyQt5-Qt5>=5.15.2\n",
            "  Downloading PyQt5_Qt5-5.15.2-py3-none-manylinux2014_x86_64.whl (59.9 MB)\n",
            "\u001b[2K     \u001b[90m━━━━━━━━━━━━━━━━━━━━━━━━━━━━━━━━━━━━━━━━\u001b[0m \u001b[32m59.9/59.9 MB\u001b[0m \u001b[31m11.3 MB/s\u001b[0m eta \u001b[36m0:00:00\u001b[0m\n",
            "\u001b[?25hRequirement already satisfied: packaging in /usr/local/lib/python3.8/dist-packages (from QtPy>=1.3->guiqwt->pyqt-tools) (23.0)\n",
            "Building wheels for collected packages: guiqwt\n",
            "  Building wheel for guiqwt (pyproject.toml) ... \u001b[?25l\u001b[?25hdone\n",
            "  Created wheel for guiqwt: filename=guiqwt-4.3.3-cp38-cp38-linux_x86_64.whl size=1862468 sha256=cfbc5ced77ef072cd49ecf7c28bb5ca89cd6b9537656ae2139f2fafd06b63b47\n",
            "  Stored in directory: /root/.cache/pip/wheels/50/69/e5/b7535b1379caa50c7c059eef7b59c588d7fb95cdfabc297d61\n",
            "Successfully built guiqwt\n",
            "Installing collected packages: PyQt5-Qt5, QtPy, PyQt5-sip, PythonQwt, PyQt5, guidata, guiqwt, pyqt-tools\n",
            "Successfully installed PyQt5-5.15.9 PyQt5-Qt5-5.15.2 PyQt5-sip-12.11.1 PythonQwt-0.10.2 QtPy-2.3.0 guidata-2.3.1 guiqwt-4.3.3 pyqt-tools-1.0.0\n"
          ]
        }
      ]
    },
    {
      "cell_type": "code",
      "source": [
        "from PyQt6.QtWidgets import QApplication, QWidget\n",
        "import sys\n",
        "\n",
        "app = QApplication(sys.argv)\n",
        "\n",
        "window = QWidget()\n",
        "window.show()\n",
        "\n",
        "app.exec()"
      ],
      "metadata": {
        "id": "6_FjfnmzEUTd"
      },
      "execution_count": null,
      "outputs": []
    }
  ]
}