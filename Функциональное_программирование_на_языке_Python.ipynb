{
  "nbformat": 4,
  "nbformat_minor": 0,
  "metadata": {
    "colab": {
      "provenance": [],
      "authorship_tag": "ABX9TyM0d6FTaV4QjhBM5Y/Pvqys",
      "include_colab_link": true
    },
    "kernelspec": {
      "name": "python3",
      "display_name": "Python 3"
    },
    "language_info": {
      "name": "python"
    }
  },
  "cells": [
    {
      "cell_type": "markdown",
      "metadata": {
        "id": "view-in-github",
        "colab_type": "text"
      },
      "source": [
        "<a href=\"https://colab.research.google.com/github/Vakhranev/RNIMU_Pirogova/blob/main/%D0%A4%D1%83%D0%BD%D0%BA%D1%86%D0%B8%D0%BE%D0%BD%D0%B0%D0%BB%D1%8C%D0%BD%D0%BE%D0%B5_%D0%BF%D1%80%D0%BE%D0%B3%D1%80%D0%B0%D0%BC%D0%BC%D0%B8%D1%80%D0%BE%D0%B2%D0%B0%D0%BD%D0%B8%D0%B5_%D0%BD%D0%B0_%D1%8F%D0%B7%D1%8B%D0%BA%D0%B5_Python.ipynb\" target=\"_parent\"><img src=\"https://colab.research.google.com/assets/colab-badge.svg\" alt=\"Open In Colab\"/></a>"
      ]
    },
    {
      "cell_type": "markdown",
      "source": [
        "Следующие операторы эквивалентны:"
      ],
      "metadata": {
        "id": "Ptte4WrTzahd"
      }
    },
    {
      "cell_type": "code",
      "execution_count": null,
      "metadata": {
        "id": "th3FyPCHzVBi"
      },
      "outputs": [],
      "source": [
        "def func(x, y):\n",
        "    return x**2 + y**2\n",
        "\n",
        "func = lambda x, y: x**2 + y**2"
      ]
    },
    {
      "cell_type": "markdown",
      "source": [
        "Пример задания фактических аргументов:"
      ],
      "metadata": {
        "id": "EcrEPchc0Pwb"
      }
    },
    {
      "cell_type": "code",
      "source": [
        "func(2, y=7)"
      ],
      "metadata": {
        "colab": {
          "base_uri": "https://localhost:8080/"
        },
        "id": "AlqbXr840VoG",
        "outputId": "9efd8152-b9e3-46c0-d35d-7077495a98fa"
      },
      "execution_count": null,
      "outputs": [
        {
          "output_type": "execute_result",
          "data": {
            "text/plain": [
              "53"
            ]
          },
          "metadata": {},
          "execution_count": 2
        }
      ]
    },
    {
      "cell_type": "markdown",
      "source": [
        "Определив функцию с помощью лямбда-выражения, можно тут же её использовать:"
      ],
      "metadata": {
        "id": "yWQ8wBrx1YJm"
      }
    },
    {
      "cell_type": "code",
      "source": [
        "(lambda x: x+2)(5)"
      ],
      "metadata": {
        "colab": {
          "base_uri": "https://localhost:8080/"
        },
        "id": "Tmr7I79G1Y-N",
        "outputId": "0a413332-4d5c-4286-a35b-daa4a6630b82"
      },
      "execution_count": null,
      "outputs": [
        {
          "output_type": "execute_result",
          "data": {
            "text/plain": [
              "7"
            ]
          },
          "metadata": {},
          "execution_count": 3
        }
      ]
    },
    {
      "cell_type": "markdown",
      "source": [
        "Для вычисления списка квадратов положительных целых чисел, меньших 10, можно использовать выражение:"
      ],
      "metadata": {
        "id": "7DL-yqnE3J-X"
      }
    },
    {
      "cell_type": "code",
      "source": [
        "l = [x**2 for x in range(1,10)]\n",
        "l"
      ],
      "metadata": {
        "colab": {
          "base_uri": "https://localhost:8080/"
        },
        "id": "s8yyQDeu3MRi",
        "outputId": "73b59d72-113d-406d-daeb-0922d7aa8935"
      },
      "execution_count": null,
      "outputs": [
        {
          "output_type": "execute_result",
          "data": {
            "text/plain": [
              "[1, 4, 9, 16, 25, 36, 49, 64, 81]"
            ]
          },
          "metadata": {},
          "execution_count": 20
        }
      ]
    },
    {
      "cell_type": "markdown",
      "source": [
        "Функция map() позволяет обрабатывать одну или несколько последовательностей с помощью заданной функции:"
      ],
      "metadata": {
        "id": "WmrfIiWq3vEg"
      }
    },
    {
      "cell_type": "code",
      "source": [
        "list1 = [7, 2, 3, 10, 12]"
      ],
      "metadata": {
        "id": "roHGyMWJ3x9G"
      },
      "execution_count": null,
      "outputs": []
    },
    {
      "cell_type": "code",
      "source": [
        "list2 = [-1, 1, -5, 4, 6]"
      ],
      "metadata": {
        "id": "r1hcwWEe31de"
      },
      "execution_count": null,
      "outputs": []
    },
    {
      "cell_type": "code",
      "source": [
        "list(map(lambda x, y: x*y, list1, list2))"
      ],
      "metadata": {
        "colab": {
          "base_uri": "https://localhost:8080/"
        },
        "id": "mr1H0tvf34-K",
        "outputId": "309fc76f-fbdf-4ecd-ce51-30451be2e7f0"
      },
      "execution_count": null,
      "outputs": [
        {
          "output_type": "execute_result",
          "data": {
            "text/plain": [
              "[-7, 2, -15, 40, 72]"
            ]
          },
          "metadata": {},
          "execution_count": 26
        }
      ]
    },
    {
      "cell_type": "markdown",
      "source": [
        "Аналогичного (только при одинаковой длине списков) результата можно добиться с помощью списочных выражений:"
      ],
      "metadata": {
        "id": "mXi2YmsZ5DIJ"
      }
    },
    {
      "cell_type": "code",
      "source": [
        "[x*y for x, y in zip(list1, list2)]"
      ],
      "metadata": {
        "colab": {
          "base_uri": "https://localhost:8080/"
        },
        "id": "GF537dHv5Cgp",
        "outputId": "227c3395-9547-45c1-a15a-ba70784cf0cb"
      },
      "execution_count": null,
      "outputs": [
        {
          "output_type": "execute_result",
          "data": {
            "text/plain": [
              "[-7, 2, -15, 40, 72]"
            ]
          },
          "metadata": {},
          "execution_count": 6
        }
      ]
    },
    {
      "cell_type": "markdown",
      "source": [
        "В результирующем списке только те значения, для которых значение функции filter() для элемента истинно:"
      ],
      "metadata": {
        "id": "NA-FF2yn5RhE"
      }
    },
    {
      "cell_type": "code",
      "source": [
        "numbers = [10, 4, 2, -1, 6]"
      ],
      "metadata": {
        "id": "TbMIHhYc5U4o"
      },
      "execution_count": null,
      "outputs": []
    },
    {
      "cell_type": "code",
      "source": [
        "x = filter(lambda x: x < 5, numbers)     # В результат попадают только те элементы x, для которых x < 5 истинно\n",
        "list(x)"
      ],
      "metadata": {
        "colab": {
          "base_uri": "https://localhost:8080/"
        },
        "id": "2K2MSu5l5e8p",
        "outputId": "e62383c7-7e9d-4f34-c747-ad2e63350c54"
      },
      "execution_count": null,
      "outputs": [
        {
          "output_type": "execute_result",
          "data": {
            "text/plain": [
              "[4, 2, -1]"
            ]
          },
          "metadata": {},
          "execution_count": 10
        }
      ]
    },
    {
      "cell_type": "markdown",
      "source": [
        "То же самое с помощью списковых выражений:"
      ],
      "metadata": {
        "id": "gcizb6EB5q6o"
      }
    },
    {
      "cell_type": "code",
      "source": [
        "numbers = [10, 4, 2, -1, 6]"
      ],
      "metadata": {
        "id": "yJs_QzpH5rx6"
      },
      "execution_count": null,
      "outputs": []
    },
    {
      "cell_type": "code",
      "source": [
        "[x for x in numbers if x < 5]"
      ],
      "metadata": {
        "colab": {
          "base_uri": "https://localhost:8080/"
        },
        "id": "72R30BGV5w4t",
        "outputId": "e5db0e7d-1570-4c9f-8789-cf5124686b39"
      },
      "execution_count": null,
      "outputs": [
        {
          "output_type": "execute_result",
          "data": {
            "text/plain": [
              "[4, 2, -1]"
            ]
          },
          "metadata": {},
          "execution_count": 12
        }
      ]
    },
    {
      "cell_type": "markdown",
      "source": [
        "Произведение элементов списка может быть вычислено так (Python 3):"
      ],
      "metadata": {
        "id": "xjYtJiqj6KXv"
      }
    },
    {
      "cell_type": "code",
      "source": [
        "from functools import reduce"
      ],
      "metadata": {
        "id": "joTF6x0u6Nce"
      },
      "execution_count": null,
      "outputs": []
    },
    {
      "cell_type": "code",
      "source": [
        "numbers = [2, 3, 4, 5, 6]"
      ],
      "metadata": {
        "id": "UALTmA4W6TgZ"
      },
      "execution_count": null,
      "outputs": []
    },
    {
      "cell_type": "code",
      "source": [
        "reduce(lambda res, x: res*x, numbers, 1)"
      ],
      "metadata": {
        "colab": {
          "base_uri": "https://localhost:8080/"
        },
        "id": "7qIDn84d6U_B",
        "outputId": "c39483f1-f4e1-477b-e43c-f7488256cf98"
      },
      "execution_count": null,
      "outputs": [
        {
          "output_type": "execute_result",
          "data": {
            "text/plain": [
              "720"
            ]
          },
          "metadata": {},
          "execution_count": 15
        }
      ]
    },
    {
      "cell_type": "markdown",
      "source": [
        "Вычисления происходят в следующем порядке:"
      ],
      "metadata": {
        "id": "KcFi_cTQ6dNH"
      }
    },
    {
      "cell_type": "code",
      "source": [
        "(((2*3)*4)*5)*6"
      ],
      "metadata": {
        "colab": {
          "base_uri": "https://localhost:8080/"
        },
        "id": "5J1QbMXU6c0w",
        "outputId": "ea726beb-1835-485b-9bb1-fc8c025904c7"
      },
      "execution_count": null,
      "outputs": [
        {
          "output_type": "execute_result",
          "data": {
            "text/plain": [
              "720"
            ]
          },
          "metadata": {},
          "execution_count": 16
        }
      ]
    },
    {
      "cell_type": "markdown",
      "source": [
        "Если список пустой, просто используется третий параметр (в случае произведения нуля множителей это 1):"
      ],
      "metadata": {
        "id": "AFYooVB16pMe"
      }
    },
    {
      "cell_type": "code",
      "source": [
        "reduce(lambda res, x: res*x, [], 1)"
      ],
      "metadata": {
        "colab": {
          "base_uri": "https://localhost:8080/"
        },
        "id": "v0kC48I26p_t",
        "outputId": "3241c146-422a-4cc2-99c3-293c740dfcaf"
      },
      "execution_count": null,
      "outputs": [
        {
          "output_type": "execute_result",
          "data": {
            "text/plain": [
              "1"
            ]
          },
          "metadata": {},
          "execution_count": 17
        }
      ]
    },
    {
      "cell_type": "markdown",
      "source": [
        "Следующий пример показывает реверс списка:"
      ],
      "metadata": {
        "id": "-q3kPlFe6y_-"
      }
    },
    {
      "cell_type": "code",
      "source": [
        "reduce(lambda res, x: [x]+res, [1, 2, 3, 4], [])"
      ],
      "metadata": {
        "colab": {
          "base_uri": "https://localhost:8080/"
        },
        "id": "F1NsiiEu60K7",
        "outputId": "6db49fab-55e3-4ac1-ce6f-5b630a76ce85"
      },
      "execution_count": null,
      "outputs": [
        {
          "output_type": "execute_result",
          "data": {
            "text/plain": [
              "[4, 3, 2, 1]"
            ]
          },
          "metadata": {},
          "execution_count": 18
        }
      ]
    },
    {
      "cell_type": "markdown",
      "source": [
        "Для наиболее распространенных операций в Python есть встроенные функции:"
      ],
      "metadata": {
        "id": "5NHluEPF6_gc"
      }
    },
    {
      "cell_type": "code",
      "source": [
        "numbers = [1, 2, 3, 4, 5]"
      ],
      "metadata": {
        "id": "xiNfZga17AoH"
      },
      "execution_count": null,
      "outputs": []
    },
    {
      "cell_type": "code",
      "source": [
        "sum(numbers)"
      ],
      "metadata": {
        "colab": {
          "base_uri": "https://localhost:8080/"
        },
        "id": "oT8JElV97HT0",
        "outputId": "619c3cd1-07f5-4228-9603-c89b0db00fdc"
      },
      "execution_count": null,
      "outputs": [
        {
          "output_type": "execute_result",
          "data": {
            "text/plain": [
              "15"
            ]
          },
          "metadata": {},
          "execution_count": 20
        }
      ]
    },
    {
      "cell_type": "code",
      "source": [
        "list(reversed(numbers))"
      ],
      "metadata": {
        "colab": {
          "base_uri": "https://localhost:8080/"
        },
        "id": "NU-OJYCZ7LJV",
        "outputId": "23dbcdc7-90cd-43ba-8d34-fee282eb83be"
      },
      "execution_count": null,
      "outputs": [
        {
          "output_type": "execute_result",
          "data": {
            "text/plain": [
              "[5, 4, 3, 2, 1]"
            ]
          },
          "metadata": {},
          "execution_count": 21
        }
      ]
    },
    {
      "cell_type": "markdown",
      "source": [
        "Функция для применения другой функции к позиционным и именованным аргументам, заданным списком и словарем соответственно (Python 2):"
      ],
      "metadata": {
        "id": "TvjlFRzt8_0Z"
      }
    },
    {
      "cell_type": "code",
      "source": [
        "def f(x, y, z, a=None, b=None):\n",
        "    print x, y, z, a, b"
      ],
      "metadata": {
        "id": "BHzzbvDsAMc4"
      },
      "execution_count": null,
      "outputs": []
    },
    {
      "cell_type": "code",
      "source": [
        "apply(f, [1, 2, 3], {'a': 4, 'b': 5})"
      ],
      "metadata": {
        "id": "fO1tZJt69OK6"
      },
      "execution_count": null,
      "outputs": []
    },
    {
      "cell_type": "markdown",
      "source": [
        "В Python 3 вместо функции apply() следует использовать специальный синтаксис:"
      ],
      "metadata": {
        "id": "kjhSjJdPANjY"
      }
    },
    {
      "cell_type": "code",
      "source": [
        "def f(x, y, z, a=None, b=None):\n",
        "    print(x, y, z, a, b)"
      ],
      "metadata": {
        "id": "Rc0EDDpOAYhq"
      },
      "execution_count": null,
      "outputs": []
    },
    {
      "cell_type": "code",
      "source": [
        "f(*[1, 2, 3], **{'a': 4, 'b': 5})"
      ],
      "metadata": {
        "colab": {
          "base_uri": "https://localhost:8080/"
        },
        "id": "zXwvqVXMAg48",
        "outputId": "b658c560-e83b-4d16-a453-b7cb97af0162"
      },
      "execution_count": null,
      "outputs": [
        {
          "output_type": "stream",
          "name": "stdout",
          "text": [
            "1 2 3 4 5\n"
          ]
        }
      ]
    },
    {
      "cell_type": "markdown",
      "source": [
        "Функции, определяемые внутри других функций, представляют собой полноценные замыкания (англ. closures):"
      ],
      "metadata": {
        "id": "DeyEvUKmArEA"
      }
    },
    {
      "cell_type": "code",
      "source": [
        "def multiplier(n):\n",
        "    \"multiplier(n) возвращает функцию, умножающую на n\"\n",
        "    def mul(k):\n",
        "        return n*k\n",
        "    return mul\n",
        "# того же эффекта можно добиться выражением\n",
        "# multiplier = lambda n: lambda k: n*k\n",
        "mul2 = multiplier(2) # mul2 - функция, умножающая на 2, например, mul2(5) == 10"
      ],
      "metadata": {
        "id": "J6MnG8DBAtkt"
      },
      "execution_count": null,
      "outputs": []
    },
    {
      "cell_type": "markdown",
      "source": [
        "Следующий пример иллюстрирует применение перечисляющего и сортирующего итераторов (итератор не может быть напечатан оператором print, поэтому оставшиеся в нем значения были помещены в список):"
      ],
      "metadata": {
        "id": "7sXhGGzVBMVU"
      }
    },
    {
      "cell_type": "code",
      "source": [
        "it = enumerate(sorted(\"PYTHON\"))  # итератор для перечисленных отсортированных букв слова"
      ],
      "metadata": {
        "id": "UmSZkjEyBNaa"
      },
      "execution_count": null,
      "outputs": []
    },
    {
      "cell_type": "code",
      "source": [
        "next(it)                         # следующее значение"
      ],
      "metadata": {
        "colab": {
          "base_uri": "https://localhost:8080/"
        },
        "id": "5_Z1frUXBTkK",
        "outputId": "de185dd9-e839-4b0b-fbe3-4bcbbeeac604"
      },
      "execution_count": null,
      "outputs": [
        {
          "output_type": "execute_result",
          "data": {
            "text/plain": [
              "(0, 'H')"
            ]
          },
          "metadata": {},
          "execution_count": 6
        }
      ]
    },
    {
      "cell_type": "code",
      "source": [
        "print(list(it))                    # оставшиеся значения в виде списка"
      ],
      "metadata": {
        "colab": {
          "base_uri": "https://localhost:8080/"
        },
        "id": "XfsqAA-OBoPL",
        "outputId": "9aec06c1-2c3d-442e-a2f1-0c5289b96406"
      },
      "execution_count": null,
      "outputs": [
        {
          "output_type": "stream",
          "name": "stdout",
          "text": [
            "[(1, 'N'), (2, 'O'), (3, 'P'), (4, 'T'), (5, 'Y')]\n"
          ]
        }
      ]
    },
    {
      "cell_type": "markdown",
      "source": [
        "Следующий пример иллюстрирует использование модуля itertools:"
      ],
      "metadata": {
        "id": "CxlyMGQqBwoB"
      }
    },
    {
      "cell_type": "code",
      "source": [
        "from itertools import chain"
      ],
      "metadata": {
        "id": "y6NBKlYRBxaE"
      },
      "execution_count": null,
      "outputs": []
    },
    {
      "cell_type": "code",
      "source": [
        "print(list(chain(iter(\"ABC\"), iter(\"DEF\"))))"
      ],
      "metadata": {
        "colab": {
          "base_uri": "https://localhost:8080/"
        },
        "id": "pjqtzsiwB8PK",
        "outputId": "142d3c7a-6993-460d-8670-49c3ac762729"
      },
      "execution_count": null,
      "outputs": [
        {
          "output_type": "stream",
          "name": "stdout",
          "text": [
            "['A', 'B', 'C', 'D', 'E', 'F']\n"
          ]
        }
      ]
    },
    {
      "cell_type": "code",
      "source": [
        "from math import cos\n",
        "from itertools import groupby\n",
        "lst = [cos(x*.4) for x in range(30)]                       # косинусоида\n",
        "[list(y) for k, y in groupby(lst, lambda x: x > 0)]        # группы положительных и отрицательных чисел"
      ],
      "metadata": {
        "colab": {
          "base_uri": "https://localhost:8080/"
        },
        "id": "VpkwbJMKCe1f",
        "outputId": "14ef8f7f-823e-4b68-ff1e-b4acb5f1f4b5"
      },
      "execution_count": null,
      "outputs": [
        {
          "output_type": "execute_result",
          "data": {
            "text/plain": [
              "[[1.0, 0.9210609940028851, 0.6967067093471654, 0.3623577544766734],\n",
              " [-0.029199522301288815,\n",
              "  -0.4161468365471424,\n",
              "  -0.7373937155412458,\n",
              "  -0.9422223406686583,\n",
              "  -0.9982947757947531,\n",
              "  -0.896758416334147,\n",
              "  -0.6536436208636119,\n",
              "  -0.30733286997841935],\n",
              " [0.08749898343944727,\n",
              "  0.4685166713003771,\n",
              "  0.7755658785102502,\n",
              "  0.960170286650366,\n",
              "  0.9931849187581926,\n",
              "  0.8693974903498248,\n",
              "  0.6083513145322546,\n",
              "  0.25125984258225487],\n",
              " [-0.14550003380861354,\n",
              "  -0.5192886541166856,\n",
              "  -0.811093014061656,\n",
              "  -0.974843621404164,\n",
              "  -0.9846878557941267,\n",
              "  -0.8390715290764524,\n",
              "  -0.5609842574272288,\n",
              "  -0.1943299064553348],\n",
              " [0.20300486381875213, 0.568289629767975]]"
            ]
          },
          "metadata": {},
          "execution_count": 10
        }
      ]
    },
    {
      "cell_type": "markdown",
      "source": [
        "В Python 2.5 появился модуль functools и в частности возможность частичного применения функций:"
      ],
      "metadata": {
        "id": "nk3whaG3C3mr"
      }
    },
    {
      "cell_type": "code",
      "source": [
        "from  functools import partial"
      ],
      "metadata": {
        "id": "hMRY-C5EC2x0"
      },
      "execution_count": null,
      "outputs": []
    },
    {
      "cell_type": "code",
      "source": [
        "def myfun(a, b): return a + b"
      ],
      "metadata": {
        "id": "NLYM23X0C8Lh"
      },
      "execution_count": null,
      "outputs": []
    },
    {
      "cell_type": "code",
      "source": [
        "myfun1 = partial(myfun, 1)"
      ],
      "metadata": {
        "id": "noYOmxbzDDbh"
      },
      "execution_count": null,
      "outputs": []
    },
    {
      "cell_type": "code",
      "source": [
        "print(myfun1(2))"
      ],
      "metadata": {
        "colab": {
          "base_uri": "https://localhost:8080/"
        },
        "id": "1iPeRpiJDJMS",
        "outputId": "c2c9af71-769f-4e5e-9c76-1141c24811de"
      },
      "execution_count": null,
      "outputs": [
        {
          "output_type": "stream",
          "name": "stdout",
          "text": [
            "3\n"
          ]
        }
      ]
    },
    {
      "cell_type": "markdown",
      "source": [
        "С помощью функции print можно проследить, какие функции реально вызывались:"
      ],
      "metadata": {
        "id": "dQNO0GztGdXG"
      }
    },
    {
      "cell_type": "code",
      "source": [
        "def f():\n",
        "    print(\"f\")\n",
        "    return \"f\""
      ],
      "metadata": {
        "id": "7flwAxQNGgVl"
      },
      "execution_count": null,
      "outputs": []
    },
    {
      "cell_type": "code",
      "source": [
        "def g():\n",
        "    print(\"g\")\n",
        "    return \"g\""
      ],
      "metadata": {
        "id": "yNQMhgynG1u0"
      },
      "execution_count": null,
      "outputs": []
    },
    {
      "cell_type": "code",
      "source": [
        "f() if True else g()"
      ],
      "metadata": {
        "colab": {
          "base_uri": "https://localhost:8080/",
          "height": 53
        },
        "id": "VUK6aOwMHByg",
        "outputId": "5a7563ad-dfbf-49ea-bc9e-e5d8243ff17b"
      },
      "execution_count": null,
      "outputs": [
        {
          "output_type": "stream",
          "name": "stdout",
          "text": [
            "f\n"
          ]
        },
        {
          "output_type": "execute_result",
          "data": {
            "text/plain": [
              "'f'"
            ],
            "application/vnd.google.colaboratory.intrinsic+json": {
              "type": "string"
            }
          },
          "metadata": {},
          "execution_count": 18
        }
      ]
    },
    {
      "cell_type": "code",
      "source": [
        "f() if False else g()"
      ],
      "metadata": {
        "colab": {
          "base_uri": "https://localhost:8080/",
          "height": 53
        },
        "id": "KL9jY6vfHOfQ",
        "outputId": "6fccfc44-9a6f-4c13-f1f0-598f5dbd9142"
      },
      "execution_count": null,
      "outputs": [
        {
          "output_type": "stream",
          "name": "stdout",
          "text": [
            "g\n"
          ]
        },
        {
          "output_type": "execute_result",
          "data": {
            "text/plain": [
              "'g'"
            ],
            "application/vnd.google.colaboratory.intrinsic+json": {
              "type": "string"
            }
          },
          "metadata": {},
          "execution_count": 19
        }
      ]
    },
    {
      "cell_type": "markdown",
      "source": [
        "Ниже представлено замыкание и эквивалентный ему функтор:"
      ],
      "metadata": {
        "id": "Ji1lNXKOFRI9"
      }
    },
    {
      "cell_type": "code",
      "source": [
        "def addClosure(val1):\n",
        "    def closure(val2):\n",
        "        return val1 + val2\n",
        "    return closure\n",
        "    \n",
        "class AddFunctor(object):\n",
        "    def __init__(self, val1):\n",
        "        self.val1 = val1\n",
        "    def __call__(self, val2):\n",
        "        return self.val1 + val2\n",
        "\n",
        "cl = addClosure(2)\n",
        "fn = AddFunctor(2)\n",
        "\n",
        "print(cl(1), fn(1))  # напечатает \"3 3"
      ],
      "metadata": {
        "colab": {
          "base_uri": "https://localhost:8080/"
        },
        "id": "1dfFVwVUFR9L",
        "outputId": "191b50a5-4a91-4803-e2b8-7d684aad2caa"
      },
      "execution_count": 2,
      "outputs": [
        {
          "output_type": "stream",
          "name": "stdout",
          "text": [
            "3 3\n"
          ]
        }
      ]
    },
    {
      "cell_type": "code",
      "source": [
        "class SlowFunctor(object):\n",
        "\tdef __init__(self,func):\n",
        "\t\tself.func = func\n",
        "\tdef __add__(self,val):                  # сложение функтора с чем-то\n",
        "\t\tif isinstance(val,SlowFunctor): # если это функтор\n",
        "\t\t\tnew_func = lambda *dt,**mp : self(*dt,**mp) + val(*dt,**mp)\n",
        "\t\telse:                           # если что-то другое\n",
        "\t\t\tnew_func = lambda *dt,**mp : self(*dt,**mp) + val\n",
        "\t\treturn SlowFunctor( new_func )\n",
        "\tdef __call__(self,*dt):\n",
        "\t\treturn self.func(*dt)\n",
        "\n",
        "import math\n",
        "def test1(x):\n",
        "    return x + 1\n",
        "def test2(x):\n",
        "    return math.sin(x)\n",
        "\n",
        "func = SlowFunctor(test1)                # создаем функтор\n",
        "func = func + SlowFunctor(test2)         # этот функтор можно складывать с функторами\n",
        "func = (lambda x : x + 2)(func)          # и числами, передавать в качестве параметра в функции\n",
        "                                         # как будто это число\n",
        "\n",
        "def func2(x):                            # Эквивалентная функция\n",
        "    return test1(x) + test2(x) + 2\n",
        "\n",
        "print(func(math.pi))                      # печатает 6.14159265359\n",
        "print(func(math.pi) - func2(math.pi))     # печатает 0.0"
      ],
      "metadata": {
        "colab": {
          "base_uri": "https://localhost:8080/"
        },
        "id": "TmwNwppEGDR0",
        "outputId": "d9020ff2-b863-4df3-b583-21b4f16622e2"
      },
      "execution_count": 4,
      "outputs": [
        {
          "output_type": "stream",
          "name": "stdout",
          "text": [
            "6.141592653589793\n",
            "0.0\n"
          ]
        }
      ]
    }
  ]
}