{
  "nbformat": 4,
  "nbformat_minor": 0,
  "metadata": {
    "colab": {
      "provenance": [],
      "authorship_tag": "ABX9TyNHUvo6FnaUMZUagZSenIHZ",
      "include_colab_link": true
    },
    "kernelspec": {
      "name": "python3",
      "display_name": "Python 3"
    },
    "language_info": {
      "name": "python"
    }
  },
  "cells": [
    {
      "cell_type": "markdown",
      "metadata": {
        "id": "view-in-github",
        "colab_type": "text"
      },
      "source": [
        "<a href=\"https://colab.research.google.com/github/Vakhranev/RNIMU_Pirogova/blob/main/%D0%A1%D0%BE%D0%B7%D0%B4%D0%B0%D0%BD%D0%B8%D0%B5_%D0%BF%D1%80%D0%B8%D0%BB%D0%BE%D0%B6%D0%B5%D0%BD%D0%B8%D0%B9_%D1%81_GUI.ipynb\" target=\"_parent\"><img src=\"https://colab.research.google.com/assets/colab-badge.svg\" alt=\"Open In Colab\"/></a>"
      ]
    },
    {
      "cell_type": "markdown",
      "source": [
        "macOS: Вы можете установить PyQt с помощью Homebrew:"
      ],
      "metadata": {
        "id": "yUOd5QEdzPTT"
      }
    },
    {
      "cell_type": "code",
      "source": [
        "$ brew install pyqt6"
      ],
      "metadata": {
        "id": "wf_Sm290zaxJ"
      },
      "execution_count": null,
      "outputs": []
    },
    {
      "cell_type": "markdown",
      "source": [
        "Установить всё, что нам понадобится, одной командой можно, например, так:"
      ],
      "metadata": {
        "id": "uAM8KU9U3-uG"
      }
    },
    {
      "cell_type": "code",
      "source": [
        "# для Fedora:\n",
        "$ sudo dnf install python3-qt6 qt-creator\n",
        "# для Debian/Ubuntu:\n",
        "$ sudo apt install python3-qt6 pyqt6-dev-tools qtcreator"
      ],
      "metadata": {
        "id": "ZpE7uGko3_ya"
      },
      "execution_count": null,
      "outputs": []
    },
    {
      "cell_type": "markdown",
      "source": [
        "В терминале вы должны увидеть следующее:"
      ],
      "metadata": {
        "id": "tsEyxlJM4YlU"
      }
    },
    {
      "cell_type": "code",
      "source": [
        "$ pyuic6\n",
        "Error: one input ui-file must be specified"
      ],
      "metadata": {
        "id": "TGv6DAEG4eVG"
      },
      "execution_count": null,
      "outputs": []
    },
    {
      "cell_type": "markdown",
      "source": [
        "Чтобы конвертировать .ui-файл в Python-файл с названием design.py, используйте следующую команду:"
      ],
      "metadata": {
        "id": "Jm7cQd4BZrLB"
      }
    },
    {
      "cell_type": "code",
      "source": [
        "$ pyuic6 path/to/design.ui -o output/path/to/design.py"
      ],
      "metadata": {
        "id": "m3g0gKy1Zsbu"
      },
      "execution_count": null,
      "outputs": []
    },
    {
      "cell_type": "code",
      "source": [
        "!pyuic6 design.ui -o design.py"
      ],
      "metadata": {
        "id": "zcRKesu3hWjq"
      },
      "execution_count": 1,
      "outputs": []
    },
    {
      "cell_type": "code",
      "source": [
        "pip install PyQt6"
      ],
      "metadata": {
        "colab": {
          "base_uri": "https://localhost:8080/"
        },
        "id": "Bl7aETZAae-k",
        "outputId": "12876559-36f3-476f-b433-17567b721884"
      },
      "execution_count": 2,
      "outputs": [
        {
          "output_type": "stream",
          "name": "stdout",
          "text": [
            "Looking in indexes: https://pypi.org/simple, https://us-python.pkg.dev/colab-wheels/public/simple/\n",
            "Requirement already satisfied: PyQt6 in /usr/local/lib/python3.8/dist-packages (6.4.2)\n",
            "Requirement already satisfied: PyQt6-Qt6>=6.4.0 in /usr/local/lib/python3.8/dist-packages (from PyQt6) (6.4.2)\n",
            "Requirement already satisfied: PyQt6-sip<14,>=13.4 in /usr/local/lib/python3.8/dist-packages (from PyQt6) (13.4.1)\n"
          ]
        }
      ]
    },
    {
      "cell_type": "markdown",
      "source": [
        "Для Python GUI приложения понадобятся следующие модули:"
      ],
      "metadata": {
        "id": "cxLH4xP1aPZo"
      }
    },
    {
      "cell_type": "code",
      "source": [
        "import sys  # sys нужен для передачи argv в QApplication\n",
        "from PyQt6 import QtWidgets"
      ],
      "metadata": {
        "id": "Hka-CfCAaPCD"
      },
      "execution_count": 1,
      "outputs": []
    },
    {
      "cell_type": "markdown",
      "source": [
        "Также нам нужен код дизайна, который мы создали ранее, поэтому его мы тоже импортируем:"
      ],
      "metadata": {
        "id": "pBh-h8MWa7HD"
      }
    },
    {
      "cell_type": "code",
      "source": [
        "import design  # Это наш конвертированный файл дизайна"
      ],
      "metadata": {
        "id": "9WaNNI2ka9M7"
      },
      "execution_count": 4,
      "outputs": []
    },
    {
      "cell_type": "markdown",
      "source": [
        "Вместо того, чтобы полностью перезаписывать файл каждый раз при изменении дизайна, мы создадим новый класс ExampleApp, который объединим с кодом дизайна для использования всех его функций:"
      ],
      "metadata": {
        "id": "dzXBEkeZh-Uz"
      }
    },
    {
      "cell_type": "code",
      "source": [
        "class ExampleApp(QtWidgets.QMainWindow, design.Ui_MainWindow):\n",
        "    def __init__(self):\n",
        "        # Это здесь нужно для доступа к переменным, методам\n",
        "        # и т.д. в файле design.py\n",
        "        super().__init__()\n",
        "        self.setupUi(self)  # Это нужно для инициализации нашего дизайна"
      ],
      "metadata": {
        "id": "5cl9xJmBh_ar"
      },
      "execution_count": 5,
      "outputs": []
    },
    {
      "cell_type": "markdown",
      "source": [
        "С инициализацией класса при запуске кода мы разберёмся в функции main():"
      ],
      "metadata": {
        "id": "9iL4r31GigV-"
      }
    },
    {
      "cell_type": "code",
      "source": [
        "def main():\n",
        "    app = QtWidgets.QApplication(sys.argv)  # Новый экземпляр QApplication\n",
        "    window = ExampleApp()  # Создаём объект класса ExampleApp\n",
        "    window.show()  # Показываем окно\n",
        "    app.exec()  # и запускаем приложение"
      ],
      "metadata": {
        "id": "ivsqYHpBi1o_"
      },
      "execution_count": 6,
      "outputs": []
    },
    {
      "cell_type": "markdown",
      "source": [
        "И чтобы выполнить эту функцию, мы воспользуемся привычной конструкцией:"
      ],
      "metadata": {
        "id": "P7G4IWvpjFmV"
      }
    },
    {
      "cell_type": "code",
      "source": [
        "if __name__ == '__main__':  # Если мы запускаем файл напрямую, а не импортируем\n",
        "    main()  # то запускаем функцию main()"
      ],
      "metadata": {
        "id": "jeowOB4mjfmD"
      },
      "execution_count": null,
      "outputs": []
    },
    {
      "cell_type": "markdown",
      "source": [
        "В итоге main.py выглядит таким образом:"
      ],
      "metadata": {
        "id": "dEDiQtttjrpU"
      }
    },
    {
      "cell_type": "code",
      "source": [
        "import sys  # sys нужен для передачи argv в QApplication\n",
        "from PyQt6 import QtWidgets\n",
        "import design  # Это наш конвертированный файл дизайна\n",
        "\n",
        "class ExampleApp(QtWidgets.QMainWindow, design.Ui_MainWindow):\n",
        "    def __init__(self):\n",
        "        # Это здесь нужно для доступа к переменным, методам\n",
        "        # и т.д. в файле design.py\n",
        "        super().__init__()\n",
        "        self.setupUi(self)  # Это нужно для инициализации нашего дизайна\n",
        "\n",
        "def main():\n",
        "    app = QtWidgets.QApplication(sys.argv)  # Новый экземпляр QApplication\n",
        "    window = ExampleApp()  # Создаём объект класса ExampleApp\n",
        "    window.show()  # Показываем окно\n",
        "    app.exec()  # и запускаем приложение\n",
        "\n",
        "if __name__ == '__main__':  # Если мы запускаем файл напрямую, а не импортируем\n",
        "    main()  # то запускаем функцию main()"
      ],
      "metadata": {
        "id": "JjDu-7d2j5-7"
      },
      "execution_count": null,
      "outputs": []
    },
    {
      "cell_type": "markdown",
      "source": [
        "Привязать к функции событие вроде нажатия на кнопку можно следующим образом:"
      ],
      "metadata": {
        "id": "YGIqJhP4qOUC"
      }
    },
    {
      "cell_type": "code",
      "source": [
        "self.btnBrowse.clicked.connect(self.browse_folder)"
      ],
      "metadata": {
        "id": "2puD7NCTqPJ0"
      },
      "execution_count": null,
      "outputs": []
    },
    {
      "cell_type": "markdown",
      "source": [
        "Для открытия диалога выбора папки мы можем использовать встроенный метод QtWidgets.QFileDialog.getExistingDirectory:"
      ],
      "metadata": {
        "id": "WHVMySNP3IcB"
      }
    },
    {
      "cell_type": "code",
      "source": [
        "directory = QtWidgets.QFileDialog.getExistingDirectory(self, \"Выберите папку\")"
      ],
      "metadata": {
        "id": "eGh_y2sN3JV1"
      },
      "execution_count": null,
      "outputs": []
    },
    {
      "cell_type": "markdown",
      "source": [
        "Для отображения содержимого директории нам нужно импортировать os:"
      ],
      "metadata": {
        "id": "l3tHDpy43WqY"
      }
    },
    {
      "cell_type": "code",
      "source": [
        "import os"
      ],
      "metadata": {
        "id": "ja9rNH683WFu"
      },
      "execution_count": 1,
      "outputs": []
    },
    {
      "cell_type": "markdown",
      "source": [
        "И получить список содержимого следующим образом:"
      ],
      "metadata": {
        "id": "63ZbXYOc3fpA"
      }
    },
    {
      "cell_type": "code",
      "source": [
        "os.listdir(path)"
      ],
      "metadata": {
        "id": "3ziAuHBb3fLg"
      },
      "execution_count": null,
      "outputs": []
    },
    {
      "cell_type": "markdown",
      "source": [
        "В итоге функция browse_folder должна выглядеть так:"
      ],
      "metadata": {
        "id": "kHnhiJSB3p_G"
      }
    },
    {
      "cell_type": "code",
      "source": [
        "def browse_folder(self):\n",
        "    self.listWidget.clear()  # На случай, если в списке уже есть элементы\n",
        "    directory = QtWidgets.QFileDialog.getExistingDirectory(self, \"Выберите папку\")\n",
        "    # открыть диалог выбора директории и установить значение переменной\n",
        "    # равной пути к выбранной директории\n",
        "\n",
        "    if directory:  # не продолжать выполнение, если пользователь не выбрал директорию\n",
        "        for file_name in os.listdir(directory):  # для каждого файла в директории\n",
        "            self.listWidget.addItem(file_name)   # добавить файл в listWidget"
      ],
      "metadata": {
        "id": "-zcWQAxH3sVo"
      },
      "execution_count": null,
      "outputs": []
    },
    {
      "cell_type": "markdown",
      "source": [
        "Так выглядит весь код нашего Python GUI приложения:"
      ],
      "metadata": {
        "id": "giIXn6vk5fxI"
      }
    },
    {
      "cell_type": "code",
      "source": [
        "import sys  # sys нужен для передачи argv в QApplication\n",
        "import os  # Отсюда нам понадобятся методы для отображения содержимого директорий\n",
        "\n",
        "from PyQt6 import QtWidgets\n",
        "\n",
        "import design  # Это наш конвертированный файл дизайна\n",
        "\n",
        "class ExampleApp(QtWidgets.QMainWindow, design.Ui_MainWindow):\n",
        "    def __init__(self):\n",
        "        # Это здесь нужно для доступа к переменным, методам\n",
        "        # и т.д. в файле design.py\n",
        "        super().__init__()\n",
        "        self.setupUi(self)  # Это нужно для инициализации нашего дизайна\n",
        "        self.btnBrowse.clicked.connect(self.browse_folder)  # Выполнить функцию browse_folder\n",
        "                                                            # при нажатии кнопки\n",
        "\n",
        "    def browse_folder(self):\n",
        "        self.listWidget.clear()  # На случай, если в списке уже есть элементы\n",
        "        directory = QtWidgets.QFileDialog.getExistingDirectory(self, \"Выберите папку\")\n",
        "        # открыть диалог выбора директории и установить значение переменной\n",
        "        # равной пути к выбранной директории\n",
        "\n",
        "        if directory:  # не продолжать выполнение, если пользователь не выбрал директорию\n",
        "            for file_name in os.listdir(directory):  # для каждого файла в директории\n",
        "                self.listWidget.addItem(file_name)   # добавить файл в listWidget\n",
        "\n",
        "def main():\n",
        "    app = QtWidgets.QApplication(sys.argv)  # Новый экземпляр QApplication\n",
        "    window = ExampleApp()  # Создаём объект класса ExampleApp\n",
        "    window.show()  # Показываем окно\n",
        "    app.exec()  # и запускаем приложение\n",
        "\n",
        "if __name__ == '__main__':  # Если мы запускаем файл напрямую, а не импортируем\n",
        "    main()  # то запускаем функцию main()"
      ],
      "metadata": {
        "id": "kaez912K5hJN"
      },
      "execution_count": null,
      "outputs": []
    }
  ]
}