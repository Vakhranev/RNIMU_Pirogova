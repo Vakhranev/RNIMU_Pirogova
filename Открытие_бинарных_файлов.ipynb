{
  "nbformat": 4,
  "nbformat_minor": 0,
  "metadata": {
    "colab": {
      "provenance": [],
      "authorship_tag": "ABX9TyMHH08/TuckjVtdgWJfxn44",
      "include_colab_link": true
    },
    "kernelspec": {
      "name": "python3",
      "display_name": "Python 3"
    },
    "language_info": {
      "name": "python"
    }
  },
  "cells": [
    {
      "cell_type": "markdown",
      "metadata": {
        "id": "view-in-github",
        "colab_type": "text"
      },
      "source": [
        "<a href=\"https://colab.research.google.com/github/Vakhranev/RNIMU_Pirogova/blob/main/%D0%9E%D1%82%D0%BA%D1%80%D1%8B%D1%82%D0%B8%D0%B5_%D0%B1%D0%B8%D0%BD%D0%B0%D1%80%D0%BD%D1%8B%D1%85_%D1%84%D0%B0%D0%B9%D0%BB%D0%BE%D0%B2.ipynb\" target=\"_parent\"><img src=\"https://colab.research.google.com/assets/colab-badge.svg\" alt=\"Open In Colab\"/></a>"
      ]
    },
    {
      "cell_type": "markdown",
      "source": [
        "Режимы ‘wb’, ‘w+b’ – запись информации в файлы"
      ],
      "metadata": {
        "id": "9U4Pn_qA-iyG"
      }
    },
    {
      "cell_type": "code",
      "execution_count": 1,
      "metadata": {
        "id": "xOiLjy0v-e65"
      },
      "outputs": [],
      "source": [
        "# Двоичный режим\n",
        "# Запись списка в файл\n",
        "\n",
        "# Заданный список\n",
        "A = [1, True, 2.88]\n",
        "\n",
        "# Открыть файл для записи\n",
        "f1 = open('myfile1.bin', 'wb')\n",
        "f2 = open('myfile2.bin', 'w+b')\n",
        "\n",
        "# Для удобной работы в двоичном формате\n",
        "# целесообразно использовать возможности модуля pickle\n",
        "import pickle\n",
        "\n",
        "# метод dump() - записывает объект в файл\n",
        "pickle.dump(A,f1)\n",
        "pickle.dump(A,f2)\n",
        "\n",
        "# Закрыть файлы, с которыми связаны объекты f1, f2\n",
        "f1.close()\n",
        "f2.close()"
      ]
    },
    {
      "cell_type": "markdown",
      "source": [
        "7.2.2. Режимы ‘rb’, ‘r+b’ – чтение информации из файлов"
      ],
      "metadata": {
        "id": "Z_uq9E8t-saS"
      }
    },
    {
      "cell_type": "code",
      "source": [
        "# Двоичный режим\n",
        "# Чтение списка из файла\n",
        "\n",
        "# Для удобной работы в двоичном формате\n",
        "# целесообразно использовать возможности модуля pickle\n",
        "import pickle\n",
        "\n",
        "# Прочитать список из файла\n",
        "f1 = open('myfile1.bin', 'rb')\n",
        "f2 = open('myfile2.bin', 'r+b')\n",
        "\n",
        "# метод load() - загружает данные из файла\n",
        "B1 = pickle.load(f1)\n",
        "B2 = pickle.load(f2)\n",
        "\n",
        "print(\"B1 = \", B1)\n",
        "print(\"B2 = \", B2)\n",
        "\n",
        "f1.close()\n",
        "f2.close()"
      ],
      "metadata": {
        "colab": {
          "base_uri": "https://localhost:8080/"
        },
        "id": "cngwpzsQ-v09",
        "outputId": "fb4170d0-7663-4a79-c2aa-d640cf0463c1"
      },
      "execution_count": 2,
      "outputs": [
        {
          "output_type": "stream",
          "name": "stdout",
          "text": [
            "B1 =  [1, True, 2.88]\n",
            "B2 =  [1, True, 2.88]\n"
          ]
        }
      ]
    },
    {
      "cell_type": "markdown",
      "source": [
        "Особенности открытия файла для обновления в двоичном формате. Режимы ‘w+b’, ‘r+b’\n",
        "Если в функции open() параметр mode содержит символ ‘+’, то файл открывается для обновления. Здесь возможны два варианта параметра mode:\n",
        "\n",
        "mode = ‘w+b’. В этом случае файл обрежется до 0 байт;\n",
        "mode = ‘r+b’. В этом случае файл открывается без обрезания с сохранением предыдущей информации. Указатель чтения/записи устанавливается в конец файла."
      ],
      "metadata": {
        "id": "yQa_AJIZ-7f8"
      }
    }
  ]
}