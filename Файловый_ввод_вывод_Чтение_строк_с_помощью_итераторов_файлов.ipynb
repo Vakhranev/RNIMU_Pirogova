{
  "nbformat": 4,
  "nbformat_minor": 0,
  "metadata": {
    "colab": {
      "provenance": [],
      "authorship_tag": "ABX9TyMgpG2HSO08GV8OiN2rjO84",
      "include_colab_link": true
    },
    "kernelspec": {
      "name": "python3",
      "display_name": "Python 3"
    },
    "language_info": {
      "name": "python"
    }
  },
  "cells": [
    {
      "cell_type": "markdown",
      "metadata": {
        "id": "view-in-github",
        "colab_type": "text"
      },
      "source": [
        "<a href=\"https://colab.research.google.com/github/Vakhranev/RNIMU_Pirogova/blob/main/%D0%A4%D0%B0%D0%B9%D0%BB%D0%BE%D0%B2%D1%8B%D0%B9_%D0%B2%D0%B2%D0%BE%D0%B4_%D0%B2%D1%8B%D0%B2%D0%BE%D0%B4_%D0%A7%D1%82%D0%B5%D0%BD%D0%B8%D0%B5_%D1%81%D1%82%D1%80%D0%BE%D0%BA_%D1%81_%D0%BF%D0%BE%D0%BC%D0%BE%D1%89%D1%8C%D1%8E_%D0%B8%D1%82%D0%B5%D1%80%D0%B0%D1%82%D0%BE%D1%80%D0%BE%D0%B2_%D1%84%D0%B0%D0%B9%D0%BB%D0%BE%D0%B2.ipynb\" target=\"_parent\"><img src=\"https://colab.research.google.com/assets/colab-badge.svg\" alt=\"Open In Colab\"/></a>"
      ]
    },
    {
      "cell_type": "code",
      "source": [
        "open(file_path, mode='r')"
      ],
      "metadata": {
        "id": "9Om8NC_1ui8T"
      },
      "execution_count": null,
      "outputs": []
    },
    {
      "cell_type": "code",
      "source": [
        "f.write(text)"
      ],
      "metadata": {
        "id": "xs9bfY27vHgF"
      },
      "execution_count": null,
      "outputs": []
    },
    {
      "cell_type": "code",
      "source": [
        "f.read()"
      ],
      "metadata": {
        "id": "vegMow0jvLGN"
      },
      "execution_count": null,
      "outputs": []
    },
    {
      "cell_type": "code",
      "source": [
        "f.close()"
      ],
      "metadata": {
        "id": "AR0-omB6vPXf"
      },
      "execution_count": null,
      "outputs": []
    },
    {
      "cell_type": "markdown",
      "source": [
        "Пример работы с файлом:"
      ],
      "metadata": {
        "id": "dbgvBzFXvTOZ"
      }
    },
    {
      "cell_type": "code",
      "source": [
        "# Открываем файл для записи\n",
        "out_file = open('data.txt', 'w')\n",
        "\n",
        "# Пишем в файл две строки\n",
        "out_file.write('Hello\\n')\n",
        "out_file.write('World\\n')\n",
        "\n",
        "# Закрываем файл\n",
        "out_file.close()\n",
        "\n",
        "# Снова открываем этот же файл, но уже для чтения\n",
        "in_file = open('data.txt', 'r')\n",
        "\n",
        "# Файл — итерируемый объект. Следовательно, для\n",
        "# его построчного чтения можно использовать цикл for\n",
        "for line in in_file:\n",
        "    print(f'Got line: {line}')\n",
        "\n",
        "in_file.close()"
      ],
      "metadata": {
        "colab": {
          "base_uri": "https://localhost:8080/"
        },
        "id": "UVPhKCZVvT56",
        "outputId": "6b05f22a-c457-4acc-f299-9667556bc249"
      },
      "execution_count": 3,
      "outputs": [
        {
          "output_type": "stream",
          "name": "stdout",
          "text": [
            "Got line: Hello\n",
            "\n",
            "Got line: World\n",
            "\n"
          ]
        }
      ]
    },
    {
      "cell_type": "markdown",
      "source": [
        "В прежних версиях Python принятым способом построчного чтения информации из файла в цикле for было чтение файла в список, а затем обход этого списка в цикле:"
      ],
      "metadata": {
        "id": "H4n0crkWz2JA"
      }
    },
    {
      "cell_type": "code",
      "source": [
        " file = open('data.txt')"
      ],
      "metadata": {
        "id": "xF9Vw0Jtz3Kr"
      },
      "execution_count": 5,
      "outputs": []
    },
    {
      "cell_type": "code",
      "source": [
        "for line in file.readlines(): # НЕ ДЕЛАЙТЕ ТАК БОЛЬШЕ!\n",
        "\n",
        "    print(line, end='')"
      ],
      "metadata": {
        "colab": {
          "base_uri": "https://localhost:8080/"
        },
        "id": "nlDF1rGT0Hek",
        "outputId": "8af5e986-9295-4107-84bc-dbc382e28d68"
      },
      "execution_count": 9,
      "outputs": [
        {
          "output_type": "stream",
          "name": "stdout",
          "text": [
            "Hello\n",
            "World\n"
          ]
        }
      ]
    },
    {
      "cell_type": "markdown",
      "source": [
        "Практическая выгода заключается в том, что теперь нет необходимости вызывать метод readlines в цикле for, чтобы построчно просканировать содержимое файла, — итератор читает строки автоматически:"
      ],
      "metadata": {
        "id": "WLiBKEST0ehl"
      }
    },
    {
      "cell_type": "code",
      "source": [
        "file = open('data.txt')"
      ],
      "metadata": {
        "id": "7M0ty1e90gwn"
      },
      "execution_count": 11,
      "outputs": []
    },
    {
      "cell_type": "code",
      "source": [
        "for line in file: # нет необходимости вызывать readlines\n",
        "\n",
        "    print(line, end='') # итератор каждый раз читает следующую строку"
      ],
      "metadata": {
        "colab": {
          "base_uri": "https://localhost:8080/"
        },
        "id": "AqhS0D210pQm",
        "outputId": "fd537fb6-c8ef-4014-ae1c-95e964b215e9"
      },
      "execution_count": 12,
      "outputs": [
        {
          "output_type": "stream",
          "name": "stdout",
          "text": [
            "Hello\n",
            "World\n"
          ]
        }
      ]
    },
    {
      "cell_type": "markdown",
      "source": [
        "Более того — теперь файл можно открывать непосредственно в инструкции цикла, как временный, который будет автоматически закрыт сборщиком мусора после выхода из цикла (так как часто цикл — это единственная ссылка на объект файла):"
      ],
      "metadata": {
        "id": "ReEIiRk200mZ"
      }
    },
    {
      "cell_type": "code",
      "source": [
        "for line in open('data.txt'): # еще короче: временный объект файла\n",
        "    print(line, end='') # будет закрыт при утилизации автоматически"
      ],
      "metadata": {
        "colab": {
          "base_uri": "https://localhost:8080/"
        },
        "id": "7VwvzKPz01gX",
        "outputId": "3d3137f6-1450-49a7-a8ec-240ed16a3df1"
      },
      "execution_count": 14,
      "outputs": [
        {
          "output_type": "stream",
          "name": "stdout",
          "text": [
            "Hello\n",
            "World\n"
          ]
        }
      ]
    },
    {
      "cell_type": "markdown",
      "source": [
        "Итератор — это всего лишь метод `__next__` (вызываемый встроенной функцией next), который своим поведением напоминает метод readline, за исключением того, что по достижении конца файла методы чтения возвращают пустую строку, а итератор возбуждает исключение, чтобы прервать итерации:"
      ],
      "metadata": {
        "id": "tOL0Xk6h1ptT"
      }
    },
    {
      "cell_type": "code",
      "source": [
        "file = open('data.txt') # методы чтения: пустая строка в конце файла"
      ],
      "metadata": {
        "id": "5gmnsFyT10z1"
      },
      "execution_count": 15,
      "outputs": []
    },
    {
      "cell_type": "code",
      "source": [
        " file.readline()"
      ],
      "metadata": {
        "colab": {
          "base_uri": "https://localhost:8080/",
          "height": 35
        },
        "id": "YIyg-0Ja17HY",
        "outputId": "ed7fcada-4943-426e-a501-0363105c714b"
      },
      "execution_count": 16,
      "outputs": [
        {
          "output_type": "execute_result",
          "data": {
            "text/plain": [
              "'Hello\\n'"
            ],
            "application/vnd.google.colaboratory.intrinsic+json": {
              "type": "string"
            }
          },
          "metadata": {},
          "execution_count": 16
        }
      ]
    },
    {
      "cell_type": "code",
      "source": [
        "file.readline()"
      ],
      "metadata": {
        "colab": {
          "base_uri": "https://localhost:8080/",
          "height": 35
        },
        "id": "YgwUcgS61_yk",
        "outputId": "c60bfa5f-3d41-427b-ff59-99dc77bf4a8d"
      },
      "execution_count": 17,
      "outputs": [
        {
          "output_type": "execute_result",
          "data": {
            "text/plain": [
              "'World\\n'"
            ],
            "application/vnd.google.colaboratory.intrinsic+json": {
              "type": "string"
            }
          },
          "metadata": {},
          "execution_count": 17
        }
      ]
    },
    {
      "cell_type": "code",
      "source": [
        "file.readline()"
      ],
      "metadata": {
        "colab": {
          "base_uri": "https://localhost:8080/",
          "height": 35
        },
        "id": "19Qoxjey2DdF",
        "outputId": "5d3e3955-3c71-4ed3-b589-66bf261a1dd4"
      },
      "execution_count": 18,
      "outputs": [
        {
          "output_type": "execute_result",
          "data": {
            "text/plain": [
              "''"
            ],
            "application/vnd.google.colaboratory.intrinsic+json": {
              "type": "string"
            }
          },
          "metadata": {},
          "execution_count": 18
        }
      ]
    },
    {
      "cell_type": "code",
      "source": [
        "file = open('data.txt') # итераторы: исключение в конце файла"
      ],
      "metadata": {
        "id": "ascX8Gm_2G2b"
      },
      "execution_count": 20,
      "outputs": []
    },
    {
      "cell_type": "code",
      "source": [
        "file.__next__() # не нужно предварительно вызывать iter(file), потому что файлы имеют собственные итераторы"
      ],
      "metadata": {
        "colab": {
          "base_uri": "https://localhost:8080/",
          "height": 35
        },
        "id": "_3FruU5h2Nj2",
        "outputId": "a83e58d3-56e1-4dbe-856c-dbd8b222deb3"
      },
      "execution_count": 21,
      "outputs": [
        {
          "output_type": "execute_result",
          "data": {
            "text/plain": [
              "'Hello\\n'"
            ],
            "application/vnd.google.colaboratory.intrinsic+json": {
              "type": "string"
            }
          },
          "metadata": {},
          "execution_count": 21
        }
      ]
    },
    {
      "cell_type": "code",
      "source": [
        "file.__next__()"
      ],
      "metadata": {
        "colab": {
          "base_uri": "https://localhost:8080/",
          "height": 35
        },
        "id": "WtxfzkgO2frC",
        "outputId": "8aa4820b-15b5-4476-bb3e-484609bf8628"
      },
      "execution_count": 22,
      "outputs": [
        {
          "output_type": "execute_result",
          "data": {
            "text/plain": [
              "'World\\n'"
            ],
            "application/vnd.google.colaboratory.intrinsic+json": {
              "type": "string"
            }
          },
          "metadata": {},
          "execution_count": 22
        }
      ]
    },
    {
      "cell_type": "code",
      "source": [
        " file.__next__()"
      ],
      "metadata": {
        "colab": {
          "base_uri": "https://localhost:8080/",
          "height": 169
        },
        "id": "M6uhkDYa2mdP",
        "outputId": "0292d791-7972-44ae-b43a-a989e486e7f4"
      },
      "execution_count": 23,
      "outputs": [
        {
          "output_type": "error",
          "ename": "StopIteration",
          "evalue": "ignored",
          "traceback": [
            "\u001b[0;31m---------------------------------------------------------------------------\u001b[0m",
            "\u001b[0;31mStopIteration\u001b[0m                             Traceback (most recent call last)",
            "\u001b[0;32m<ipython-input-23-4fa38f77f885>\u001b[0m in \u001b[0;36m<module>\u001b[0;34m\u001b[0m\n\u001b[0;32m----> 1\u001b[0;31m \u001b[0mfile\u001b[0m\u001b[0;34m.\u001b[0m\u001b[0m__next__\u001b[0m\u001b[0;34m(\u001b[0m\u001b[0;34m)\u001b[0m\u001b[0;34m\u001b[0m\u001b[0;34m\u001b[0m\u001b[0m\n\u001b[0m",
            "\u001b[0;31mStopIteration\u001b[0m: "
          ]
        }
      ]
    },
    {
      "cell_type": "markdown",
      "source": [
        "Интересно отметить, что итераторы автоматически используются во всех итерационных контекстах, включая конструктор списка, генераторы списков, функцию map и оператор in проверки на вхождение:"
      ],
      "metadata": {
        "id": "6fLby-yh2qS_"
      }
    },
    {
      "cell_type": "code",
      "source": [
        "open('data.txt').readlines() # всегда читает строки"
      ],
      "metadata": {
        "colab": {
          "base_uri": "https://localhost:8080/"
        },
        "id": "Dj6rhAjg2ylJ",
        "outputId": "82f168ab-a535-4aa8-93c7-2eeac1476453"
      },
      "execution_count": 24,
      "outputs": [
        {
          "output_type": "execute_result",
          "data": {
            "text/plain": [
              "['Hello\\n', 'World\\n']"
            ]
          },
          "metadata": {},
          "execution_count": 24
        }
      ]
    },
    {
      "cell_type": "code",
      "source": [
        "list(open('data.txt')) # выполняет обход строк"
      ],
      "metadata": {
        "colab": {
          "base_uri": "https://localhost:8080/"
        },
        "id": "FIOZRp3x23pn",
        "outputId": "985e042e-3c3f-4e3d-bc6e-9b489a0986ef"
      },
      "execution_count": 25,
      "outputs": [
        {
          "output_type": "execute_result",
          "data": {
            "text/plain": [
              "['Hello\\n', 'World\\n']"
            ]
          },
          "metadata": {},
          "execution_count": 25
        }
      ]
    },
    {
      "cell_type": "code",
      "source": [
        "lines = [line.rstrip() for line in open('data.txt')] # генераторы"
      ],
      "metadata": {
        "id": "W_iGq9Jy3Art"
      },
      "execution_count": 26,
      "outputs": []
    },
    {
      "cell_type": "code",
      "source": [
        "lines"
      ],
      "metadata": {
        "colab": {
          "base_uri": "https://localhost:8080/"
        },
        "id": "mPA6zVd13J9O",
        "outputId": "24969371-4d12-4187-ea28-8c4faeb03ec2"
      },
      "execution_count": 27,
      "outputs": [
        {
          "output_type": "execute_result",
          "data": {
            "text/plain": [
              "['Hello', 'World']"
            ]
          },
          "metadata": {},
          "execution_count": 27
        }
      ]
    },
    {
      "cell_type": "code",
      "source": [
        "list(map(str.split, open('data.txt'))) # применение функции"
      ],
      "metadata": {
        "colab": {
          "base_uri": "https://localhost:8080/"
        },
        "id": "VYzXvhpS3N6V",
        "outputId": "13dd2df2-5b21-4722-fb93-b13a3e14a368"
      },
      "execution_count": 29,
      "outputs": [
        {
          "output_type": "execute_result",
          "data": {
            "text/plain": [
              "[['Hello'], ['World']]"
            ]
          },
          "metadata": {},
          "execution_count": 29
        }
      ]
    },
    {
      "cell_type": "code",
      "source": [
        "line = 'Hello\\n'"
      ],
      "metadata": {
        "id": "-6ceeQE63SMJ"
      },
      "execution_count": 31,
      "outputs": []
    },
    {
      "cell_type": "code",
      "source": [
        "line in open('data.txt') # проверка на вхождение"
      ],
      "metadata": {
        "colab": {
          "base_uri": "https://localhost:8080/"
        },
        "id": "c5n-D21D3YWV",
        "outputId": "264fb5a5-266c-46c1-c18c-4a30c4c11455"
      },
      "execution_count": 32,
      "outputs": [
        {
          "output_type": "execute_result",
          "data": {
            "text/plain": [
              "True"
            ]
          },
          "metadata": {},
          "execution_count": 32
        }
      ]
    }
  ]
}